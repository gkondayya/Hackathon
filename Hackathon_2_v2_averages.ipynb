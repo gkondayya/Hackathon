{
  "nbformat": 4,
  "nbformat_minor": 0,
  "metadata": {
    "colab": {
      "name": "Hackathon_2_v2_averages.ipynb",
      "provenance": [],
      "collapsed_sections": [
        "GVCuBPkEvLvS"
      ],
      "include_colab_link": true
    },
    "kernelspec": {
      "display_name": "Python 3",
      "language": "python",
      "name": "python3"
    },
    "language_info": {
      "codemirror_mode": {
        "name": "ipython",
        "version": 3
      },
      "file_extension": ".py",
      "mimetype": "text/x-python",
      "name": "python",
      "nbconvert_exporter": "python",
      "pygments_lexer": "ipython3",
      "version": "3.8.3"
    }
  },
  "cells": [
    {
      "cell_type": "markdown",
      "metadata": {
        "id": "view-in-github",
        "colab_type": "text"
      },
      "source": [
        "<a href=\"https://colab.research.google.com/github/gkondayya/Hackathon/blob/master/Hackathon_2_v2_averages.ipynb\" target=\"_parent\"><img src=\"https://colab.research.google.com/assets/colab-badge.svg\" alt=\"Open In Colab\"/></a>"
      ]
    },
    {
      "cell_type": "code",
      "metadata": {
        "id": "htTYM83ivLsu"
      },
      "source": [
        "import os\n",
        "import numpy as np\n",
        "import pandas as pd\n",
        "import matplotlib.pyplot as plt\n",
        "import seaborn as sns\n",
        "%matplotlib inline"
      ],
      "execution_count": null,
      "outputs": []
    },
    {
      "cell_type": "code",
      "metadata": {
        "id": "-hYWJC3avLs5",
        "colab": {
          "resources": {
            "http://localhost:8080/nbextensions/google.colab/files.js": {
              "data": "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",
              "ok": true,
              "headers": [
                [
                  "content-type",
                  "application/javascript"
                ]
              ],
              "status": 200,
              "status_text": "OK"
            }
          },
          "base_uri": "https://localhost:8080/",
          "height": 296
        },
        "outputId": "23eadefc-17a8-49a2-df3f-31f39cb00468"
      },
      "source": [
        "from google.colab import files\n",
        "uploaded = files.upload()\n",
        "\n",
        "df1 = pd.read_csv('train.csv')\n",
        "\n",
        "#country = pd.read_excel('Country-Code.xlsx')\n",
        "#country.head()\n",
        "df1.shape\n",
        "df1.isnull().sum()\n"
      ],
      "execution_count": null,
      "outputs": [
        {
          "output_type": "display_data",
          "data": {
            "text/html": [
              "\n",
              "     <input type=\"file\" id=\"files-81ef9a75-5408-49b1-929c-30b2ab826e13\" name=\"files[]\" multiple disabled\n",
              "        style=\"border:none\" />\n",
              "     <output id=\"result-81ef9a75-5408-49b1-929c-30b2ab826e13\">\n",
              "      Upload widget is only available when the cell has been executed in the\n",
              "      current browser session. Please rerun this cell to enable.\n",
              "      </output>\n",
              "      <script src=\"/nbextensions/google.colab/files.js\"></script> "
            ],
            "text/plain": [
              "<IPython.core.display.HTML object>"
            ]
          },
          "metadata": {
            "tags": []
          }
        },
        {
          "output_type": "stream",
          "text": [
            "Saving train.csv to train.csv\n"
          ],
          "name": "stdout"
        },
        {
          "output_type": "execute_result",
          "data": {
            "text/plain": [
              "Id        0\n",
              "x0_t0     0\n",
              "x0_t1     0\n",
              "x0_t2     0\n",
              "x0_t3     0\n",
              "         ..\n",
              "x54_t3    0\n",
              "x54_t4    0\n",
              "x54_t5    0\n",
              "x54_t6    0\n",
              "y2        0\n",
              "Length: 387, dtype: int64"
            ]
          },
          "metadata": {
            "tags": []
          },
          "execution_count": 2
        }
      ]
    },
    {
      "cell_type": "markdown",
      "metadata": {
        "id": "GVCuBPkEvLvS"
      },
      "source": [
        "# Modelling"
      ]
    },
    {
      "cell_type": "markdown",
      "metadata": {
        "id": "Ypm1oaT0vLvS"
      },
      "source": [
        "# 1. DATA CLEANING:  Dropping 1 row with NA values using dropna\n",
        " "
      ]
    },
    {
      "cell_type": "code",
      "metadata": {
        "id": "fpXnhzRbvLvS",
        "colab": {
          "base_uri": "https://localhost:8080/"
        },
        "outputId": "d7406e93-bbd6-4bb2-a201-439fd9068a1c"
      },
      "source": [
        "df1.columns\n"
      ],
      "execution_count": null,
      "outputs": [
        {
          "output_type": "stream",
          "text": [
            "0 j\n",
            "1 j\n",
            "2 j\n"
          ],
          "name": "stdout"
        }
      ]
    },
    {
      "cell_type": "code",
      "metadata": {
        "id": "g1Id_Y9SvLva",
        "colab": {
          "base_uri": "https://localhost:8080/",
          "height": 226
        },
        "outputId": "22412efa-6bf9-4f5a-9251-f047198e360f"
      },
      "source": [
        "df2=df1.dropna()\n",
        "\n",
        "train_df = pd.DataFrame({})\n",
        "train_df[\"Id\"] = df2[\"Id\"]\n",
        "\n",
        "train_df[\"X0\"] = df2[[\"x0_t0\",\"x0_t1\",\"x0_t2\",\"x0_t3\",\"x0_t4\",\"x0_t5\",\"x0_t6\"]].mean(axis=1)\n",
        "train_df[\"X1\"] = df2[[\"x1_t1\",\"x1_t1\",\"x1_t2\",\"x1_t3\",\"x1_t4\",\"x1_t5\",\"x1_t6\"]].mean(axis=1)\n",
        "train_df[\"X2\"] = df2[[\"x2_t0\",\"x2_t1\",\"x2_t2\",\"x2_t3\",\"x2_t4\",\"x2_t5\",\"x2_t6\"]].mean(axis=1)\n",
        "train_df[\"X3\"] = df2[[\"x3_t0\",\"x3_t1\",\"x3_t2\",\"x3_t3\",\"x3_t4\",\"x3_t5\",\"x3_t6\"]].mean(axis=1)\n",
        "train_df[\"x4\"] = df2[[\"x4_t0\",\"x4_t1\",\"x4_t2\",\"x4_t3\",\"x4_t4\",\"x4_t5\",\"x4_t6\"]].mean(axis=1)\n",
        "train_df[\"X5\"] = df2[[\"x5_t0\",\"x5_t1\",\"x5_t2\",\"x5_t3\",\"x5_t4\",\"x5_t5\",\"x5_t6\"]].mean(axis=1)\n",
        "train_df[\"X6\"] = df2[[\"x6_t0\",\"x6_t1\",\"x6_t2\",\"x6_t3\",\"x6_t4\",\"x6_t5\",\"x6_t6\"]].mean(axis=1)\n",
        "train_df[\"X7\"] = df2[[\"x7_t0\",\"x7_t1\",\"x7_t2\",\"x7_t3\",\"x7_t4\",\"x7_t5\",\"x7_t6\"]].mean(axis=1)\n",
        "train_df[\"X8\"] = df2[[\"x8_t0\",\"x8_t1\",\"x8_t2\",\"x8_t3\",\"x8_t4\",\"x8_t5\",\"x8_t6\"]].mean(axis=1)\n",
        "train_df[\"X9\"] = df2[[\"x9_t0\",\"x9_t1\",\"x9_t2\",\"x9_t3\",\"x9_t4\",\"x9_t5\",\"x9_t6\"]].mean(axis=1)\n",
        "train_df[\"X10\"] = df2[[\"x10_t0\",\"x10_t1\",\"x10_t2\",\"x10_t3\",\"x10_t4\",\"x10_t5\",\"x10_t6\"]].mean(axis=1)\n",
        "train_df[\"X11\"] = df2[[\"x11_t0\",\"x11_t1\",\"x11_t2\",\"x11_t3\",\"x11_t4\",\"x11_t5\",\"x11_t6\"]].mean(axis=1)\n",
        "train_df[\"X12\"] = df2[[\"x12_t0\",\"x12_t1\",\"x12_t2\",\"x12_t3\",\"x12_t4\",\"x12_t5\",\"x12_t6\"]].mean(axis=1)\n",
        "train_df[\"X13\"] = df2[[\"x13_t0\",\"x13_t1\",\"x13_t2\",\"x13_t3\",\"x13_t4\",\"x13_t5\",\"x13_t6\"]].mean(axis=1)\n",
        "train_df[\"X14\"] = df2[[\"x14_t0\",\"x14_t1\",\"x14_t2\",\"x14_t3\",\"x14_t4\",\"x14_t5\",\"x14_t6\"]].mean(axis=1)\n",
        "train_df[\"X15\"] = df2[[\"x15_t0\",\"x15_t1\",\"x15_t2\",\"x15_t3\",\"x15_t4\",\"x15_t5\",\"x15_t6\"]].mean(axis=1)\n",
        "train_df[\"X16\"] = df2[[\"x16_t0\",\"x16_t1\",\"x16_t2\",\"x16_t3\",\"x16_t4\",\"x16_t5\",\"x16_t6\"]].mean(axis=1)\n",
        "train_df[\"X17\"] = df2[[\"x17_t0\",\"x17_t1\",\"x17_t2\",\"x17_t3\",\"x17_t4\",\"x17_t5\",\"x17_t6\"]].mean(axis=1)\n",
        "train_df[\"X18\"] = df2[[\"x18_t0\",\"x18_t1\",\"x18_t2\",\"x18_t3\",\"x18_t4\",\"x18_t5\",\"x18_t6\"]].mean(axis=1)\n",
        "train_df[\"X19\"] = df2[[\"x19_t0\",\"x19_t1\",\"x19_t2\",\"x19_t3\",\"x19_t4\",\"x19_t5\",\"x19_t6\"]].mean(axis=1)\n",
        "train_df[\"X20\"] = df2[[\"x20_t0\",\"x20_t1\",\"x20_t2\",\"x20_t3\",\"x20_t4\",\"x20_t5\",\"x20_t6\"]].mean(axis=1)\n",
        "train_df[\"X21\"] = df2[[\"x21_t0\",\"x21_t1\",\"x21_t2\",\"x21_t3\",\"x21_t4\",\"x21_t5\",\"x21_t6\"]].mean(axis=1)\n",
        "train_df[\"X22\"] = df2[[\"x22_t0\",\"x22_t1\",\"x22_t2\",\"x22_t3\",\"x22_t4\",\"x22_t5\",\"x22_t6\"]].mean(axis=1)\n",
        "train_df[\"X23\"] = df2[[\"x23_t0\",\"x23_t1\",\"x23_t2\",\"x23_t3\",\"x23_t4\",\"x23_t5\",\"x23_t6\"]].mean(axis=1)\n",
        "train_df[\"X24\"] = df2[[\"x24_t0\",\"x24_t1\",\"x24_t2\",\"x24_t3\",\"x24_t4\",\"x24_t5\",\"x24_t6\"]].mean(axis=1)\n",
        "train_df[\"X25\"] = df2[[\"x25_t0\",\"x25_t1\",\"x25_t2\",\"x25_t3\",\"x25_t4\",\"x25_t5\",\"x25_t6\"]].mean(axis=1)\n",
        "train_df[\"X26\"] = df2[[\"x26_t0\",\"x26_t1\",\"x26_t2\",\"x26_t3\",\"x26_t4\",\"x26_t5\",\"x26_t6\"]].mean(axis=1)\n",
        "train_df[\"X27\"] = df2[[\"x27_t0\",\"x27_t1\",\"x27_t2\",\"x27_t3\",\"x27_t4\",\"x27_t5\",\"x27_t6\"]].mean(axis=1)\n",
        "train_df[\"X28\"] = df2[[\"x28_t0\",\"x28_t1\",\"x28_t2\",\"x28_t3\",\"x28_t4\",\"x28_t5\",\"x28_t6\"]].mean(axis=1)\n",
        "train_df[\"X29\"] = df2[[\"x29_t0\",\"x29_t1\",\"x29_t2\",\"x29_t3\",\"x29_t4\",\"x29_t5\",\"x29_t6\"]].mean(axis=1)\n",
        "train_df[\"X30\"] = df2[[\"x30_t0\",\"x30_t1\",\"x30_t2\",\"x30_t3\",\"x30_t4\",\"x30_t5\",\"x30_t6\"]].mean(axis=1)\n",
        "train_df[\"X31\"] = df2[[\"x31_t0\",\"x31_t1\",\"x31_t2\",\"x31_t3\",\"x31_t4\",\"x31_t5\",\"x31_t6\"]].mean(axis=1)\n",
        "train_df[\"X32\"] = df2[[\"x32_t0\",\"x32_t1\",\"x32_t2\",\"x32_t3\",\"x32_t4\",\"x32_t5\",\"x32_t6\"]].mean(axis=1)\n",
        "train_df[\"X33\"] = df2[[\"x33_t0\",\"x33_t1\",\"x33_t2\",\"x33_t3\",\"x33_t4\",\"x33_t5\",\"x33_t6\"]].mean(axis=1)\n",
        "train_df[\"X34\"] = df2[[\"x34_t0\",\"x34_t1\",\"x34_t2\",\"x34_t3\",\"x34_t4\",\"x34_t5\",\"x34_t6\"]].mean(axis=1)\n",
        "train_df[\"X35\"] = df2[[\"x35_t0\",\"x35_t1\",\"x35_t2\",\"x35_t3\",\"x35_t4\",\"x35_t5\",\"x35_t6\"]].mean(axis=1)\n",
        "train_df[\"X36\"] = df2[[\"x36_t0\",\"x36_t1\",\"x36_t2\",\"x36_t3\",\"x36_t4\",\"x36_t5\",\"x36_t6\"]].mean(axis=1)\n",
        "train_df[\"X37\"] = df2[[\"x37_t0\",\"x37_t1\",\"x37_t2\",\"x37_t3\",\"x37_t4\",\"x37_t5\",\"x37_t6\"]].mean(axis=1)\n",
        "train_df[\"X38\"] = df2[[\"x38_t0\",\"x38_t1\",\"x38_t2\",\"x38_t3\",\"x38_t4\",\"x38_t5\",\"x38_t6\"]].mean(axis=1)\n",
        "train_df[\"X39\"] = df2[[\"x39_t0\",\"x39_t1\",\"x39_t2\",\"x39_t3\",\"x39_t4\",\"x39_t5\",\"x39_t6\"]].mean(axis=1)\n",
        "train_df[\"X40\"] = df2[[\"x40_t0\",\"x40_t1\",\"x40_t2\",\"x40_t3\",\"x40_t4\",\"x40_t5\",\"x40_t6\"]].mean(axis=1)\n",
        "train_df[\"X41\"] = df2[[\"x54_t0\",\"x41_t1\",\"x41_t2\",\"x41_t3\",\"x41_t4\",\"x41_t5\",\"x41_t6\"]].mean(axis=1)\n",
        "train_df[\"X42\"] = df2[[\"x42_t0\",\"x42_t1\",\"x42_t2\",\"x42_t3\",\"x42_t4\",\"x42_t5\",\"x42_t6\"]].mean(axis=1)\n",
        "train_df[\"X43\"] = df2[[\"x43_t0\",\"x43_t1\",\"x43_t2\",\"x43_t3\",\"x43_t4\",\"x43_t5\",\"x43_t6\"]].mean(axis=1)\n",
        "train_df[\"X44\"] = df2[[\"x44_t0\",\"x44_t1\",\"x44_t2\",\"x44_t3\",\"x44_t4\",\"x44_t5\",\"x44_t6\"]].mean(axis=1)\n",
        "train_df[\"X45\"] = df2[[\"x45_t0\",\"x45_t1\",\"x45_t2\",\"x45_t3\",\"x45_t4\",\"x45_t5\",\"x45_t6\"]].mean(axis=1)\n",
        "train_df[\"X46\"] = df2[[\"x46_t0\",\"x46_t1\",\"x46_t2\",\"x46_t3\",\"x46_t4\",\"x46_t5\",\"x46_t6\"]].mean(axis=1)\n",
        "train_df[\"X47\"] = df2[[\"x47_t0\",\"x47_t1\",\"x47_t2\",\"x47_t3\",\"x47_t4\",\"x47_t5\",\"x47_t6\"]].mean(axis=1)\n",
        "train_df[\"X48\"] = df2[[\"x48_t0\",\"x48_t1\",\"x48_t2\",\"x48_t3\",\"x48_t4\",\"x48_t5\",\"x48_t6\"]].mean(axis=1)\n",
        "train_df[\"X49\"] = df2[[\"x49_t0\",\"x49_t1\",\"x49_t2\",\"x49_t3\",\"x49_t4\",\"x49_t5\",\"x49_t6\"]].mean(axis=1)\n",
        "train_df[\"X50\"] = df2[[\"x50_t0\",\"x50_t1\",\"x50_t2\",\"x50_t3\",\"x50_t4\",\"x50_t5\",\"x50_t6\"]].mean(axis=1)\n",
        "train_df[\"X51\"] = df2[[\"x51_t0\",\"x51_t1\",\"x51_t2\",\"x51_t3\",\"x51_t4\",\"x51_t5\",\"x51_t6\"]].mean(axis=1)\n",
        "train_df[\"X52\"] = df2[[\"x52_t0\",\"x52_t1\",\"x52_t2\",\"x52_t3\",\"x52_t4\",\"x52_t5\",\"x52_t6\"]].mean(axis=1)\n",
        "train_df[\"X53\"] = df2[[\"x53_t0\",\"x53_t1\",\"x53_t2\",\"x53_t3\",\"x53_t4\",\"x53_t5\",\"x53_t6\"]].mean(axis=1)\n",
        "train_df[\"X54\"] = df2[[\"x54_t0\",\"x54_t1\",\"x54_t2\",\"x54_t3\",\"x54_t4\",\"x54_t5\",\"x54_t6\"]].mean(axis=1)\n",
        "\n",
        "train_df[\"y2\"] = df2[\"y2\"]\n",
        "\n",
        "train_df.head()\n"
      ],
      "execution_count": null,
      "outputs": [
        {
          "output_type": "execute_result",
          "data": {
            "text/html": [
              "<div>\n",
              "<style scoped>\n",
              "    .dataframe tbody tr th:only-of-type {\n",
              "        vertical-align: middle;\n",
              "    }\n",
              "\n",
              "    .dataframe tbody tr th {\n",
              "        vertical-align: top;\n",
              "    }\n",
              "\n",
              "    .dataframe thead th {\n",
              "        text-align: right;\n",
              "    }\n",
              "</style>\n",
              "<table border=\"1\" class=\"dataframe\">\n",
              "  <thead>\n",
              "    <tr style=\"text-align: right;\">\n",
              "      <th></th>\n",
              "      <th>Id</th>\n",
              "      <th>X0</th>\n",
              "      <th>X1</th>\n",
              "      <th>X2</th>\n",
              "      <th>X3</th>\n",
              "      <th>x4</th>\n",
              "      <th>X5</th>\n",
              "      <th>X6</th>\n",
              "      <th>X7</th>\n",
              "      <th>X8</th>\n",
              "      <th>X9</th>\n",
              "      <th>X10</th>\n",
              "      <th>X11</th>\n",
              "      <th>X12</th>\n",
              "      <th>X13</th>\n",
              "      <th>X14</th>\n",
              "      <th>X15</th>\n",
              "      <th>X16</th>\n",
              "      <th>X17</th>\n",
              "      <th>X18</th>\n",
              "      <th>X19</th>\n",
              "      <th>X20</th>\n",
              "      <th>X21</th>\n",
              "      <th>X22</th>\n",
              "      <th>X23</th>\n",
              "      <th>X24</th>\n",
              "      <th>X25</th>\n",
              "      <th>X26</th>\n",
              "      <th>X27</th>\n",
              "      <th>X28</th>\n",
              "      <th>X29</th>\n",
              "      <th>X30</th>\n",
              "      <th>X31</th>\n",
              "      <th>X32</th>\n",
              "      <th>X33</th>\n",
              "      <th>X34</th>\n",
              "      <th>X35</th>\n",
              "      <th>X36</th>\n",
              "      <th>X37</th>\n",
              "      <th>X38</th>\n",
              "      <th>X39</th>\n",
              "      <th>X40</th>\n",
              "      <th>X41</th>\n",
              "      <th>X42</th>\n",
              "      <th>X43</th>\n",
              "      <th>X44</th>\n",
              "      <th>X45</th>\n",
              "      <th>X46</th>\n",
              "      <th>X47</th>\n",
              "      <th>X48</th>\n",
              "      <th>X49</th>\n",
              "      <th>X50</th>\n",
              "      <th>X51</th>\n",
              "      <th>X52</th>\n",
              "      <th>X53</th>\n",
              "      <th>X54</th>\n",
              "      <th>y2</th>\n",
              "    </tr>\n",
              "  </thead>\n",
              "  <tbody>\n",
              "    <tr>\n",
              "      <th>0</th>\n",
              "      <td>706</td>\n",
              "      <td>760.244080</td>\n",
              "      <td>0.933094</td>\n",
              "      <td>1.0</td>\n",
              "      <td>22.056471</td>\n",
              "      <td>6.728571</td>\n",
              "      <td>748.549404</td>\n",
              "      <td>789.804275</td>\n",
              "      <td>811.182847</td>\n",
              "      <td>4.4</td>\n",
              "      <td>0.269143</td>\n",
              "      <td>81.975911</td>\n",
              "      <td>18.219610</td>\n",
              "      <td>464.311165</td>\n",
              "      <td>458.060138</td>\n",
              "      <td>0.897572</td>\n",
              "      <td>1357.750000</td>\n",
              "      <td>63.665714</td>\n",
              "      <td>699.248160</td>\n",
              "      <td>80.0</td>\n",
              "      <td>80.0</td>\n",
              "      <td>1.0</td>\n",
              "      <td>27.002195</td>\n",
              "      <td>771.923413</td>\n",
              "      <td>0.620713</td>\n",
              "      <td>0.571429</td>\n",
              "      <td>0.0</td>\n",
              "      <td>11.432371</td>\n",
              "      <td>822.512086</td>\n",
              "      <td>0.142857</td>\n",
              "      <td>3875.245378</td>\n",
              "      <td>452.398282</td>\n",
              "      <td>14.892789</td>\n",
              "      <td>14.497143</td>\n",
              "      <td>35.365725</td>\n",
              "      <td>34.963383</td>\n",
              "      <td>97.788514</td>\n",
              "      <td>97.905714</td>\n",
              "      <td>0.000000</td>\n",
              "      <td>0.0</td>\n",
              "      <td>51.572556</td>\n",
              "      <td>86.043619</td>\n",
              "      <td>0.426189</td>\n",
              "      <td>1.0</td>\n",
              "      <td>0.857143</td>\n",
              "      <td>0.142857</td>\n",
              "      <td>0.000000</td>\n",
              "      <td>85.856746</td>\n",
              "      <td>0.857143</td>\n",
              "      <td>700.196065</td>\n",
              "      <td>119.060403</td>\n",
              "      <td>14.758329</td>\n",
              "      <td>878.637498</td>\n",
              "      <td>646.594635</td>\n",
              "      <td>89.693307</td>\n",
              "      <td>1.892407</td>\n",
              "      <td>0.72</td>\n",
              "    </tr>\n",
              "    <tr>\n",
              "      <th>1</th>\n",
              "      <td>239</td>\n",
              "      <td>757.366380</td>\n",
              "      <td>1.378449</td>\n",
              "      <td>1.0</td>\n",
              "      <td>26.895488</td>\n",
              "      <td>6.500000</td>\n",
              "      <td>749.596987</td>\n",
              "      <td>845.599976</td>\n",
              "      <td>840.799988</td>\n",
              "      <td>4.5</td>\n",
              "      <td>0.279756</td>\n",
              "      <td>76.698810</td>\n",
              "      <td>54.505696</td>\n",
              "      <td>481.326723</td>\n",
              "      <td>427.410667</td>\n",
              "      <td>0.900295</td>\n",
              "      <td>1700.000000</td>\n",
              "      <td>57.000000</td>\n",
              "      <td>696.463580</td>\n",
              "      <td>80.0</td>\n",
              "      <td>80.0</td>\n",
              "      <td>1.0</td>\n",
              "      <td>29.000000</td>\n",
              "      <td>774.974019</td>\n",
              "      <td>0.492991</td>\n",
              "      <td>0.642857</td>\n",
              "      <td>0.0</td>\n",
              "      <td>12.956240</td>\n",
              "      <td>820.825508</td>\n",
              "      <td>0.071429</td>\n",
              "      <td>4085.155006</td>\n",
              "      <td>382.562997</td>\n",
              "      <td>16.859722</td>\n",
              "      <td>14.070000</td>\n",
              "      <td>39.216508</td>\n",
              "      <td>38.602857</td>\n",
              "      <td>97.847874</td>\n",
              "      <td>97.952857</td>\n",
              "      <td>0.000000</td>\n",
              "      <td>0.0</td>\n",
              "      <td>60.232345</td>\n",
              "      <td>85.091646</td>\n",
              "      <td>0.439829</td>\n",
              "      <td>1.0</td>\n",
              "      <td>0.928571</td>\n",
              "      <td>0.071429</td>\n",
              "      <td>0.000000</td>\n",
              "      <td>84.719534</td>\n",
              "      <td>0.928571</td>\n",
              "      <td>547.953130</td>\n",
              "      <td>132.105129</td>\n",
              "      <td>19.044833</td>\n",
              "      <td>886.672018</td>\n",
              "      <td>712.281086</td>\n",
              "      <td>74.327068</td>\n",
              "      <td>1.913206</td>\n",
              "      <td>0.62</td>\n",
              "    </tr>\n",
              "    <tr>\n",
              "      <th>2</th>\n",
              "      <td>613</td>\n",
              "      <td>757.052327</td>\n",
              "      <td>0.864809</td>\n",
              "      <td>1.0</td>\n",
              "      <td>22.271551</td>\n",
              "      <td>6.900000</td>\n",
              "      <td>820.260866</td>\n",
              "      <td>793.147153</td>\n",
              "      <td>815.468561</td>\n",
              "      <td>4.4</td>\n",
              "      <td>0.209458</td>\n",
              "      <td>82.139933</td>\n",
              "      <td>9.297903</td>\n",
              "      <td>413.788298</td>\n",
              "      <td>433.359535</td>\n",
              "      <td>0.901479</td>\n",
              "      <td>1357.750000</td>\n",
              "      <td>64.522857</td>\n",
              "      <td>697.047573</td>\n",
              "      <td>80.0</td>\n",
              "      <td>80.0</td>\n",
              "      <td>1.0</td>\n",
              "      <td>28.020719</td>\n",
              "      <td>774.704272</td>\n",
              "      <td>0.596236</td>\n",
              "      <td>0.571429</td>\n",
              "      <td>0.0</td>\n",
              "      <td>11.748918</td>\n",
              "      <td>802.226723</td>\n",
              "      <td>0.142857</td>\n",
              "      <td>3753.099335</td>\n",
              "      <td>521.043722</td>\n",
              "      <td>17.320135</td>\n",
              "      <td>14.497143</td>\n",
              "      <td>35.175877</td>\n",
              "      <td>35.205714</td>\n",
              "      <td>97.723647</td>\n",
              "      <td>97.863713</td>\n",
              "      <td>0.142857</td>\n",
              "      <td>0.0</td>\n",
              "      <td>57.449495</td>\n",
              "      <td>90.279048</td>\n",
              "      <td>0.468486</td>\n",
              "      <td>1.0</td>\n",
              "      <td>0.142857</td>\n",
              "      <td>0.857143</td>\n",
              "      <td>0.142857</td>\n",
              "      <td>91.578217</td>\n",
              "      <td>0.571429</td>\n",
              "      <td>547.210846</td>\n",
              "      <td>109.675539</td>\n",
              "      <td>13.939582</td>\n",
              "      <td>861.906494</td>\n",
              "      <td>676.498573</td>\n",
              "      <td>87.959533</td>\n",
              "      <td>2.052945</td>\n",
              "      <td>0.57</td>\n",
              "    </tr>\n",
              "    <tr>\n",
              "      <th>3</th>\n",
              "      <td>588</td>\n",
              "      <td>760.571769</td>\n",
              "      <td>0.813008</td>\n",
              "      <td>1.0</td>\n",
              "      <td>28.319341</td>\n",
              "      <td>6.900000</td>\n",
              "      <td>753.283047</td>\n",
              "      <td>793.147153</td>\n",
              "      <td>815.468561</td>\n",
              "      <td>4.4</td>\n",
              "      <td>0.181063</td>\n",
              "      <td>81.888624</td>\n",
              "      <td>118.440647</td>\n",
              "      <td>421.961638</td>\n",
              "      <td>547.761377</td>\n",
              "      <td>0.901376</td>\n",
              "      <td>1700.607143</td>\n",
              "      <td>55.094286</td>\n",
              "      <td>700.842542</td>\n",
              "      <td>80.0</td>\n",
              "      <td>80.0</td>\n",
              "      <td>1.0</td>\n",
              "      <td>27.000000</td>\n",
              "      <td>717.249578</td>\n",
              "      <td>0.537579</td>\n",
              "      <td>0.428571</td>\n",
              "      <td>0.0</td>\n",
              "      <td>13.462370</td>\n",
              "      <td>793.734623</td>\n",
              "      <td>0.142857</td>\n",
              "      <td>3711.580815</td>\n",
              "      <td>512.376801</td>\n",
              "      <td>14.688665</td>\n",
              "      <td>14.497143</td>\n",
              "      <td>35.313175</td>\n",
              "      <td>35.348571</td>\n",
              "      <td>97.611068</td>\n",
              "      <td>97.695710</td>\n",
              "      <td>0.142857</td>\n",
              "      <td>0.0</td>\n",
              "      <td>52.399161</td>\n",
              "      <td>88.480221</td>\n",
              "      <td>0.433411</td>\n",
              "      <td>1.0</td>\n",
              "      <td>0.142857</td>\n",
              "      <td>0.857143</td>\n",
              "      <td>0.000000</td>\n",
              "      <td>89.831031</td>\n",
              "      <td>0.857143</td>\n",
              "      <td>630.162187</td>\n",
              "      <td>137.102413</td>\n",
              "      <td>14.898321</td>\n",
              "      <td>871.835244</td>\n",
              "      <td>653.640959</td>\n",
              "      <td>88.314801</td>\n",
              "      <td>1.940227</td>\n",
              "      <td>1.01</td>\n",
              "    </tr>\n",
              "    <tr>\n",
              "      <th>4</th>\n",
              "      <td>780</td>\n",
              "      <td>768.801759</td>\n",
              "      <td>0.813366</td>\n",
              "      <td>1.0</td>\n",
              "      <td>19.236735</td>\n",
              "      <td>6.814286</td>\n",
              "      <td>760.840050</td>\n",
              "      <td>775.918551</td>\n",
              "      <td>766.868551</td>\n",
              "      <td>4.4</td>\n",
              "      <td>0.290602</td>\n",
              "      <td>82.104374</td>\n",
              "      <td>2.552850</td>\n",
              "      <td>525.866158</td>\n",
              "      <td>536.969565</td>\n",
              "      <td>0.851040</td>\n",
              "      <td>1357.750000</td>\n",
              "      <td>64.522857</td>\n",
              "      <td>697.671191</td>\n",
              "      <td>80.0</td>\n",
              "      <td>80.0</td>\n",
              "      <td>1.0</td>\n",
              "      <td>26.694875</td>\n",
              "      <td>797.721864</td>\n",
              "      <td>0.534037</td>\n",
              "      <td>0.714286</td>\n",
              "      <td>0.0</td>\n",
              "      <td>12.589026</td>\n",
              "      <td>833.061031</td>\n",
              "      <td>0.142857</td>\n",
              "      <td>3751.611019</td>\n",
              "      <td>456.618927</td>\n",
              "      <td>16.125748</td>\n",
              "      <td>14.497143</td>\n",
              "      <td>34.151372</td>\n",
              "      <td>34.634286</td>\n",
              "      <td>97.850337</td>\n",
              "      <td>97.905714</td>\n",
              "      <td>0.000000</td>\n",
              "      <td>0.0</td>\n",
              "      <td>92.823810</td>\n",
              "      <td>87.816697</td>\n",
              "      <td>0.485082</td>\n",
              "      <td>1.0</td>\n",
              "      <td>0.857143</td>\n",
              "      <td>0.142857</td>\n",
              "      <td>0.142857</td>\n",
              "      <td>88.506798</td>\n",
              "      <td>0.714286</td>\n",
              "      <td>497.926779</td>\n",
              "      <td>91.554997</td>\n",
              "      <td>14.059461</td>\n",
              "      <td>855.777351</td>\n",
              "      <td>640.448159</td>\n",
              "      <td>87.042743</td>\n",
              "      <td>2.248662</td>\n",
              "      <td>-0.42</td>\n",
              "    </tr>\n",
              "  </tbody>\n",
              "</table>\n",
              "</div>"
            ],
            "text/plain": [
              "    Id          X0        X1   X2  ...         X52        X53       X54    y2\n",
              "0  706  760.244080  0.933094  1.0  ...  646.594635  89.693307  1.892407  0.72\n",
              "1  239  757.366380  1.378449  1.0  ...  712.281086  74.327068  1.913206  0.62\n",
              "2  613  757.052327  0.864809  1.0  ...  676.498573  87.959533  2.052945  0.57\n",
              "3  588  760.571769  0.813008  1.0  ...  653.640959  88.314801  1.940227  1.01\n",
              "4  780  768.801759  0.813366  1.0  ...  640.448159  87.042743  2.248662 -0.42\n",
              "\n",
              "[5 rows x 57 columns]"
            ]
          },
          "metadata": {
            "tags": []
          },
          "execution_count": 75
        }
      ]
    },
    {
      "cell_type": "code",
      "metadata": {
        "id": "lDDrhUsP-SDk"
      },
      "source": [
        "#df2.isnull().sum()\n",
        "\n",
        "#max = train_df['y2'].quantile(0.99)\n",
        "#min = train_df['y2'].quantile(0.01)\n",
        "\n",
        "#df3 = train_df[(df2['y2']<max) &(df2['y2']>min) ]\n",
        "\n",
        "df3 = train_df.dropna()\n",
        "\n",
        "\n",
        "#df3.head()\n",
        "#print('max,min', min,max)\n"
      ],
      "execution_count": null,
      "outputs": []
    },
    {
      "cell_type": "markdown",
      "metadata": {
        "id": "tuuDpWCVvLv2"
      },
      "source": [
        "# 3 LINEAR REGRESSION (RMSE calculation)"
      ]
    },
    {
      "cell_type": "code",
      "metadata": {
        "id": "CW9OGIK-vLv3",
        "colab": {
          "base_uri": "https://localhost:8080/"
        },
        "outputId": "edb561f0-eed8-45a9-c008-0e87f1b88e35"
      },
      "source": [
        "\n",
        "X=df3.drop('y2', axis='columns')\n",
        "X = X.drop('Id', axis='columns')\n",
        "X.shape\n"
      ],
      "execution_count": null,
      "outputs": [
        {
          "output_type": "execute_result",
          "data": {
            "text/plain": [
              "(794, 55)"
            ]
          },
          "metadata": {
            "tags": []
          },
          "execution_count": 135
        }
      ]
    },
    {
      "cell_type": "code",
      "metadata": {
        "id": "SsX_P6q4vLv6"
      },
      "source": [
        "y = df3.y2\n",
        "\n",
        "#ytrain = y[0:700]\n",
        "#ytest = y[700:794]\n",
        "#ytest.shape\n",
        "\n",
        "#y_test = y.loc[700:793]\n"
      ],
      "execution_count": null,
      "outputs": []
    },
    {
      "cell_type": "code",
      "metadata": {
        "id": "MndMnFYYvLv7",
        "colab": {
          "base_uri": "https://localhost:8080/"
        },
        "outputId": "80ab4aaa-8022-4705-faa0-ecace65d2d99"
      },
      "source": [
        "from sklearn.model_selection import train_test_split\n",
        "X_train,X_test,y_train,y_test=train_test_split(X,y,test_size=0.25, random_state=1000)\n",
        "\n",
        "#Xtrain = X.loc[0:699]\n",
        "#Xtest = X.loc[700:793]\n",
        "\n",
        "\n",
        "\n",
        "\n",
        "\n",
        "X_test.shape\n",
        "y_test.shape"
      ],
      "execution_count": null,
      "outputs": [
        {
          "output_type": "execute_result",
          "data": {
            "text/plain": [
              "(199,)"
            ]
          },
          "metadata": {
            "tags": []
          },
          "execution_count": 141
        }
      ]
    },
    {
      "cell_type": "markdown",
      "metadata": {
        "id": "GJsrwxAO9yuZ"
      },
      "source": [
        "# Transforming test data for validation"
      ]
    },
    {
      "cell_type": "code",
      "metadata": {
        "id": "Shm4DpG4vLwA",
        "colab": {
          "base_uri": "https://localhost:8080/",
          "height": 372
        },
        "outputId": "fe5d635e-4e80-412d-b8d5-88d5103f5742"
      },
      "source": [
        "from sklearn.linear_model import LinearRegression\n",
        "from sklearn.metrics import accuracy_score\n",
        "from sklearn.metrics import mean_squared_error\n",
        "\n",
        "from sklearn.metrics import r2_score\n",
        "\n",
        "sklr = LinearRegression(normalize=False)\n",
        "sklr.fit(X_train,y_train)\n",
        "\n",
        "score = sklr.score(X_test,y_test)\n",
        "\n",
        "preds_test = sklr.predict(X_test)\n",
        "preds_train = sklr.predict(X_train)\n",
        "\n",
        "\n",
        "\n",
        "rmse_test = np.sqrt(mean_squared_error(y_test, preds_test))\n",
        "rmse_train = np.sqrt(mean_squared_error(y_train, preds_train))\n",
        "\n",
        "print(\"RMSE_test: %f\" % (rmse_test))\n",
        "print(\"RMSE_train: %f\" % (rmse_train))\n",
        "\n",
        "print ('Score:', score)\n",
        "\n",
        "r2_score_train = r2_score(y_train, preds_train)\n",
        "r2_score_test = r2_score(y_test, preds_test)\n",
        "\n",
        "print(\"r2_score_train: %f\" % (r2_score_train))\n",
        "print(\"r2_score_test: %f\" % (r2_score_test))\n",
        "plt.scatter(y_test, preds_test)\n"
      ],
      "execution_count": null,
      "outputs": [
        {
          "output_type": "stream",
          "text": [
            "RMSE_test: 0.148665\n",
            "RMSE_train: 0.153460\n",
            "Score: 0.266841556588884\n",
            "r2_score_train: 0.331100\n",
            "r2_score_test: 0.266842\n"
          ],
          "name": "stdout"
        },
        {
          "output_type": "execute_result",
          "data": {
            "text/plain": [
              "<matplotlib.collections.PathCollection at 0x7f2095dc6be0>"
            ]
          },
          "metadata": {
            "tags": []
          },
          "execution_count": 142
        },
        {
          "output_type": "display_data",
          "data": {
            "image/png": "[encoded data removed]",
            "text/plain": [
              "<Figure size 432x288 with 1 Axes>"
            ]
          },
          "metadata": {
            "tags": [],
            "needs_background": "light"
          }
        }
      ]
    },
    {
      "cell_type": "code",
      "metadata": {
        "id": "uKg1Rp6gXspI"
      },
      "source": [
        ""
      ],
      "execution_count": null,
      "outputs": []
    },
    {
      "cell_type": "code",
      "metadata": {
        "id": "OBj4fNziYD6T"
      },
      "source": [
        ""
      ],
      "execution_count": null,
      "outputs": []
    },
    {
      "cell_type": "markdown",
      "metadata": {
        "id": "bn2av5il9UYr"
      },
      "source": [
        " # 4 XG Boost regression (RMSE Calculation)"
      ]
    },
    {
      "cell_type": "code",
      "metadata": {
        "id": "0rxjlT0QvLwO",
        "colab": {
          "base_uri": "https://localhost:8080/",
          "height": 390
        },
        "outputId": "cbc3c3d8-586c-48df-a943-6ef044dc8d76"
      },
      "source": [
        "\n",
        "import xgboost as xgb\n",
        "from sklearn.metrics import mean_squared_error\n",
        "data_dmatrix = xgb.DMatrix(data=X,label=y)\n",
        "xg_reg = xgb.XGBRegressor(objective ='reg:linear', colsample_bytree = 0.3, learning_rate = 0.1,\n",
        "                max_depth = 5, alpha = 10, n_estimators = 10)\n",
        "\n",
        "lm=  xg_reg.fit(X_train,y_train)\n",
        "\n",
        "score = xg_reg.score(X_test,y_test)\n",
        "\n",
        "\n",
        "preds_test = xg_reg.predict(X_test)\n",
        "preds_train = xg_reg.predict(X_train)\n",
        "\n",
        "\n",
        "\n",
        "rmse_test = np.sqrt(mean_squared_error(y_test, preds_test))\n",
        "rmse_train = np.sqrt(mean_squared_error(y_train, preds_train))\n",
        "\n",
        "print(\"RMSE_test: %f\" % (rmse_test))\n",
        "print(\"RMSE_train: %f\" % (rmse_train))\n",
        "\n",
        "print ('Score:', score)\n",
        "\n",
        "r2_score_train = r2_score(y_train, preds_train)\n",
        "r2_score_test = r2_score(y_test, preds_test)\n",
        "\n",
        "print(\"r2_score_train: %f\" % (r2_score_train))\n",
        "print(\"r2_score_test: %f\" % (r2_score_test))\n",
        "\n",
        "plt.scatter(y_test,preds_test)\n",
        "\n"
      ],
      "execution_count": null,
      "outputs": [
        {
          "output_type": "stream",
          "text": [
            "[14:18:50] WARNING: /workspace/src/objective/regression_obj.cu:152: reg:linear is now deprecated in favor of reg:squarederror.\n",
            "RMSE_test: 0.146689\n",
            "RMSE_train: 0.128244\n",
            "Score: 0.28619628288629717\n",
            "r2_score_train: 0.532864\n",
            "r2_score_test: 0.286196\n"
          ],
          "name": "stdout"
        },
        {
          "output_type": "execute_result",
          "data": {
            "text/plain": [
              "<matplotlib.collections.PathCollection at 0x7f20957e7e10>"
            ]
          },
          "metadata": {
            "tags": []
          },
          "execution_count": 143
        },
        {
          "output_type": "display_data",
          "data": {
            "image/png": "[encoded data removed]",
            "text/plain": [
              "<Figure size 432x288 with 1 Axes>"
            ]
          },
          "metadata": {
            "tags": [],
            "needs_background": "light"
          }
        }
      ]
    },
    {
      "cell_type": "markdown",
      "metadata": {
        "id": "hr4kopAakUGq"
      },
      "source": [
        "# Lasso "
      ]
    },
    {
      "cell_type": "code",
      "metadata": {
        "id": "ag9BSJ2XkZ-P",
        "colab": {
          "base_uri": "https://localhost:8080/",
          "height": 372
        },
        "outputId": "bca2c352-2fd7-461c-f3f2-b8d214f4062d"
      },
      "source": [
        "from sklearn.linear_model import Lasso\n",
        "skls = Lasso()\n",
        "lm = skls.fit(X_train,y_train)\n",
        "\n",
        "\n",
        "score = skls.score(X_test,y_test)\n",
        "\n",
        "\n",
        "preds_test = skls.predict(X_test)\n",
        "preds_train = skls.predict(X_train)\n",
        "\n",
        "\n",
        "\n",
        "rmse_test = np.sqrt(mean_squared_error(y_test, preds_test))\n",
        "rmse_train = np.sqrt(mean_squared_error(y_train, preds_train))\n",
        "\n",
        "print(\"RMSE_test: %f\" % (rmse_test))\n",
        "print(\"RMSE_train: %f\" % (rmse_train))\n",
        "\n",
        "print ('Score:', score)\n",
        "\n",
        "r2_score_train = r2_score(y_train, preds_train)\n",
        "r2_score_test = r2_score(y_test, preds_test)\n",
        "\n",
        "print(\"r2_score_train: %f\" % (r2_score_train))\n",
        "print(\"r2_score_test: %f\" % (r2_score_test))\n",
        "\n",
        "plt.scatter(y_test,preds_test)\n"
      ],
      "execution_count": null,
      "outputs": [
        {
          "output_type": "stream",
          "text": [
            "RMSE_test: 0.160137\n",
            "RMSE_train: 0.175629\n",
            "Score: 0.14932460831229455\n",
            "r2_score_train: 0.123883\n",
            "r2_score_test: 0.149325\n"
          ],
          "name": "stdout"
        },
        {
          "output_type": "execute_result",
          "data": {
            "text/plain": [
              "<matplotlib.collections.PathCollection at 0x7f20957d63c8>"
            ]
          },
          "metadata": {
            "tags": []
          },
          "execution_count": 144
        },
        {
          "output_type": "display_data",
          "data": {
            "image/png": "[encoded data removed]",
            "text/plain": [
              "<Figure size 432x288 with 1 Axes>"
            ]
          },
          "metadata": {
            "tags": [],
            "needs_background": "light"
          }
        }
      ]
    },
    {
      "cell_type": "markdown",
      "metadata": {
        "id": "_ibTNhGilTVR"
      },
      "source": [
        " # DecisionTreeRegressor"
      ]
    },
    {
      "cell_type": "code",
      "metadata": {
        "id": "as40rv38lbII",
        "colab": {
          "base_uri": "https://localhost:8080/",
          "height": 372
        },
        "outputId": "a4a813d7-2e6b-4126-e4fe-24ccc0fc16f7"
      },
      "source": [
        "from sklearn.tree import DecisionTreeRegressor\n",
        "skdt = DecisionTreeRegressor()\n",
        "lm = skdt.fit(X_train,y_train)\n",
        "\n",
        "score = skdt.score(X_test,y_test)\n",
        "\n",
        "\n",
        "preds_test = skdt.predict(X_test)\n",
        "preds_train = skdt.predict(X_train)\n",
        "\n",
        "\n",
        "\n",
        "rmse_test = np.sqrt(mean_squared_error(10**y_test, 10**preds_test))\n",
        "rmse_train = np.sqrt(mean_squared_error(10**y_train, 10**preds_train))\n",
        "\n",
        "print(\"RMSE_test: %f\" % (rmse_test))\n",
        "print(\"RMSE_train: %f\" % (rmse_train))\n",
        "\n",
        "print ('Score:', score)\n",
        "\n",
        "r2_score_train = r2_score(y_train, preds_train)\n",
        "r2_score_test = r2_score(y_test, preds_test)\n",
        "\n",
        "print(\"r2_score_train: %f\" % (r2_score_train))\n",
        "print(\"r2_score_test: %f\" % (r2_score_test))\n",
        "\n",
        "plt.scatter(y_test,preds_test)\n",
        "\n",
        "\n"
      ],
      "execution_count": null,
      "outputs": [
        {
          "output_type": "stream",
          "text": [
            "RMSE_test: 1.495803\n",
            "RMSE_train: 0.000000\n",
            "Score: -0.5999918578112491\n",
            "r2_score_train: 1.000000\n",
            "r2_score_test: -0.599992\n"
          ],
          "name": "stdout"
        },
        {
          "output_type": "execute_result",
          "data": {
            "text/plain": [
              "<matplotlib.collections.PathCollection at 0x7f20957336d8>"
            ]
          },
          "metadata": {
            "tags": []
          },
          "execution_count": 145
        },
        {
          "output_type": "display_data",
          "data": {
            "image/png": "[encoded data removed]",
            "text/plain": [
              "<Figure size 432x288 with 1 Axes>"
            ]
          },
          "metadata": {
            "tags": [],
            "needs_background": "light"
          }
        }
      ]
    },
    {
      "cell_type": "markdown",
      "metadata": {
        "id": "v-D88JzNC59A"
      },
      "source": [
        "# Random forest with searchCV\n"
      ]
    },
    {
      "cell_type": "code",
      "metadata": {
        "id": "mtfRllwqDQci",
        "colab": {
          "base_uri": "https://localhost:8080/",
          "height": 354
        },
        "outputId": "acef83fd-e5f5-45c4-9cbb-61395f519f3c"
      },
      "source": [
        "from sklearn.model_selection import  RandomizedSearchCV\n",
        "from sklearn.ensemble import GradientBoostingRegressor ,RandomForestRegressor\n",
        "\n",
        "rndf_model = RandomForestRegressor(random_state=33)\n",
        "par_grid = dict(n_estimators=range(15,100,15),max_depth=range(4,25),min_samples_split=range(60,500,20),min_samples_leaf=range(25,75,15),max_leaf_nodes=range(7,30,2))\n",
        "\n",
        "scanCV = RandomizedSearchCV(rndf_model,par_grid,scoring='neg_mean_squared_error',n_jobs=-1,cv=5,random_state=33)\n",
        "lm = scanCV.fit(X_train,y_train)\n",
        "\n",
        "preds_test =scanCV.best_estimator_.predict(X_test)\n",
        "\n",
        "print('RMSE_test:',np.sqrt(mean_squared_error(10**y_test, 10**preds_test)))\n",
        "\n",
        "preds_train = scanCV.best_estimator_.predict(X_train)\n",
        "print('RMSE_train:',np.sqrt(mean_squared_error(10**y_train, 10**preds_train)))\n",
        "\n",
        "r2_score_train = r2_score(y_train, preds_train)\n",
        "r2_score_test = r2_score(y_test, preds_test)\n",
        "\n",
        "print(\"r2_score_train: %f\" % (r2_score_train))\n",
        "print(\"r2_score_test: %f\" % (r2_score_test))\n",
        "\n",
        "plt.scatter(y_test,preds_test)\n"
      ],
      "execution_count": null,
      "outputs": [
        {
          "output_type": "stream",
          "text": [
            "RMSE_test: 2.2306013621890455\n",
            "RMSE_train: 1.805528524329726\n",
            "r2_score_train: 0.276867\n",
            "r2_score_test: 0.255722\n"
          ],
          "name": "stdout"
        },
        {
          "output_type": "execute_result",
          "data": {
            "text/plain": [
              "<matplotlib.collections.PathCollection at 0x7f20956ab5c0>"
            ]
          },
          "metadata": {
            "tags": []
          },
          "execution_count": 146
        },
        {
          "output_type": "display_data",
          "data": {
            "image/png": "[encoded data removed]",
            "text/plain": [
              "<Figure size 432x288 with 1 Axes>"
            ]
          },
          "metadata": {
            "tags": [],
            "needs_background": "light"
          }
        }
      ]
    },
    {
      "cell_type": "markdown",
      "metadata": {
        "id": "KCovVQ3iL_hJ"
      },
      "source": [
        "# Predictions on TEST data"
      ]
    },
    {
      "cell_type": "code",
      "metadata": {
        "id": "HJUDjNReMDwd",
        "colab": {
          "resources": {
            "http://localhost:8080/nbextensions/google.colab/files.js": {
              "data": "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",
              "ok": true,
              "headers": [
                [
                  "content-type",
                  "application/javascript"
                ]
              ],
              "status": 200,
              "status_text": "OK"
            }
          },
          "base_uri": "https://localhost:8080/",
          "height": 320
        },
        "outputId": "8309a33d-2d2d-4178-899d-1d47a0901767"
      },
      "source": [
        "from google.colab import files\n",
        "uploaded = files.upload()\n",
        "\n",
        "df_t = pd.read_csv('test.csv')\n",
        "\n",
        "df_t.head()"
      ],
      "execution_count": null,
      "outputs": [
        {
          "output_type": "display_data",
          "data": {
            "text/html": [
              "\n",
              "     <input type=\"file\" id=\"files-ffdc7a3d-c4b3-465c-8f07-98c3e3970027\" name=\"files[]\" multiple disabled\n",
              "        style=\"border:none\" />\n",
              "     <output id=\"result-ffdc7a3d-c4b3-465c-8f07-98c3e3970027\">\n",
              "      Upload widget is only available when the cell has been executed in the\n",
              "      current browser session. Please rerun this cell to enable.\n",
              "      </output>\n",
              "      <script src=\"/nbextensions/google.colab/files.js\"></script> "
            ],
            "text/plain": [
              "<IPython.core.display.HTML object>"
            ]
          },
          "metadata": {
            "tags": []
          }
        },
        {
          "output_type": "stream",
          "text": [
            "Saving test.csv to test (1).csv\n"
          ],
          "name": "stdout"
        },
        {
          "output_type": "execute_result",
          "data": {
            "text/html": [
              "<div>\n",
              "<style scoped>\n",
              "    .dataframe tbody tr th:only-of-type {\n",
              "        vertical-align: middle;\n",
              "    }\n",
              "\n",
              "    .dataframe tbody tr th {\n",
              "        vertical-align: top;\n",
              "    }\n",
              "\n",
              "    .dataframe thead th {\n",
              "        text-align: right;\n",
              "    }\n",
              "</style>\n",
              "<table border=\"1\" class=\"dataframe\">\n",
              "  <thead>\n",
              "    <tr style=\"text-align: right;\">\n",
              "      <th></th>\n",
              "      <th>Id</th>\n",
              "      <th>x0_t0</th>\n",
              "      <th>x0_t1</th>\n",
              "      <th>x0_t2</th>\n",
              "      <th>x0_t3</th>\n",
              "      <th>x0_t4</th>\n",
              "      <th>x0_t5</th>\n",
              "      <th>x0_t6</th>\n",
              "      <th>x1_t0</th>\n",
              "      <th>x1_t1</th>\n",
              "      <th>x1_t2</th>\n",
              "      <th>x1_t3</th>\n",
              "      <th>x1_t4</th>\n",
              "      <th>x1_t5</th>\n",
              "      <th>x1_t6</th>\n",
              "      <th>x2_t0</th>\n",
              "      <th>x2_t1</th>\n",
              "      <th>x2_t2</th>\n",
              "      <th>x2_t3</th>\n",
              "      <th>x2_t4</th>\n",
              "      <th>x2_t5</th>\n",
              "      <th>x2_t6</th>\n",
              "      <th>x3_t0</th>\n",
              "      <th>x3_t1</th>\n",
              "      <th>x3_t2</th>\n",
              "      <th>x3_t3</th>\n",
              "      <th>x3_t4</th>\n",
              "      <th>x3_t5</th>\n",
              "      <th>x3_t6</th>\n",
              "      <th>x4_t0</th>\n",
              "      <th>x4_t1</th>\n",
              "      <th>x4_t2</th>\n",
              "      <th>x4_t3</th>\n",
              "      <th>x4_t4</th>\n",
              "      <th>x4_t5</th>\n",
              "      <th>x4_t6</th>\n",
              "      <th>x5_t0</th>\n",
              "      <th>x5_t1</th>\n",
              "      <th>x5_t2</th>\n",
              "      <th>x5_t3</th>\n",
              "      <th>...</th>\n",
              "      <th>x49_t2</th>\n",
              "      <th>x49_t3</th>\n",
              "      <th>x49_t4</th>\n",
              "      <th>x49_t5</th>\n",
              "      <th>x49_t6</th>\n",
              "      <th>x50_t0</th>\n",
              "      <th>x50_t1</th>\n",
              "      <th>x50_t2</th>\n",
              "      <th>x50_t3</th>\n",
              "      <th>x50_t4</th>\n",
              "      <th>x50_t5</th>\n",
              "      <th>x50_t6</th>\n",
              "      <th>x51_t0</th>\n",
              "      <th>x51_t1</th>\n",
              "      <th>x51_t2</th>\n",
              "      <th>x51_t3</th>\n",
              "      <th>x51_t4</th>\n",
              "      <th>x51_t5</th>\n",
              "      <th>x51_t6</th>\n",
              "      <th>x52_t0</th>\n",
              "      <th>x52_t1</th>\n",
              "      <th>x52_t2</th>\n",
              "      <th>x52_t3</th>\n",
              "      <th>x52_t4</th>\n",
              "      <th>x52_t5</th>\n",
              "      <th>x52_t6</th>\n",
              "      <th>x53_t0</th>\n",
              "      <th>x53_t1</th>\n",
              "      <th>x53_t2</th>\n",
              "      <th>x53_t3</th>\n",
              "      <th>x53_t4</th>\n",
              "      <th>x53_t5</th>\n",
              "      <th>x53_t6</th>\n",
              "      <th>x54_t0</th>\n",
              "      <th>x54_t1</th>\n",
              "      <th>x54_t2</th>\n",
              "      <th>x54_t3</th>\n",
              "      <th>x54_t4</th>\n",
              "      <th>x54_t5</th>\n",
              "      <th>x54_t6</th>\n",
              "    </tr>\n",
              "  </thead>\n",
              "  <tbody>\n",
              "    <tr>\n",
              "      <th>0</th>\n",
              "      <td>584</td>\n",
              "      <td>738.152456</td>\n",
              "      <td>747.990517</td>\n",
              "      <td>754.681726</td>\n",
              "      <td>750.607263</td>\n",
              "      <td>754.378901</td>\n",
              "      <td>746.444051</td>\n",
              "      <td>750.95</td>\n",
              "      <td>0.740932</td>\n",
              "      <td>0.706801</td>\n",
              "      <td>0.723154</td>\n",
              "      <td>0.723744</td>\n",
              "      <td>0.716378</td>\n",
              "      <td>0.740058</td>\n",
              "      <td>1.376</td>\n",
              "      <td>1.0</td>\n",
              "      <td>1.0</td>\n",
              "      <td>1.0</td>\n",
              "      <td>1.0</td>\n",
              "      <td>1.0</td>\n",
              "      <td>1.0</td>\n",
              "      <td>1.0</td>\n",
              "      <td>28.531013</td>\n",
              "      <td>28.256823</td>\n",
              "      <td>28.316151</td>\n",
              "      <td>28.232895</td>\n",
              "      <td>28.210854</td>\n",
              "      <td>25.527715</td>\n",
              "      <td>27.9</td>\n",
              "      <td>6.9</td>\n",
              "      <td>6.9</td>\n",
              "      <td>6.9</td>\n",
              "      <td>6.9</td>\n",
              "      <td>6.9</td>\n",
              "      <td>6.9</td>\n",
              "      <td>6.9</td>\n",
              "      <td>750.314288</td>\n",
              "      <td>740.029072</td>\n",
              "      <td>743.596073</td>\n",
              "      <td>742.075970</td>\n",
              "      <td>...</td>\n",
              "      <td>139.852962</td>\n",
              "      <td>78.052360</td>\n",
              "      <td>140.511566</td>\n",
              "      <td>140.75</td>\n",
              "      <td>140.75</td>\n",
              "      <td>15.530733</td>\n",
              "      <td>15.600093</td>\n",
              "      <td>16.042169</td>\n",
              "      <td>16.064495</td>\n",
              "      <td>16.050873</td>\n",
              "      <td>14.62</td>\n",
              "      <td>14.62</td>\n",
              "      <td>855.087122</td>\n",
              "      <td>861.856605</td>\n",
              "      <td>885.925861</td>\n",
              "      <td>893.369500</td>\n",
              "      <td>885.251467</td>\n",
              "      <td>866.57</td>\n",
              "      <td>866.57</td>\n",
              "      <td>684.129784</td>\n",
              "      <td>684.473194</td>\n",
              "      <td>677.796316</td>\n",
              "      <td>679.067686</td>\n",
              "      <td>680.896822</td>\n",
              "      <td>659.85</td>\n",
              "      <td>659.85</td>\n",
              "      <td>87.924252</td>\n",
              "      <td>91.386511</td>\n",
              "      <td>87.684191</td>\n",
              "      <td>91.393546</td>\n",
              "      <td>90.828849</td>\n",
              "      <td>87.2</td>\n",
              "      <td>87.2</td>\n",
              "      <td>1.964234</td>\n",
              "      <td>1.913202</td>\n",
              "      <td>1.599676</td>\n",
              "      <td>1.596884</td>\n",
              "      <td>1.480912</td>\n",
              "      <td>2.03</td>\n",
              "      <td>2.03</td>\n",
              "    </tr>\n",
              "    <tr>\n",
              "      <th>1</th>\n",
              "      <td>678</td>\n",
              "      <td>750.304526</td>\n",
              "      <td>751.440356</td>\n",
              "      <td>751.625640</td>\n",
              "      <td>751.040838</td>\n",
              "      <td>749.642800</td>\n",
              "      <td>751.071232</td>\n",
              "      <td>750.95</td>\n",
              "      <td>0.714269</td>\n",
              "      <td>0.707234</td>\n",
              "      <td>0.666824</td>\n",
              "      <td>0.673494</td>\n",
              "      <td>0.736822</td>\n",
              "      <td>0.778918</td>\n",
              "      <td>1.376</td>\n",
              "      <td>1.0</td>\n",
              "      <td>1.0</td>\n",
              "      <td>1.0</td>\n",
              "      <td>1.0</td>\n",
              "      <td>1.0</td>\n",
              "      <td>1.0</td>\n",
              "      <td>1.0</td>\n",
              "      <td>21.805719</td>\n",
              "      <td>21.368538</td>\n",
              "      <td>21.688408</td>\n",
              "      <td>21.697643</td>\n",
              "      <td>21.656669</td>\n",
              "      <td>21.902278</td>\n",
              "      <td>27.9</td>\n",
              "      <td>6.9</td>\n",
              "      <td>6.9</td>\n",
              "      <td>6.9</td>\n",
              "      <td>6.9</td>\n",
              "      <td>6.9</td>\n",
              "      <td>6.9</td>\n",
              "      <td>6.9</td>\n",
              "      <td>732.939902</td>\n",
              "      <td>718.816436</td>\n",
              "      <td>716.652476</td>\n",
              "      <td>729.130399</td>\n",
              "      <td>...</td>\n",
              "      <td>137.746375</td>\n",
              "      <td>139.857441</td>\n",
              "      <td>96.186213</td>\n",
              "      <td>140.75</td>\n",
              "      <td>140.75</td>\n",
              "      <td>16.553412</td>\n",
              "      <td>16.707685</td>\n",
              "      <td>16.309841</td>\n",
              "      <td>17.363410</td>\n",
              "      <td>17.336537</td>\n",
              "      <td>14.62</td>\n",
              "      <td>14.62</td>\n",
              "      <td>886.904962</td>\n",
              "      <td>900.970138</td>\n",
              "      <td>892.653772</td>\n",
              "      <td>887.733551</td>\n",
              "      <td>847.896550</td>\n",
              "      <td>866.57</td>\n",
              "      <td>866.57</td>\n",
              "      <td>646.015503</td>\n",
              "      <td>648.743174</td>\n",
              "      <td>649.792619</td>\n",
              "      <td>650.349636</td>\n",
              "      <td>665.107940</td>\n",
              "      <td>659.85</td>\n",
              "      <td>659.85</td>\n",
              "      <td>88.135291</td>\n",
              "      <td>89.252321</td>\n",
              "      <td>90.075781</td>\n",
              "      <td>89.955520</td>\n",
              "      <td>90.498723</td>\n",
              "      <td>87.2</td>\n",
              "      <td>87.2</td>\n",
              "      <td>1.631347</td>\n",
              "      <td>1.660712</td>\n",
              "      <td>1.874003</td>\n",
              "      <td>1.939651</td>\n",
              "      <td>2.044686</td>\n",
              "      <td>2.03</td>\n",
              "      <td>2.03</td>\n",
              "    </tr>\n",
              "    <tr>\n",
              "      <th>2</th>\n",
              "      <td>728</td>\n",
              "      <td>778.247612</td>\n",
              "      <td>766.210592</td>\n",
              "      <td>773.076177</td>\n",
              "      <td>775.301112</td>\n",
              "      <td>776.258670</td>\n",
              "      <td>766.606237</td>\n",
              "      <td>750.95</td>\n",
              "      <td>0.943009</td>\n",
              "      <td>0.857520</td>\n",
              "      <td>0.827927</td>\n",
              "      <td>0.850126</td>\n",
              "      <td>0.929918</td>\n",
              "      <td>0.786297</td>\n",
              "      <td>1.376</td>\n",
              "      <td>1.0</td>\n",
              "      <td>1.0</td>\n",
              "      <td>1.0</td>\n",
              "      <td>1.0</td>\n",
              "      <td>1.0</td>\n",
              "      <td>1.0</td>\n",
              "      <td>1.0</td>\n",
              "      <td>21.799581</td>\n",
              "      <td>21.730315</td>\n",
              "      <td>21.455666</td>\n",
              "      <td>21.810384</td>\n",
              "      <td>21.403640</td>\n",
              "      <td>7.831283</td>\n",
              "      <td>27.9</td>\n",
              "      <td>6.7</td>\n",
              "      <td>6.7</td>\n",
              "      <td>6.7</td>\n",
              "      <td>6.7</td>\n",
              "      <td>6.7</td>\n",
              "      <td>6.7</td>\n",
              "      <td>6.9</td>\n",
              "      <td>758.659606</td>\n",
              "      <td>769.883857</td>\n",
              "      <td>768.920043</td>\n",
              "      <td>773.176669</td>\n",
              "      <td>...</td>\n",
              "      <td>25.057233</td>\n",
              "      <td>143.919175</td>\n",
              "      <td>143.970977</td>\n",
              "      <td>140.75</td>\n",
              "      <td>140.75</td>\n",
              "      <td>16.339534</td>\n",
              "      <td>16.234889</td>\n",
              "      <td>14.008356</td>\n",
              "      <td>13.769286</td>\n",
              "      <td>13.758843</td>\n",
              "      <td>14.62</td>\n",
              "      <td>14.62</td>\n",
              "      <td>886.602579</td>\n",
              "      <td>885.042899</td>\n",
              "      <td>833.304651</td>\n",
              "      <td>855.937760</td>\n",
              "      <td>846.979556</td>\n",
              "      <td>866.57</td>\n",
              "      <td>866.57</td>\n",
              "      <td>620.550728</td>\n",
              "      <td>624.247153</td>\n",
              "      <td>626.729119</td>\n",
              "      <td>629.299988</td>\n",
              "      <td>628.264240</td>\n",
              "      <td>659.85</td>\n",
              "      <td>659.85</td>\n",
              "      <td>91.384072</td>\n",
              "      <td>91.912166</td>\n",
              "      <td>88.442404</td>\n",
              "      <td>88.431589</td>\n",
              "      <td>87.886603</td>\n",
              "      <td>87.2</td>\n",
              "      <td>87.2</td>\n",
              "      <td>1.865880</td>\n",
              "      <td>1.778088</td>\n",
              "      <td>2.307626</td>\n",
              "      <td>2.472161</td>\n",
              "      <td>2.193177</td>\n",
              "      <td>2.03</td>\n",
              "      <td>2.03</td>\n",
              "    </tr>\n",
              "    <tr>\n",
              "      <th>3</th>\n",
              "      <td>338</td>\n",
              "      <td>759.227472</td>\n",
              "      <td>758.535754</td>\n",
              "      <td>762.247934</td>\n",
              "      <td>774.868563</td>\n",
              "      <td>754.005989</td>\n",
              "      <td>757.404229</td>\n",
              "      <td>750.95</td>\n",
              "      <td>1.035127</td>\n",
              "      <td>1.049087</td>\n",
              "      <td>1.076066</td>\n",
              "      <td>1.031095</td>\n",
              "      <td>1.017599</td>\n",
              "      <td>1.030247</td>\n",
              "      <td>1.376</td>\n",
              "      <td>1.0</td>\n",
              "      <td>1.0</td>\n",
              "      <td>1.0</td>\n",
              "      <td>1.0</td>\n",
              "      <td>1.0</td>\n",
              "      <td>1.0</td>\n",
              "      <td>1.0</td>\n",
              "      <td>27.297272</td>\n",
              "      <td>26.796315</td>\n",
              "      <td>26.847153</td>\n",
              "      <td>27.028782</td>\n",
              "      <td>27.011051</td>\n",
              "      <td>27.103765</td>\n",
              "      <td>27.9</td>\n",
              "      <td>6.6</td>\n",
              "      <td>6.6</td>\n",
              "      <td>6.6</td>\n",
              "      <td>6.6</td>\n",
              "      <td>6.6</td>\n",
              "      <td>6.6</td>\n",
              "      <td>6.9</td>\n",
              "      <td>747.475924</td>\n",
              "      <td>741.440557</td>\n",
              "      <td>740.967104</td>\n",
              "      <td>745.394099</td>\n",
              "      <td>...</td>\n",
              "      <td>127.225084</td>\n",
              "      <td>1.319278</td>\n",
              "      <td>20.357368</td>\n",
              "      <td>140.75</td>\n",
              "      <td>140.75</td>\n",
              "      <td>13.499511</td>\n",
              "      <td>13.537267</td>\n",
              "      <td>13.965318</td>\n",
              "      <td>11.436131</td>\n",
              "      <td>16.924345</td>\n",
              "      <td>14.62</td>\n",
              "      <td>14.62</td>\n",
              "      <td>884.302627</td>\n",
              "      <td>898.976630</td>\n",
              "      <td>915.418676</td>\n",
              "      <td>920.514648</td>\n",
              "      <td>887.560716</td>\n",
              "      <td>866.57</td>\n",
              "      <td>866.57</td>\n",
              "      <td>692.841677</td>\n",
              "      <td>694.801674</td>\n",
              "      <td>689.087045</td>\n",
              "      <td>698.203893</td>\n",
              "      <td>701.844375</td>\n",
              "      <td>659.85</td>\n",
              "      <td>659.85</td>\n",
              "      <td>86.014749</td>\n",
              "      <td>84.436064</td>\n",
              "      <td>84.314345</td>\n",
              "      <td>85.308653</td>\n",
              "      <td>84.867806</td>\n",
              "      <td>87.2</td>\n",
              "      <td>87.2</td>\n",
              "      <td>1.876135</td>\n",
              "      <td>2.091196</td>\n",
              "      <td>1.835713</td>\n",
              "      <td>1.870825</td>\n",
              "      <td>1.741741</td>\n",
              "      <td>2.03</td>\n",
              "      <td>2.03</td>\n",
              "    </tr>\n",
              "    <tr>\n",
              "      <th>4</th>\n",
              "      <td>570</td>\n",
              "      <td>770.473802</td>\n",
              "      <td>768.971055</td>\n",
              "      <td>770.843730</td>\n",
              "      <td>771.960856</td>\n",
              "      <td>768.813193</td>\n",
              "      <td>760.116829</td>\n",
              "      <td>750.95</td>\n",
              "      <td>1.299968</td>\n",
              "      <td>1.374928</td>\n",
              "      <td>1.374079</td>\n",
              "      <td>1.382351</td>\n",
              "      <td>1.284384</td>\n",
              "      <td>1.369515</td>\n",
              "      <td>1.376</td>\n",
              "      <td>1.0</td>\n",
              "      <td>1.0</td>\n",
              "      <td>1.0</td>\n",
              "      <td>1.0</td>\n",
              "      <td>1.0</td>\n",
              "      <td>1.0</td>\n",
              "      <td>1.0</td>\n",
              "      <td>20.305133</td>\n",
              "      <td>20.450279</td>\n",
              "      <td>20.196557</td>\n",
              "      <td>20.420533</td>\n",
              "      <td>20.226292</td>\n",
              "      <td>20.351851</td>\n",
              "      <td>27.9</td>\n",
              "      <td>6.9</td>\n",
              "      <td>6.9</td>\n",
              "      <td>6.9</td>\n",
              "      <td>6.9</td>\n",
              "      <td>6.9</td>\n",
              "      <td>6.9</td>\n",
              "      <td>6.9</td>\n",
              "      <td>764.077975</td>\n",
              "      <td>763.753649</td>\n",
              "      <td>760.025952</td>\n",
              "      <td>760.180979</td>\n",
              "      <td>...</td>\n",
              "      <td>141.797682</td>\n",
              "      <td>139.252002</td>\n",
              "      <td>126.244026</td>\n",
              "      <td>140.75</td>\n",
              "      <td>140.75</td>\n",
              "      <td>16.047500</td>\n",
              "      <td>15.831022</td>\n",
              "      <td>16.002220</td>\n",
              "      <td>16.050506</td>\n",
              "      <td>16.044590</td>\n",
              "      <td>14.62</td>\n",
              "      <td>14.62</td>\n",
              "      <td>855.680275</td>\n",
              "      <td>872.193249</td>\n",
              "      <td>882.039923</td>\n",
              "      <td>886.855877</td>\n",
              "      <td>876.797866</td>\n",
              "      <td>866.57</td>\n",
              "      <td>866.57</td>\n",
              "      <td>645.826674</td>\n",
              "      <td>647.687304</td>\n",
              "      <td>650.558850</td>\n",
              "      <td>650.322325</td>\n",
              "      <td>650.437337</td>\n",
              "      <td>659.85</td>\n",
              "      <td>659.85</td>\n",
              "      <td>91.535944</td>\n",
              "      <td>90.324499</td>\n",
              "      <td>88.191878</td>\n",
              "      <td>91.113585</td>\n",
              "      <td>88.013675</td>\n",
              "      <td>87.2</td>\n",
              "      <td>87.2</td>\n",
              "      <td>1.893169</td>\n",
              "      <td>2.407545</td>\n",
              "      <td>2.322047</td>\n",
              "      <td>2.082357</td>\n",
              "      <td>2.099017</td>\n",
              "      <td>2.03</td>\n",
              "      <td>2.03</td>\n",
              "    </tr>\n",
              "  </tbody>\n",
              "</table>\n",
              "<p>5 rows × 386 columns</p>\n",
              "</div>"
            ],
            "text/plain": [
              "    Id       x0_t0       x0_t1       x0_t2  ...    x54_t3    x54_t4  x54_t5  x54_t6\n",
              "0  584  738.152456  747.990517  754.681726  ...  1.596884  1.480912    2.03    2.03\n",
              "1  678  750.304526  751.440356  751.625640  ...  1.939651  2.044686    2.03    2.03\n",
              "2  728  778.247612  766.210592  773.076177  ...  2.472161  2.193177    2.03    2.03\n",
              "3  338  759.227472  758.535754  762.247934  ...  1.870825  1.741741    2.03    2.03\n",
              "4  570  770.473802  768.971055  770.843730  ...  2.082357  2.099017    2.03    2.03\n",
              "\n",
              "[5 rows x 386 columns]"
            ]
          },
          "metadata": {
            "tags": []
          },
          "execution_count": 44
        }
      ]
    },
    {
      "cell_type": "code",
      "metadata": {
        "id": "EfPAyHO4OA_r",
        "colab": {
          "base_uri": "https://localhost:8080/",
          "height": 238
        },
        "outputId": "401080fe-4fd1-41f9-cd94-17f5fbe4ab0c"
      },
      "source": [
        "X = df_t.drop(['Id'],axis='columns')\n",
        "X.shape\n",
        "Test_data_predictions = xg_reg.predict(X)\n",
        "\n",
        "#final_submission['id'] = df12['id']\n",
        "\n",
        "#final_submission['price'] = pd.DataFrame(10**Test_data_predictions)\n",
        "\n",
        "\n",
        "\n",
        "submission = pd.DataFrame(Test_data_predictions,index = df_t['Id'],columns = ['y2'])\n",
        "\n",
        "#print(final_submission2.columns)\n",
        "\n",
        "submission.to_csv('Submission_Bombay_Hackers.csv')\n",
        "\n",
        "\n",
        "submission.head()"
      ],
      "execution_count": null,
      "outputs": [
        {
          "output_type": "execute_result",
          "data": {
            "text/html": [
              "<div>\n",
              "<style scoped>\n",
              "    .dataframe tbody tr th:only-of-type {\n",
              "        vertical-align: middle;\n",
              "    }\n",
              "\n",
              "    .dataframe tbody tr th {\n",
              "        vertical-align: top;\n",
              "    }\n",
              "\n",
              "    .dataframe thead th {\n",
              "        text-align: right;\n",
              "    }\n",
              "</style>\n",
              "<table border=\"1\" class=\"dataframe\">\n",
              "  <thead>\n",
              "    <tr style=\"text-align: right;\">\n",
              "      <th></th>\n",
              "      <th>y2</th>\n",
              "    </tr>\n",
              "    <tr>\n",
              "      <th>Id</th>\n",
              "      <th></th>\n",
              "    </tr>\n",
              "  </thead>\n",
              "  <tbody>\n",
              "    <tr>\n",
              "      <th>584</th>\n",
              "      <td>0.551162</td>\n",
              "    </tr>\n",
              "    <tr>\n",
              "      <th>678</th>\n",
              "      <td>0.464767</td>\n",
              "    </tr>\n",
              "    <tr>\n",
              "      <th>728</th>\n",
              "      <td>0.488200</td>\n",
              "    </tr>\n",
              "    <tr>\n",
              "      <th>338</th>\n",
              "      <td>0.525598</td>\n",
              "    </tr>\n",
              "    <tr>\n",
              "      <th>570</th>\n",
              "      <td>0.357522</td>\n",
              "    </tr>\n",
              "  </tbody>\n",
              "</table>\n",
              "</div>"
            ],
            "text/plain": [
              "           y2\n",
              "Id           \n",
              "584  0.551162\n",
              "678  0.464767\n",
              "728  0.488200\n",
              "338  0.525598\n",
              "570  0.357522"
            ]
          },
          "metadata": {
            "tags": []
          },
          "execution_count": 73
        }
      ]
    },
    {
      "cell_type": "code",
      "metadata": {
        "id": "aCFUzpvZPZCO"
      },
      "source": [
        ""
      ],
      "execution_count": null,
      "outputs": []
    }
  ]
}