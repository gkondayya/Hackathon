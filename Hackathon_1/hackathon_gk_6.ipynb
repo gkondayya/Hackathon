{
 "cells": [
  {
   "cell_type": "code",
   "execution_count": 1,
   "metadata": {},
   "outputs": [],
   "source": [
    "import os\n",
    "import numpy as np\n",
    "import pandas as pd\n",
    "import matplotlib.pyplot as plt\n",
    "import seaborn as sns\n",
    "%matplotlib inline"
   ]
  },
  {
   "cell_type": "markdown",
   "metadata": {},
   "source": [
    "# We should not use \"dropna\"  now as it removes 6982 + rows \n",
    "# Instead it is Better to remove Columns \"last_review\" and \"reviews_per_month \""
   ]
  },
  {
   "cell_type": "code",
   "execution_count": 2,
   "metadata": {},
   "outputs": [
    {
     "data": {
      "text/plain": [
       "id                                   0\n",
       "name                                12\n",
       "host_id                              0\n",
       "host_name                           13\n",
       "neighbourhood_group                  0\n",
       "neighbourhood                        0\n",
       "latitude                             0\n",
       "longitude                            0\n",
       "room_type                            0\n",
       "price                                0\n",
       "minimum_nights                       0\n",
       "number_of_reviews                    0\n",
       "last_review                       6982\n",
       "reviews_per_month                 6982\n",
       "calculated_host_listings_count       0\n",
       "availability_365                     0\n",
       "dtype: int64"
      ]
     },
     "execution_count": 2,
     "metadata": {},
     "output_type": "execute_result"
    }
   ],
   "source": [
    "df1 = pd.read_csv('Data/Train.csv',encoding=\"ISO-8859-1\")\n",
    "\n",
    "#country = pd.read_excel('Country-Code.xlsx')\n",
    "#country.head()\n",
    "df1.shape\n",
    "df1.isnull().sum()\n"
   ]
  },
  {
   "cell_type": "code",
   "execution_count": 3,
   "metadata": {},
   "outputs": [
    {
     "name": "stdout",
     "output_type": "stream",
     "text": [
      "<class 'pandas.core.frame.DataFrame'>\n",
      "RangeIndex: 34226 entries, 0 to 34225\n",
      "Data columns (total 16 columns):\n",
      " #   Column                          Non-Null Count  Dtype  \n",
      "---  ------                          --------------  -----  \n",
      " 0   id                              34226 non-null  int64  \n",
      " 1   name                            34214 non-null  object \n",
      " 2   host_id                         34226 non-null  int64  \n",
      " 3   host_name                       34213 non-null  object \n",
      " 4   neighbourhood_group             34226 non-null  object \n",
      " 5   neighbourhood                   34226 non-null  object \n",
      " 6   latitude                        34226 non-null  float64\n",
      " 7   longitude                       34226 non-null  float64\n",
      " 8   room_type                       34226 non-null  object \n",
      " 9   price                           34226 non-null  int64  \n",
      " 10  minimum_nights                  34226 non-null  int64  \n",
      " 11  number_of_reviews               34226 non-null  int64  \n",
      " 12  last_review                     27244 non-null  object \n",
      " 13  reviews_per_month               27244 non-null  float64\n",
      " 14  calculated_host_listings_count  34226 non-null  int64  \n",
      " 15  availability_365                34226 non-null  int64  \n",
      "dtypes: float64(3), int64(7), object(6)\n",
      "memory usage: 4.2+ MB\n"
     ]
    }
   ],
   "source": [
    "df1.info()"
   ]
  },
  {
   "cell_type": "code",
   "execution_count": 4,
   "metadata": {},
   "outputs": [
    {
     "data": {
      "text/html": [
       "<div>\n",
       "<style scoped>\n",
       "    .dataframe tbody tr th:only-of-type {\n",
       "        vertical-align: middle;\n",
       "    }\n",
       "\n",
       "    .dataframe tbody tr th {\n",
       "        vertical-align: top;\n",
       "    }\n",
       "\n",
       "    .dataframe thead th {\n",
       "        text-align: right;\n",
       "    }\n",
       "</style>\n",
       "<table border=\"1\" class=\"dataframe\">\n",
       "  <thead>\n",
       "    <tr style=\"text-align: right;\">\n",
       "      <th></th>\n",
       "      <th>id</th>\n",
       "      <th>host_id</th>\n",
       "      <th>latitude</th>\n",
       "      <th>longitude</th>\n",
       "      <th>price</th>\n",
       "      <th>minimum_nights</th>\n",
       "      <th>number_of_reviews</th>\n",
       "      <th>reviews_per_month</th>\n",
       "      <th>calculated_host_listings_count</th>\n",
       "      <th>availability_365</th>\n",
       "    </tr>\n",
       "  </thead>\n",
       "  <tbody>\n",
       "    <tr>\n",
       "      <th>count</th>\n",
       "      <td>3.422600e+04</td>\n",
       "      <td>3.422600e+04</td>\n",
       "      <td>34226.000000</td>\n",
       "      <td>34226.000000</td>\n",
       "      <td>34226.000000</td>\n",
       "      <td>34226.000000</td>\n",
       "      <td>34226.000000</td>\n",
       "      <td>27244.000000</td>\n",
       "      <td>34226.000000</td>\n",
       "      <td>34226.000000</td>\n",
       "    </tr>\n",
       "    <tr>\n",
       "      <th>mean</th>\n",
       "      <td>1.898209e+07</td>\n",
       "      <td>6.733847e+07</td>\n",
       "      <td>40.729059</td>\n",
       "      <td>-73.952070</td>\n",
       "      <td>153.480979</td>\n",
       "      <td>6.953690</td>\n",
       "      <td>23.390931</td>\n",
       "      <td>1.377074</td>\n",
       "      <td>7.093905</td>\n",
       "      <td>113.301730</td>\n",
       "    </tr>\n",
       "    <tr>\n",
       "      <th>std</th>\n",
       "      <td>1.097597e+07</td>\n",
       "      <td>7.833091e+07</td>\n",
       "      <td>0.054604</td>\n",
       "      <td>0.046161</td>\n",
       "      <td>243.312608</td>\n",
       "      <td>20.255833</td>\n",
       "      <td>44.476822</td>\n",
       "      <td>1.688953</td>\n",
       "      <td>32.828412</td>\n",
       "      <td>131.892814</td>\n",
       "    </tr>\n",
       "    <tr>\n",
       "      <th>min</th>\n",
       "      <td>2.595000e+03</td>\n",
       "      <td>2.438000e+03</td>\n",
       "      <td>40.499790</td>\n",
       "      <td>-74.244420</td>\n",
       "      <td>0.000000</td>\n",
       "      <td>1.000000</td>\n",
       "      <td>0.000000</td>\n",
       "      <td>0.010000</td>\n",
       "      <td>1.000000</td>\n",
       "      <td>0.000000</td>\n",
       "    </tr>\n",
       "    <tr>\n",
       "      <th>25%</th>\n",
       "      <td>9.460366e+06</td>\n",
       "      <td>7.824440e+06</td>\n",
       "      <td>40.690040</td>\n",
       "      <td>-73.983150</td>\n",
       "      <td>69.000000</td>\n",
       "      <td>1.000000</td>\n",
       "      <td>1.000000</td>\n",
       "      <td>0.190000</td>\n",
       "      <td>1.000000</td>\n",
       "      <td>0.000000</td>\n",
       "    </tr>\n",
       "    <tr>\n",
       "      <th>50%</th>\n",
       "      <td>1.965371e+07</td>\n",
       "      <td>3.065628e+07</td>\n",
       "      <td>40.722995</td>\n",
       "      <td>-73.955700</td>\n",
       "      <td>107.000000</td>\n",
       "      <td>2.000000</td>\n",
       "      <td>5.000000</td>\n",
       "      <td>0.730000</td>\n",
       "      <td>1.000000</td>\n",
       "      <td>45.000000</td>\n",
       "    </tr>\n",
       "    <tr>\n",
       "      <th>75%</th>\n",
       "      <td>2.908201e+07</td>\n",
       "      <td>1.074344e+08</td>\n",
       "      <td>40.763200</td>\n",
       "      <td>-73.935982</td>\n",
       "      <td>175.000000</td>\n",
       "      <td>5.000000</td>\n",
       "      <td>24.000000</td>\n",
       "      <td>2.020000</td>\n",
       "      <td>2.000000</td>\n",
       "      <td>229.000000</td>\n",
       "    </tr>\n",
       "    <tr>\n",
       "      <th>max</th>\n",
       "      <td>3.648724e+07</td>\n",
       "      <td>2.743115e+08</td>\n",
       "      <td>40.913060</td>\n",
       "      <td>-73.712990</td>\n",
       "      <td>10000.000000</td>\n",
       "      <td>1250.000000</td>\n",
       "      <td>629.000000</td>\n",
       "      <td>58.500000</td>\n",
       "      <td>327.000000</td>\n",
       "      <td>365.000000</td>\n",
       "    </tr>\n",
       "  </tbody>\n",
       "</table>\n",
       "</div>"
      ],
      "text/plain": [
       "                 id       host_id      latitude     longitude         price  \\\n",
       "count  3.422600e+04  3.422600e+04  34226.000000  34226.000000  34226.000000   \n",
       "mean   1.898209e+07  6.733847e+07     40.729059    -73.952070    153.480979   \n",
       "std    1.097597e+07  7.833091e+07      0.054604      0.046161    243.312608   \n",
       "min    2.595000e+03  2.438000e+03     40.499790    -74.244420      0.000000   \n",
       "25%    9.460366e+06  7.824440e+06     40.690040    -73.983150     69.000000   \n",
       "50%    1.965371e+07  3.065628e+07     40.722995    -73.955700    107.000000   \n",
       "75%    2.908201e+07  1.074344e+08     40.763200    -73.935982    175.000000   \n",
       "max    3.648724e+07  2.743115e+08     40.913060    -73.712990  10000.000000   \n",
       "\n",
       "       minimum_nights  number_of_reviews  reviews_per_month  \\\n",
       "count    34226.000000       34226.000000       27244.000000   \n",
       "mean         6.953690          23.390931           1.377074   \n",
       "std         20.255833          44.476822           1.688953   \n",
       "min          1.000000           0.000000           0.010000   \n",
       "25%          1.000000           1.000000           0.190000   \n",
       "50%          2.000000           5.000000           0.730000   \n",
       "75%          5.000000          24.000000           2.020000   \n",
       "max       1250.000000         629.000000          58.500000   \n",
       "\n",
       "       calculated_host_listings_count  availability_365  \n",
       "count                    34226.000000      34226.000000  \n",
       "mean                         7.093905        113.301730  \n",
       "std                         32.828412        131.892814  \n",
       "min                          1.000000          0.000000  \n",
       "25%                          1.000000          0.000000  \n",
       "50%                          1.000000         45.000000  \n",
       "75%                          2.000000        229.000000  \n",
       "max                        327.000000        365.000000  "
      ]
     },
     "execution_count": 4,
     "metadata": {},
     "output_type": "execute_result"
    }
   ],
   "source": [
    "df1.describe()"
   ]
  },
  {
   "cell_type": "markdown",
   "metadata": {},
   "source": [
    "# Null values in Column \"name\" = 12\n",
    "# Null values in Column \"host_name\" =13"
   ]
  },
  {
   "cell_type": "code",
   "execution_count": 5,
   "metadata": {},
   "outputs": [
    {
     "data": {
      "text/plain": [
       "12"
      ]
     },
     "execution_count": 5,
     "metadata": {},
     "output_type": "execute_result"
    }
   ],
   "source": [
    "df1['name'].isnull().sum()\n"
   ]
  },
  {
   "cell_type": "code",
   "execution_count": 6,
   "metadata": {},
   "outputs": [
    {
     "data": {
      "text/plain": [
       "13"
      ]
     },
     "execution_count": 6,
     "metadata": {},
     "output_type": "execute_result"
    }
   ],
   "source": [
    "df1['host_name'].isnull().sum()"
   ]
  },
  {
   "cell_type": "markdown",
   "metadata": {},
   "source": [
    "# Price distribution (Actual data set)"
   ]
  },
  {
   "cell_type": "code",
   "execution_count": 7,
   "metadata": {},
   "outputs": [
    {
     "data": {
      "image/png": "[encoded data removed]",
      "text/plain": [
       "<Figure size 432x288 with 1 Axes>"
      ]
     },
     "metadata": {
      "needs_background": "light"
     },
     "output_type": "display_data"
    }
   ],
   "source": [
    "import matplotlib \n",
    "#matplotlib.rcParams[\"figure.figsize\"] = (15,10)\n",
    "plt.yscale('log')\n",
    "plt.hist(df1.price,rwidth=0.5)\n",
    "plt.xlabel('price')\n",
    "plt.ylabel('No. of properties')\n",
    "plt.rcParams.update({'font.size': 22})\n",
    "plt.show()"
   ]
  },
  {
   "cell_type": "markdown",
   "metadata": {},
   "source": [
    "# Price distribution (price<4000)"
   ]
  },
  {
   "cell_type": "code",
   "execution_count": 8,
   "metadata": {},
   "outputs": [
    {
     "data": {
      "image/png": "[encoded data removed]",
      "text/plain": [
       "<Figure size 432x288 with 1 Axes>"
      ]
     },
     "metadata": {
      "needs_background": "light"
     },
     "output_type": "display_data"
    }
   ],
   "source": [
    "df2 = df1[df1.price<3000]\n",
    "#plt.yscale('log')\n",
    "plt.hist(df2.price,rwidth=0.5)\n",
    "plt.xlabel('price')\n",
    "plt.ylabel('No. of properties')\n",
    "plt.rcParams.update({'font.size': 22})\n",
    "plt.show()\n"
   ]
  },
  {
   "cell_type": "markdown",
   "metadata": {},
   "source": [
    "# Price distribution (price<500)\n",
    "# Majority of the properties (about 1/3 rd) are priced around 100 dollars\n",
    "# only 892 properties cost more than 500 dollars"
   ]
  },
  {
   "cell_type": "code",
   "execution_count": 9,
   "metadata": {},
   "outputs": [
    {
     "data": {
      "image/png": "[encoded data removed]",
      "text/plain": [
       "<Figure size 432x288 with 1 Axes>"
      ]
     },
     "metadata": {
      "needs_background": "light"
     },
     "output_type": "display_data"
    }
   ],
   "source": [
    "df2 = df1[df1.price < 500]\n",
    "#plt.yscale('log')\n",
    "plt.hist(df2.price,rwidth=0.5)\n",
    "plt.xlabel('price')\n",
    "plt.ylabel('No. of properties')\n",
    "plt.rcParams.update({'font.size': 22})\n",
    "plt.show()"
   ]
  },
  {
   "cell_type": "code",
   "execution_count": 10,
   "metadata": {},
   "outputs": [
    {
     "data": {
      "text/plain": [
       "(34226, 16)"
      ]
     },
     "execution_count": 10,
     "metadata": {},
     "output_type": "execute_result"
    }
   ],
   "source": [
    "df1.shape"
   ]
  },
  {
   "cell_type": "code",
   "execution_count": 11,
   "metadata": {},
   "outputs": [
    {
     "data": {
      "text/plain": [
       "(33334, 16)"
      ]
     },
     "execution_count": 11,
     "metadata": {},
     "output_type": "execute_result"
    }
   ],
   "source": [
    "df2.shape"
   ]
  },
  {
   "cell_type": "code",
   "execution_count": 12,
   "metadata": {},
   "outputs": [
    {
     "data": {
      "text/plain": [
       "(892, 16)"
      ]
     },
     "execution_count": 12,
     "metadata": {},
     "output_type": "execute_result"
    }
   ],
   "source": [
    "df2 = df1[df1.price>=500]\n",
    "df2.shape"
   ]
  },
  {
   "cell_type": "markdown",
   "metadata": {},
   "source": [
    "# Distribution of room types (not working, kernal hangs!!!)"
   ]
  },
  {
   "cell_type": "code",
   "execution_count": 13,
   "metadata": {},
   "outputs": [],
   "source": [
    "#plt.hist(df1.room_type,rwidth=0.5)\n",
    "#plt.xlabel('Room_Type')\n",
    "#plt.ylabel('No. of properties')\n",
    "#plt.rcParams.update({'font.size': 22})\n",
    "#plt.show()"
   ]
  },
  {
   "cell_type": "markdown",
   "metadata": {},
   "source": [
    "# Finding total no of host_names"
   ]
  },
  {
   "cell_type": "code",
   "execution_count": 14,
   "metadata": {},
   "outputs": [
    {
     "data": {
      "text/plain": [
       "Michael         291\n",
       "David           290\n",
       "Sonder (NYC)    229\n",
       "John            208\n",
       "Alex            199\n",
       "               ... \n",
       "Slava             1\n",
       "Edwina            1\n",
       "DesirÃ©e          1\n",
       "Lamia             1\n",
       "Lilli             1\n",
       "Name: host_name, Length: 9290, dtype: int64"
      ]
     },
     "execution_count": 14,
     "metadata": {},
     "output_type": "execute_result"
    }
   ],
   "source": [
    "df1['host_name'].value_counts()"
   ]
  },
  {
   "cell_type": "markdown",
   "metadata": {},
   "source": [
    "# Total neighbourhood_groups"
   ]
  },
  {
   "cell_type": "code",
   "execution_count": 15,
   "metadata": {},
   "outputs": [
    {
     "data": {
      "text/plain": [
       "Manhattan        15193\n",
       "Brooklyn         14033\n",
       "Queens            3985\n",
       "Bronx              767\n",
       "Staten Island      248\n",
       "Name: neighbourhood_group, dtype: int64"
      ]
     },
     "execution_count": 15,
     "metadata": {},
     "output_type": "execute_result"
    }
   ],
   "source": [
    "df1['neighbourhood_group'].value_counts()"
   ]
  },
  {
   "cell_type": "markdown",
   "metadata": {},
   "source": [
    "#  Popular neighbourhoods"
   ]
  },
  {
   "cell_type": "code",
   "execution_count": 16,
   "metadata": {},
   "outputs": [
    {
     "data": {
      "text/html": [
       "<div>\n",
       "<style scoped>\n",
       "    .dataframe tbody tr th:only-of-type {\n",
       "        vertical-align: middle;\n",
       "    }\n",
       "\n",
       "    .dataframe tbody tr th {\n",
       "        vertical-align: top;\n",
       "    }\n",
       "\n",
       "    .dataframe thead th {\n",
       "        text-align: right;\n",
       "    }\n",
       "</style>\n",
       "<table border=\"1\" class=\"dataframe\">\n",
       "  <thead>\n",
       "    <tr style=\"text-align: right;\">\n",
       "      <th></th>\n",
       "      <th></th>\n",
       "      <th>id</th>\n",
       "    </tr>\n",
       "    <tr>\n",
       "      <th>neighbourhood_group</th>\n",
       "      <th>neighbourhood</th>\n",
       "      <th></th>\n",
       "    </tr>\n",
       "  </thead>\n",
       "  <tbody>\n",
       "    <tr>\n",
       "      <th rowspan=\"2\" valign=\"top\">Brooklyn</th>\n",
       "      <th>Williamsburg</th>\n",
       "      <td>2756</td>\n",
       "    </tr>\n",
       "    <tr>\n",
       "      <th>Bedford-Stuyvesant</th>\n",
       "      <td>2577</td>\n",
       "    </tr>\n",
       "    <tr>\n",
       "      <th>Manhattan</th>\n",
       "      <th>Harlem</th>\n",
       "      <td>1877</td>\n",
       "    </tr>\n",
       "    <tr>\n",
       "      <th>Brooklyn</th>\n",
       "      <th>Bushwick</th>\n",
       "      <td>1719</td>\n",
       "    </tr>\n",
       "    <tr>\n",
       "      <th>Manhattan</th>\n",
       "      <th>Upper West Side</th>\n",
       "      <td>1403</td>\n",
       "    </tr>\n",
       "    <tr>\n",
       "      <th>...</th>\n",
       "      <th>...</th>\n",
       "      <td>...</td>\n",
       "    </tr>\n",
       "    <tr>\n",
       "      <th rowspan=\"4\" valign=\"top\">Staten Island</th>\n",
       "      <th>Rossville</th>\n",
       "      <td>1</td>\n",
       "    </tr>\n",
       "    <tr>\n",
       "      <th>Bay Terrace, Staten Island</th>\n",
       "      <td>1</td>\n",
       "    </tr>\n",
       "    <tr>\n",
       "      <th>Lighthouse Hill</th>\n",
       "      <td>1</td>\n",
       "    </tr>\n",
       "    <tr>\n",
       "      <th>Huguenot</th>\n",
       "      <td>1</td>\n",
       "    </tr>\n",
       "    <tr>\n",
       "      <th>Bronx</th>\n",
       "      <th>Spuyten Duyvil</th>\n",
       "      <td>1</td>\n",
       "    </tr>\n",
       "  </tbody>\n",
       "</table>\n",
       "<p>217 rows × 1 columns</p>\n",
       "</div>"
      ],
      "text/plain": [
       "                                                  id\n",
       "neighbourhood_group neighbourhood                   \n",
       "Brooklyn            Williamsburg                2756\n",
       "                    Bedford-Stuyvesant          2577\n",
       "Manhattan           Harlem                      1877\n",
       "Brooklyn            Bushwick                    1719\n",
       "Manhattan           Upper West Side             1403\n",
       "...                                              ...\n",
       "Staten Island       Rossville                      1\n",
       "                    Bay Terrace, Staten Island     1\n",
       "                    Lighthouse Hill                1\n",
       "                    Huguenot                       1\n",
       "Bronx               Spuyten Duyvil                 1\n",
       "\n",
       "[217 rows x 1 columns]"
      ]
     },
     "execution_count": 16,
     "metadata": {},
     "output_type": "execute_result"
    }
   ],
   "source": [
    "df1.groupby('neighbourhood_group')['neighbourhood'].value_counts()\n",
    "df1.pivot_table(index=['neighbourhood_group', 'neighbourhood'], values = 'id',aggfunc='count').sort_values('id',ascending=False)"
   ]
  },
  {
   "cell_type": "markdown",
   "metadata": {},
   "source": [
    "# Finding average price of top host \"Michael\" by 'room_type'"
   ]
  },
  {
   "cell_type": "code",
   "execution_count": 17,
   "metadata": {},
   "outputs": [
    {
     "data": {
      "text/plain": [
       "room_type\n",
       "Entire home/apt    195.715909\n",
       "Private room        81.266667\n",
       "Shared room         72.100000\n",
       "Name: price, dtype: float64"
      ]
     },
     "execution_count": 17,
     "metadata": {},
     "output_type": "execute_result"
    }
   ],
   "source": [
    "df2 = df1[ df1['host_name']=='Michael']\n",
    "df2.groupby('room_type')['price'].mean()"
   ]
  },
  {
   "cell_type": "markdown",
   "metadata": {},
   "source": [
    "# Finding average price of top host \"Michael\" by ' 'neighbourhood_group'"
   ]
  },
  {
   "cell_type": "code",
   "execution_count": 18,
   "metadata": {},
   "outputs": [
    {
     "data": {
      "text/plain": [
       "neighbourhood_group\n",
       "Bronx            111.666667\n",
       "Brooklyn         114.818966\n",
       "Manhattan        184.201389\n",
       "Queens           131.560000\n",
       "Staten Island     77.333333\n",
       "Name: price, dtype: float64"
      ]
     },
     "execution_count": 18,
     "metadata": {},
     "output_type": "execute_result"
    }
   ],
   "source": [
    "df2.groupby('neighbourhood_group')['price'].mean()\n"
   ]
  },
  {
   "cell_type": "markdown",
   "metadata": {},
   "source": [
    "# Finding average price of top host \"Michael\" by ' neighbourhood'"
   ]
  },
  {
   "cell_type": "code",
   "execution_count": 19,
   "metadata": {},
   "outputs": [
    {
     "data": {
      "text/plain": [
       "neighbourhood\n",
       "Arverne                      300.000000\n",
       "Astoria                       98.000000\n",
       "Bay Ridge                    135.000000\n",
       "Bedford-Stuyvesant            75.750000\n",
       "Boerum Hill                  145.000000\n",
       "Brighton Beach                83.333333\n",
       "Brooklyn Heights             170.000000\n",
       "Bushwick                      92.105263\n",
       "Carroll Gardens              125.000000\n",
       "Chelsea                      206.440000\n",
       "Chinatown                    195.000000\n",
       "Claremont Village            150.000000\n",
       "Clinton Hill                 121.250000\n",
       "Concord                      120.000000\n",
       "Concourse Village             85.000000\n",
       "Crown Heights                119.000000\n",
       "East Harlem                   77.000000\n",
       "East New York                 33.000000\n",
       "East Village                 165.916667\n",
       "Financial District           145.000000\n",
       "Flatbush                     100.000000\n",
       "Flatiron District            400.000000\n",
       "Gowanus                      125.000000\n",
       "Gramercy                     202.000000\n",
       "Greenpoint                   130.600000\n",
       "Greenwich Village            148.000000\n",
       "Harlem                       106.000000\n",
       "Hell's Kitchen               161.368421\n",
       "Inwood                        46.000000\n",
       "Jamaica                       65.000000\n",
       "Kips Bay                     125.000000\n",
       "Laurelton                     75.000000\n",
       "Little Italy                 250.000000\n",
       "Long Island City             149.750000\n",
       "Lower East Side              162.166667\n",
       "Midtown                      272.250000\n",
       "Morningside Heights          150.000000\n",
       "Nolita                       248.333333\n",
       "Park Slope                   156.000000\n",
       "Prospect-Lefferts Gardens    274.500000\n",
       "Ridgewood                    210.000000\n",
       "Rockaway Beach               545.000000\n",
       "Sheepshead Bay               150.000000\n",
       "SoHo                         500.000000\n",
       "South Slope                  169.000000\n",
       "Springfield Gardens           75.000000\n",
       "St. George                    50.000000\n",
       "Sunnyside                     65.600000\n",
       "Todt Hill                     62.000000\n",
       "Tribeca                      180.000000\n",
       "Upper East Side              210.166667\n",
       "Upper West Side              164.500000\n",
       "Vinegar Hill                 199.500000\n",
       "Wakefield                    100.000000\n",
       "Washington Heights            94.900000\n",
       "West Village                 231.800000\n",
       "Williamsburg                 119.483871\n",
       "Windsor Terrace              130.000000\n",
       "Name: price, dtype: float64"
      ]
     },
     "execution_count": 19,
     "metadata": {},
     "output_type": "execute_result"
    }
   ],
   "source": [
    "df2.groupby('neighbourhood')['price'].mean()"
   ]
  },
  {
   "cell_type": "markdown",
   "metadata": {},
   "source": [
    "# Costly hosts"
   ]
  },
  {
   "cell_type": "code",
   "execution_count": 20,
   "metadata": {},
   "outputs": [
    {
     "data": {
      "text/html": [
       "<div>\n",
       "<style scoped>\n",
       "    .dataframe tbody tr th:only-of-type {\n",
       "        vertical-align: middle;\n",
       "    }\n",
       "\n",
       "    .dataframe tbody tr th {\n",
       "        vertical-align: top;\n",
       "    }\n",
       "\n",
       "    .dataframe thead th {\n",
       "        text-align: right;\n",
       "    }\n",
       "</style>\n",
       "<table border=\"1\" class=\"dataframe\">\n",
       "  <thead>\n",
       "    <tr style=\"text-align: right;\">\n",
       "      <th></th>\n",
       "      <th>host_name</th>\n",
       "      <th>neighbourhood_group</th>\n",
       "      <th>neighbourhood</th>\n",
       "      <th>room_type</th>\n",
       "      <th>price</th>\n",
       "    </tr>\n",
       "  </thead>\n",
       "  <tbody>\n",
       "    <tr>\n",
       "      <th>29644</th>\n",
       "      <td>Erin</td>\n",
       "      <td>Brooklyn</td>\n",
       "      <td>Greenpoint</td>\n",
       "      <td>Entire home/apt</td>\n",
       "      <td>10000</td>\n",
       "    </tr>\n",
       "    <tr>\n",
       "      <th>12404</th>\n",
       "      <td>Jelena</td>\n",
       "      <td>Manhattan</td>\n",
       "      <td>Upper West Side</td>\n",
       "      <td>Entire home/apt</td>\n",
       "      <td>10000</td>\n",
       "    </tr>\n",
       "    <tr>\n",
       "      <th>12523</th>\n",
       "      <td>Matt</td>\n",
       "      <td>Manhattan</td>\n",
       "      <td>Lower East Side</td>\n",
       "      <td>Entire home/apt</td>\n",
       "      <td>9999</td>\n",
       "    </tr>\n",
       "    <tr>\n",
       "      <th>20810</th>\n",
       "      <td>Amy</td>\n",
       "      <td>Manhattan</td>\n",
       "      <td>Lower East Side</td>\n",
       "      <td>Private room</td>\n",
       "      <td>9999</td>\n",
       "    </tr>\n",
       "    <tr>\n",
       "      <th>23350</th>\n",
       "      <td>Rum</td>\n",
       "      <td>Manhattan</td>\n",
       "      <td>Tribeca</td>\n",
       "      <td>Entire home/apt</td>\n",
       "      <td>8500</td>\n",
       "    </tr>\n",
       "    <tr>\n",
       "      <th>31293</th>\n",
       "      <td>Jessica</td>\n",
       "      <td>Brooklyn</td>\n",
       "      <td>Clinton Hill</td>\n",
       "      <td>Entire home/apt</td>\n",
       "      <td>8000</td>\n",
       "    </tr>\n",
       "    <tr>\n",
       "      <th>3719</th>\n",
       "      <td>Sally</td>\n",
       "      <td>Manhattan</td>\n",
       "      <td>Upper East Side</td>\n",
       "      <td>Entire home/apt</td>\n",
       "      <td>7703</td>\n",
       "    </tr>\n",
       "    <tr>\n",
       "      <th>15974</th>\n",
       "      <td>Jack</td>\n",
       "      <td>Manhattan</td>\n",
       "      <td>Battery Park City</td>\n",
       "      <td>Entire home/apt</td>\n",
       "      <td>7500</td>\n",
       "    </tr>\n",
       "    <tr>\n",
       "      <th>7817</th>\n",
       "      <td>Kevin</td>\n",
       "      <td>Manhattan</td>\n",
       "      <td>Chelsea</td>\n",
       "      <td>Entire home/apt</td>\n",
       "      <td>6800</td>\n",
       "    </tr>\n",
       "    <tr>\n",
       "      <th>3754</th>\n",
       "      <td>Jonathan</td>\n",
       "      <td>Brooklyn</td>\n",
       "      <td>Clinton Hill</td>\n",
       "      <td>Entire home/apt</td>\n",
       "      <td>6500</td>\n",
       "    </tr>\n",
       "  </tbody>\n",
       "</table>\n",
       "</div>"
      ],
      "text/plain": [
       "      host_name neighbourhood_group      neighbourhood        room_type  price\n",
       "29644      Erin            Brooklyn         Greenpoint  Entire home/apt  10000\n",
       "12404    Jelena           Manhattan    Upper West Side  Entire home/apt  10000\n",
       "12523      Matt           Manhattan    Lower East Side  Entire home/apt   9999\n",
       "20810       Amy           Manhattan    Lower East Side     Private room   9999\n",
       "23350       Rum           Manhattan            Tribeca  Entire home/apt   8500\n",
       "31293   Jessica            Brooklyn       Clinton Hill  Entire home/apt   8000\n",
       "3719      Sally           Manhattan    Upper East Side  Entire home/apt   7703\n",
       "15974      Jack           Manhattan  Battery Park City  Entire home/apt   7500\n",
       "7817      Kevin           Manhattan            Chelsea  Entire home/apt   6800\n",
       "3754   Jonathan            Brooklyn       Clinton Hill  Entire home/apt   6500"
      ]
     },
     "execution_count": 20,
     "metadata": {},
     "output_type": "execute_result"
    }
   ],
   "source": [
    "df1[['host_name', 'neighbourhood_group','neighbourhood','room_type','price']].sort_values('price', ascending=False).head(10)"
   ]
  },
  {
   "cell_type": "markdown",
   "metadata": {},
   "source": [
    "# Cheap hosts"
   ]
  },
  {
   "cell_type": "code",
   "execution_count": 21,
   "metadata": {},
   "outputs": [
    {
     "data": {
      "text/html": [
       "<div>\n",
       "<style scoped>\n",
       "    .dataframe tbody tr th:only-of-type {\n",
       "        vertical-align: middle;\n",
       "    }\n",
       "\n",
       "    .dataframe tbody tr th {\n",
       "        vertical-align: top;\n",
       "    }\n",
       "\n",
       "    .dataframe thead th {\n",
       "        text-align: right;\n",
       "    }\n",
       "</style>\n",
       "<table border=\"1\" class=\"dataframe\">\n",
       "  <thead>\n",
       "    <tr style=\"text-align: right;\">\n",
       "      <th></th>\n",
       "      <th>host_name</th>\n",
       "      <th>neighbourhood_group</th>\n",
       "      <th>neighbourhood</th>\n",
       "      <th>room_type</th>\n",
       "      <th>price</th>\n",
       "    </tr>\n",
       "  </thead>\n",
       "  <tbody>\n",
       "    <tr>\n",
       "      <th>23016</th>\n",
       "      <td>Rachel</td>\n",
       "      <td>Brooklyn</td>\n",
       "      <td>Sunset Park</td>\n",
       "      <td>Entire home/apt</td>\n",
       "      <td>10</td>\n",
       "    </tr>\n",
       "    <tr>\n",
       "      <th>26630</th>\n",
       "      <td>Kimberly</td>\n",
       "      <td>Brooklyn</td>\n",
       "      <td>Bedford-Stuyvesant</td>\n",
       "      <td>Private room</td>\n",
       "      <td>0</td>\n",
       "    </tr>\n",
       "    <tr>\n",
       "      <th>2133</th>\n",
       "      <td>Adeyemi</td>\n",
       "      <td>Brooklyn</td>\n",
       "      <td>Bedford-Stuyvesant</td>\n",
       "      <td>Private room</td>\n",
       "      <td>0</td>\n",
       "    </tr>\n",
       "    <tr>\n",
       "      <th>32184</th>\n",
       "      <td>Aymeric</td>\n",
       "      <td>Brooklyn</td>\n",
       "      <td>Williamsburg</td>\n",
       "      <td>Entire home/apt</td>\n",
       "      <td>0</td>\n",
       "    </tr>\n",
       "    <tr>\n",
       "      <th>30259</th>\n",
       "      <td>Martial Loft</td>\n",
       "      <td>Brooklyn</td>\n",
       "      <td>Bushwick</td>\n",
       "      <td>Private room</td>\n",
       "      <td>0</td>\n",
       "    </tr>\n",
       "    <tr>\n",
       "      <th>25414</th>\n",
       "      <td>Qiuchi</td>\n",
       "      <td>Manhattan</td>\n",
       "      <td>Murray Hill</td>\n",
       "      <td>Entire home/apt</td>\n",
       "      <td>0</td>\n",
       "    </tr>\n",
       "    <tr>\n",
       "      <th>21441</th>\n",
       "      <td>Adeyemi</td>\n",
       "      <td>Brooklyn</td>\n",
       "      <td>Bedford-Stuyvesant</td>\n",
       "      <td>Private room</td>\n",
       "      <td>0</td>\n",
       "    </tr>\n",
       "    <tr>\n",
       "      <th>11311</th>\n",
       "      <td>Sergii</td>\n",
       "      <td>Brooklyn</td>\n",
       "      <td>Bushwick</td>\n",
       "      <td>Shared room</td>\n",
       "      <td>0</td>\n",
       "    </tr>\n",
       "    <tr>\n",
       "      <th>25277</th>\n",
       "      <td>Lauren</td>\n",
       "      <td>Brooklyn</td>\n",
       "      <td>Greenpoint</td>\n",
       "      <td>Private room</td>\n",
       "      <td>0</td>\n",
       "    </tr>\n",
       "    <tr>\n",
       "      <th>11638</th>\n",
       "      <td>Adeyemi</td>\n",
       "      <td>Brooklyn</td>\n",
       "      <td>Bedford-Stuyvesant</td>\n",
       "      <td>Private room</td>\n",
       "      <td>0</td>\n",
       "    </tr>\n",
       "  </tbody>\n",
       "</table>\n",
       "</div>"
      ],
      "text/plain": [
       "          host_name neighbourhood_group       neighbourhood        room_type  \\\n",
       "23016        Rachel            Brooklyn         Sunset Park  Entire home/apt   \n",
       "26630      Kimberly            Brooklyn  Bedford-Stuyvesant     Private room   \n",
       "2133        Adeyemi            Brooklyn  Bedford-Stuyvesant     Private room   \n",
       "32184       Aymeric            Brooklyn        Williamsburg  Entire home/apt   \n",
       "30259  Martial Loft            Brooklyn            Bushwick     Private room   \n",
       "25414        Qiuchi           Manhattan         Murray Hill  Entire home/apt   \n",
       "21441       Adeyemi            Brooklyn  Bedford-Stuyvesant     Private room   \n",
       "11311        Sergii            Brooklyn            Bushwick      Shared room   \n",
       "25277        Lauren            Brooklyn          Greenpoint     Private room   \n",
       "11638       Adeyemi            Brooklyn  Bedford-Stuyvesant     Private room   \n",
       "\n",
       "       price  \n",
       "23016     10  \n",
       "26630      0  \n",
       "2133       0  \n",
       "32184      0  \n",
       "30259      0  \n",
       "25414      0  \n",
       "21441      0  \n",
       "11311      0  \n",
       "25277      0  \n",
       "11638      0  "
      ]
     },
     "execution_count": 21,
     "metadata": {},
     "output_type": "execute_result"
    }
   ],
   "source": [
    "df1[['host_name', 'neighbourhood_group','neighbourhood','room_type','price']].sort_values('price', ascending=False).tail(10)"
   ]
  },
  {
   "cell_type": "markdown",
   "metadata": {},
   "source": [
    "# Code to calculate the distance between two points on Earth using lattitues and longitudes\n",
    "# Sunny can use it for cross verification"
   ]
  },
  {
   "cell_type": "code",
   "execution_count": 22,
   "metadata": {},
   "outputs": [
    {
     "name": "stdout",
     "output_type": "stream",
     "text": [
      "Distance in meters: 133.47846302651442\n"
     ]
    }
   ],
   "source": [
    "from math import sin, cos, sqrt, atan2, radians\n",
    "\n",
    "# approximate radius of earth in km\n",
    "R = 6373.0\n",
    "\n",
    "lat1 = radians(40.70844)\n",
    "lon1 = radians(-74.00615)\n",
    "lat2 = radians(40.70724)\n",
    "lon2 = radians(-74.00614)\n",
    "\n",
    "dlon = lon2 - lon1\n",
    "dlat = lat2 - lat1\n",
    "\n",
    "a = sin(dlat / 2)**2 + cos(lat1) * cos(lat2) * sin(dlon / 2)**2\n",
    "c = 2 * atan2(sqrt(a), sqrt(1 - a))\n",
    "\n",
    "distance = R * c\n",
    "\n",
    "print(\"Distance in meters:\", distance*1000)\n",
    "\n"
   ]
  },
  {
   "cell_type": "markdown",
   "metadata": {},
   "source": [
    "# Finding costly host_names for a 'Entire home/apt' in the most popular locality:  \tWilliamsburg, Brooklyn"
   ]
  },
  {
   "cell_type": "code",
   "execution_count": 23,
   "metadata": {
    "scrolled": true
   },
   "outputs": [
    {
     "data": {
      "image/png": "[encoded data removed]",
      "text/plain": [
       "<Figure size 432x288 with 1 Axes>"
      ]
     },
     "metadata": {
      "needs_background": "light"
     },
     "output_type": "display_data"
    }
   ],
   "source": [
    "df2 = df1[ df1['room_type']=='Entire home/apt']\n",
    "\n",
    "df3 = df2[ df2['neighbourhood_group']=='Brooklyn']\n",
    "\n",
    "#df4 = df3[ df3['host_name']=='Sonder (NYC)']\n",
    "\n",
    "#df3['neighbourhood'].value_counts()\n",
    "\n",
    "df4=df3[df3['neighbourhood']=='Williamsburg']\n",
    "\n",
    "df5 = df4[['id','name','host_name','host_id', 'price']].sort_values('price', ascending=False).head(10)\n",
    "#plt.figure(figsize=(30,20))\n",
    "df5.plot(kind='bar',x='host_name',y='price')\n",
    "\n",
    "plt.show()"
   ]
  },
  {
   "cell_type": "markdown",
   "metadata": {},
   "source": [
    "# Same plot with name of property"
   ]
  },
  {
   "cell_type": "code",
   "execution_count": 24,
   "metadata": {},
   "outputs": [
    {
     "data": {
      "image/png": "[encoded data removed]",
      "text/plain": [
       "<Figure size 432x288 with 1 Axes>"
      ]
     },
     "metadata": {
      "needs_background": "light"
     },
     "output_type": "display_data"
    }
   ],
   "source": [
    "df5.plot(kind='bar',x='name',y='price')\n",
    "plt.show()"
   ]
  },
  {
   "cell_type": "code",
   "execution_count": null,
   "metadata": {},
   "outputs": [],
   "source": []
  },
  {
   "cell_type": "markdown",
   "metadata": {},
   "source": [
    "# Finding cheap host_names for a 'Entire home/apt' in the most popular locality:  \tWilliamsburg, Brooklyn"
   ]
  },
  {
   "cell_type": "code",
   "execution_count": 25,
   "metadata": {},
   "outputs": [
    {
     "data": {
      "image/png": "[encoded data removed]",
      "text/plain": [
       "<Figure size 432x288 with 1 Axes>"
      ]
     },
     "metadata": {
      "needs_background": "light"
     },
     "output_type": "display_data"
    }
   ],
   "source": [
    "df5 = df4[['id','name','host_name','host_id', 'price']].sort_values('price', ascending=False).tail(10)\n",
    "df5.plot(kind='bar',x='host_name',y='price')\n",
    "plt.show()"
   ]
  },
  {
   "cell_type": "markdown",
   "metadata": {},
   "source": [
    "# Same plot with name of property"
   ]
  },
  {
   "cell_type": "code",
   "execution_count": 26,
   "metadata": {},
   "outputs": [
    {
     "data": {
      "image/png": "[encoded data removed]",
      "text/plain": [
       "<Figure size 432x288 with 1 Axes>"
      ]
     },
     "metadata": {
      "needs_background": "light"
     },
     "output_type": "display_data"
    }
   ],
   "source": [
    "df5.plot(kind='bar',x='name',y='price')\n",
    "plt.show()"
   ]
  },
  {
   "cell_type": "markdown",
   "metadata": {},
   "source": [
    "# Pandas Profiling for automated EDA analysis\n",
    "# To install Pandas Profiling use following command\n",
    "# pip install pandas-profiling"
   ]
  },
  {
   "cell_type": "code",
   "execution_count": 27,
   "metadata": {
    "scrolled": true
   },
   "outputs": [],
   "source": [
    "#from pandas_profiling import ProfileReport\n",
    "#profile = ProfileReport(df1,title='Pandas Profiling Report')\n",
    "#profile"
   ]
  },
  {
   "cell_type": "markdown",
   "metadata": {},
   "source": [
    "# Modelling"
   ]
  },
  {
   "cell_type": "markdown",
   "metadata": {},
   "source": [
    "# 1. DATA CLEANING : Removing unneessary columns (except 'host_id', neighbourhood_group',latitude', 'longitude', 'room_type', 'price')"
   ]
  },
  {
   "cell_type": "code",
   "execution_count": 28,
   "metadata": {},
   "outputs": [
    {
     "data": {
      "text/plain": [
       "Index(['id', 'name', 'host_id', 'host_name', 'neighbourhood_group',\n",
       "       'neighbourhood', 'latitude', 'longitude', 'room_type', 'price',\n",
       "       'minimum_nights', 'number_of_reviews', 'last_review',\n",
       "       'reviews_per_month', 'calculated_host_listings_count',\n",
       "       'availability_365'],\n",
       "      dtype='object')"
      ]
     },
     "execution_count": 28,
     "metadata": {},
     "output_type": "execute_result"
    }
   ],
   "source": [
    "df1.columns"
   ]
  },
  {
   "cell_type": "code",
   "execution_count": 29,
   "metadata": {},
   "outputs": [],
   "source": [
    "#df2=df1.drop(['id', 'name', 'host_name', 'neighbourhood_group',\n",
    "#       'neighbourhood','minimum_nights', 'number_of_reviews', 'last_review',\n",
    "#       'reviews_per_month', 'calculated_host_listings_count',\n",
    "#       'availability_365'], axis='columns')\n",
    "# did not work we can only drop 8 columns at a time"
   ]
  },
  {
   "cell_type": "code",
   "execution_count": 30,
   "metadata": {},
   "outputs": [
    {
     "data": {
      "text/html": [
       "<div>\n",
       "<style scoped>\n",
       "    .dataframe tbody tr th:only-of-type {\n",
       "        vertical-align: middle;\n",
       "    }\n",
       "\n",
       "    .dataframe tbody tr th {\n",
       "        vertical-align: top;\n",
       "    }\n",
       "\n",
       "    .dataframe thead th {\n",
       "        text-align: right;\n",
       "    }\n",
       "</style>\n",
       "<table border=\"1\" class=\"dataframe\">\n",
       "  <thead>\n",
       "    <tr style=\"text-align: right;\">\n",
       "      <th></th>\n",
       "      <th>id</th>\n",
       "      <th>host_id</th>\n",
       "      <th>neighbourhood_group</th>\n",
       "      <th>latitude</th>\n",
       "      <th>longitude</th>\n",
       "      <th>room_type</th>\n",
       "      <th>price</th>\n",
       "      <th>last_review</th>\n",
       "      <th>reviews_per_month</th>\n",
       "      <th>calculated_host_listings_count</th>\n",
       "      <th>availability_365</th>\n",
       "    </tr>\n",
       "  </thead>\n",
       "  <tbody>\n",
       "    <tr>\n",
       "      <th>0</th>\n",
       "      <td>5728806</td>\n",
       "      <td>4271676</td>\n",
       "      <td>Manhattan</td>\n",
       "      <td>40.72217</td>\n",
       "      <td>-73.99481</td>\n",
       "      <td>Private room</td>\n",
       "      <td>120</td>\n",
       "      <td>2015-09-01</td>\n",
       "      <td>0.06</td>\n",
       "      <td>3</td>\n",
       "      <td>0</td>\n",
       "    </tr>\n",
       "    <tr>\n",
       "      <th>1</th>\n",
       "      <td>2243769</td>\n",
       "      <td>11460768</td>\n",
       "      <td>Manhattan</td>\n",
       "      <td>40.80020</td>\n",
       "      <td>-73.96045</td>\n",
       "      <td>Entire home/apt</td>\n",
       "      <td>1500</td>\n",
       "      <td>NaN</td>\n",
       "      <td>NaN</td>\n",
       "      <td>1</td>\n",
       "      <td>0</td>\n",
       "    </tr>\n",
       "    <tr>\n",
       "      <th>2</th>\n",
       "      <td>35515415</td>\n",
       "      <td>267193767</td>\n",
       "      <td>Queens</td>\n",
       "      <td>40.75558</td>\n",
       "      <td>-73.89316</td>\n",
       "      <td>Entire home/apt</td>\n",
       "      <td>200</td>\n",
       "      <td>2019-07-05</td>\n",
       "      <td>4.00</td>\n",
       "      <td>1</td>\n",
       "      <td>365</td>\n",
       "    </tr>\n",
       "    <tr>\n",
       "      <th>3</th>\n",
       "      <td>36202006</td>\n",
       "      <td>43392243</td>\n",
       "      <td>Staten Island</td>\n",
       "      <td>40.60110</td>\n",
       "      <td>-74.07830</td>\n",
       "      <td>Shared room</td>\n",
       "      <td>30</td>\n",
       "      <td>NaN</td>\n",
       "      <td>NaN</td>\n",
       "      <td>4</td>\n",
       "      <td>82</td>\n",
       "    </tr>\n",
       "    <tr>\n",
       "      <th>4</th>\n",
       "      <td>3780951</td>\n",
       "      <td>16065171</td>\n",
       "      <td>Manhattan</td>\n",
       "      <td>40.81022</td>\n",
       "      <td>-73.94266</td>\n",
       "      <td>Shared room</td>\n",
       "      <td>115</td>\n",
       "      <td>2019-05-26</td>\n",
       "      <td>0.27</td>\n",
       "      <td>1</td>\n",
       "      <td>365</td>\n",
       "    </tr>\n",
       "  </tbody>\n",
       "</table>\n",
       "</div>"
      ],
      "text/plain": [
       "         id    host_id neighbourhood_group  latitude  longitude  \\\n",
       "0   5728806    4271676           Manhattan  40.72217  -73.99481   \n",
       "1   2243769   11460768           Manhattan  40.80020  -73.96045   \n",
       "2  35515415  267193767              Queens  40.75558  -73.89316   \n",
       "3  36202006   43392243       Staten Island  40.60110  -74.07830   \n",
       "4   3780951   16065171           Manhattan  40.81022  -73.94266   \n",
       "\n",
       "         room_type  price last_review  reviews_per_month  \\\n",
       "0     Private room    120  2015-09-01               0.06   \n",
       "1  Entire home/apt   1500         NaN                NaN   \n",
       "2  Entire home/apt    200  2019-07-05               4.00   \n",
       "3      Shared room     30         NaN                NaN   \n",
       "4      Shared room    115  2019-05-26               0.27   \n",
       "\n",
       "   calculated_host_listings_count  availability_365  \n",
       "0                               3                 0  \n",
       "1                               1                 0  \n",
       "2                               1               365  \n",
       "3                               4                82  \n",
       "4                               1               365  "
      ]
     },
     "execution_count": 30,
     "metadata": {},
     "output_type": "execute_result"
    }
   ],
   "source": [
    "df2=df1.drop(['name', 'host_name',\n",
    "       'neighbourhood','minimum_nights', 'number_of_reviews'], axis='columns')\n",
    "df2.head()"
   ]
  },
  {
   "cell_type": "code",
   "execution_count": 31,
   "metadata": {},
   "outputs": [],
   "source": [
    "df3=df2.drop(['last_review','reviews_per_month', 'calculated_host_listings_count','availability_365'], axis='columns')"
   ]
  },
  {
   "cell_type": "code",
   "execution_count": 32,
   "metadata": {},
   "outputs": [
    {
     "data": {
      "text/html": [
       "<div>\n",
       "<style scoped>\n",
       "    .dataframe tbody tr th:only-of-type {\n",
       "        vertical-align: middle;\n",
       "    }\n",
       "\n",
       "    .dataframe tbody tr th {\n",
       "        vertical-align: top;\n",
       "    }\n",
       "\n",
       "    .dataframe thead th {\n",
       "        text-align: right;\n",
       "    }\n",
       "</style>\n",
       "<table border=\"1\" class=\"dataframe\">\n",
       "  <thead>\n",
       "    <tr style=\"text-align: right;\">\n",
       "      <th></th>\n",
       "      <th>id</th>\n",
       "      <th>host_id</th>\n",
       "      <th>neighbourhood_group</th>\n",
       "      <th>latitude</th>\n",
       "      <th>longitude</th>\n",
       "      <th>room_type</th>\n",
       "      <th>price</th>\n",
       "    </tr>\n",
       "  </thead>\n",
       "  <tbody>\n",
       "    <tr>\n",
       "      <th>0</th>\n",
       "      <td>5728806</td>\n",
       "      <td>4271676</td>\n",
       "      <td>Manhattan</td>\n",
       "      <td>40.72217</td>\n",
       "      <td>-73.99481</td>\n",
       "      <td>Private room</td>\n",
       "      <td>120</td>\n",
       "    </tr>\n",
       "    <tr>\n",
       "      <th>1</th>\n",
       "      <td>2243769</td>\n",
       "      <td>11460768</td>\n",
       "      <td>Manhattan</td>\n",
       "      <td>40.80020</td>\n",
       "      <td>-73.96045</td>\n",
       "      <td>Entire home/apt</td>\n",
       "      <td>1500</td>\n",
       "    </tr>\n",
       "    <tr>\n",
       "      <th>2</th>\n",
       "      <td>35515415</td>\n",
       "      <td>267193767</td>\n",
       "      <td>Queens</td>\n",
       "      <td>40.75558</td>\n",
       "      <td>-73.89316</td>\n",
       "      <td>Entire home/apt</td>\n",
       "      <td>200</td>\n",
       "    </tr>\n",
       "    <tr>\n",
       "      <th>3</th>\n",
       "      <td>36202006</td>\n",
       "      <td>43392243</td>\n",
       "      <td>Staten Island</td>\n",
       "      <td>40.60110</td>\n",
       "      <td>-74.07830</td>\n",
       "      <td>Shared room</td>\n",
       "      <td>30</td>\n",
       "    </tr>\n",
       "    <tr>\n",
       "      <th>4</th>\n",
       "      <td>3780951</td>\n",
       "      <td>16065171</td>\n",
       "      <td>Manhattan</td>\n",
       "      <td>40.81022</td>\n",
       "      <td>-73.94266</td>\n",
       "      <td>Shared room</td>\n",
       "      <td>115</td>\n",
       "    </tr>\n",
       "  </tbody>\n",
       "</table>\n",
       "</div>"
      ],
      "text/plain": [
       "         id    host_id neighbourhood_group  latitude  longitude  \\\n",
       "0   5728806    4271676           Manhattan  40.72217  -73.99481   \n",
       "1   2243769   11460768           Manhattan  40.80020  -73.96045   \n",
       "2  35515415  267193767              Queens  40.75558  -73.89316   \n",
       "3  36202006   43392243       Staten Island  40.60110  -74.07830   \n",
       "4   3780951   16065171           Manhattan  40.81022  -73.94266   \n",
       "\n",
       "         room_type  price  \n",
       "0     Private room    120  \n",
       "1  Entire home/apt   1500  \n",
       "2  Entire home/apt    200  \n",
       "3      Shared room     30  \n",
       "4      Shared room    115  "
      ]
     },
     "execution_count": 32,
     "metadata": {},
     "output_type": "execute_result"
    }
   ],
   "source": [
    "df3.head()\n",
    "#df2.columns"
   ]
  },
  {
   "cell_type": "code",
   "execution_count": 33,
   "metadata": {},
   "outputs": [
    {
     "data": {
      "text/plain": [
       "id                     0\n",
       "host_id                0\n",
       "neighbourhood_group    0\n",
       "latitude               0\n",
       "longitude              0\n",
       "room_type              0\n",
       "price                  0\n",
       "dtype: int64"
      ]
     },
     "execution_count": 33,
     "metadata": {},
     "output_type": "execute_result"
    }
   ],
   "source": [
    "df3.isnull().sum() # no null values in df3"
   ]
  },
  {
   "cell_type": "code",
   "execution_count": 34,
   "metadata": {},
   "outputs": [
    {
     "data": {
      "text/plain": [
       "array(['Private room', 'Entire home/apt', 'Shared room'], dtype=object)"
      ]
     },
     "execution_count": 34,
     "metadata": {},
     "output_type": "execute_result"
    }
   ],
   "source": [
    "df3['room_type'].unique()"
   ]
  },
  {
   "cell_type": "markdown",
   "metadata": {},
   "source": [
    "# In order to avoid one hot encoding:  I assign numbers\n",
    "# 1 to 'Private room', \n",
    "# 2 to 'Entire home/apt' \n",
    "# 3 to 'Shared room'"
   ]
  },
  {
   "cell_type": "code",
   "execution_count": 35,
   "metadata": {},
   "outputs": [
    {
     "data": {
      "text/html": [
       "<div>\n",
       "<style scoped>\n",
       "    .dataframe tbody tr th:only-of-type {\n",
       "        vertical-align: middle;\n",
       "    }\n",
       "\n",
       "    .dataframe tbody tr th {\n",
       "        vertical-align: top;\n",
       "    }\n",
       "\n",
       "    .dataframe thead th {\n",
       "        text-align: right;\n",
       "    }\n",
       "</style>\n",
       "<table border=\"1\" class=\"dataframe\">\n",
       "  <thead>\n",
       "    <tr style=\"text-align: right;\">\n",
       "      <th></th>\n",
       "      <th>id</th>\n",
       "      <th>host_id</th>\n",
       "      <th>neighbourhood_group</th>\n",
       "      <th>latitude</th>\n",
       "      <th>longitude</th>\n",
       "      <th>room_type</th>\n",
       "      <th>price</th>\n",
       "      <th>room_type_new</th>\n",
       "    </tr>\n",
       "  </thead>\n",
       "  <tbody>\n",
       "    <tr>\n",
       "      <th>0</th>\n",
       "      <td>5728806</td>\n",
       "      <td>4271676</td>\n",
       "      <td>Manhattan</td>\n",
       "      <td>40.72217</td>\n",
       "      <td>-73.99481</td>\n",
       "      <td>Private room</td>\n",
       "      <td>120</td>\n",
       "      <td>1</td>\n",
       "    </tr>\n",
       "    <tr>\n",
       "      <th>1</th>\n",
       "      <td>2243769</td>\n",
       "      <td>11460768</td>\n",
       "      <td>Manhattan</td>\n",
       "      <td>40.80020</td>\n",
       "      <td>-73.96045</td>\n",
       "      <td>Entire home/apt</td>\n",
       "      <td>1500</td>\n",
       "      <td>2</td>\n",
       "    </tr>\n",
       "    <tr>\n",
       "      <th>2</th>\n",
       "      <td>35515415</td>\n",
       "      <td>267193767</td>\n",
       "      <td>Queens</td>\n",
       "      <td>40.75558</td>\n",
       "      <td>-73.89316</td>\n",
       "      <td>Entire home/apt</td>\n",
       "      <td>200</td>\n",
       "      <td>2</td>\n",
       "    </tr>\n",
       "    <tr>\n",
       "      <th>3</th>\n",
       "      <td>36202006</td>\n",
       "      <td>43392243</td>\n",
       "      <td>Staten Island</td>\n",
       "      <td>40.60110</td>\n",
       "      <td>-74.07830</td>\n",
       "      <td>Shared room</td>\n",
       "      <td>30</td>\n",
       "      <td>3</td>\n",
       "    </tr>\n",
       "    <tr>\n",
       "      <th>4</th>\n",
       "      <td>3780951</td>\n",
       "      <td>16065171</td>\n",
       "      <td>Manhattan</td>\n",
       "      <td>40.81022</td>\n",
       "      <td>-73.94266</td>\n",
       "      <td>Shared room</td>\n",
       "      <td>115</td>\n",
       "      <td>3</td>\n",
       "    </tr>\n",
       "    <tr>\n",
       "      <th>5</th>\n",
       "      <td>9944426</td>\n",
       "      <td>51105827</td>\n",
       "      <td>Manhattan</td>\n",
       "      <td>40.71192</td>\n",
       "      <td>-74.01572</td>\n",
       "      <td>Entire home/apt</td>\n",
       "      <td>225</td>\n",
       "      <td>2</td>\n",
       "    </tr>\n",
       "    <tr>\n",
       "      <th>6</th>\n",
       "      <td>19786915</td>\n",
       "      <td>86892032</td>\n",
       "      <td>Queens</td>\n",
       "      <td>40.65766</td>\n",
       "      <td>-73.72838</td>\n",
       "      <td>Entire home/apt</td>\n",
       "      <td>60</td>\n",
       "      <td>2</td>\n",
       "    </tr>\n",
       "    <tr>\n",
       "      <th>7</th>\n",
       "      <td>22368751</td>\n",
       "      <td>20800727</td>\n",
       "      <td>Brooklyn</td>\n",
       "      <td>40.69064</td>\n",
       "      <td>-73.97898</td>\n",
       "      <td>Entire home/apt</td>\n",
       "      <td>200</td>\n",
       "      <td>2</td>\n",
       "    </tr>\n",
       "    <tr>\n",
       "      <th>8</th>\n",
       "      <td>17174519</td>\n",
       "      <td>10590692</td>\n",
       "      <td>Manhattan</td>\n",
       "      <td>40.74443</td>\n",
       "      <td>-74.00012</td>\n",
       "      <td>Entire home/apt</td>\n",
       "      <td>650</td>\n",
       "      <td>2</td>\n",
       "    </tr>\n",
       "    <tr>\n",
       "      <th>9</th>\n",
       "      <td>12705519</td>\n",
       "      <td>1372942</td>\n",
       "      <td>Manhattan</td>\n",
       "      <td>40.83170</td>\n",
       "      <td>-73.94290</td>\n",
       "      <td>Entire home/apt</td>\n",
       "      <td>180</td>\n",
       "      <td>2</td>\n",
       "    </tr>\n",
       "  </tbody>\n",
       "</table>\n",
       "</div>"
      ],
      "text/plain": [
       "         id    host_id neighbourhood_group  latitude  longitude  \\\n",
       "0   5728806    4271676           Manhattan  40.72217  -73.99481   \n",
       "1   2243769   11460768           Manhattan  40.80020  -73.96045   \n",
       "2  35515415  267193767              Queens  40.75558  -73.89316   \n",
       "3  36202006   43392243       Staten Island  40.60110  -74.07830   \n",
       "4   3780951   16065171           Manhattan  40.81022  -73.94266   \n",
       "5   9944426   51105827           Manhattan  40.71192  -74.01572   \n",
       "6  19786915   86892032              Queens  40.65766  -73.72838   \n",
       "7  22368751   20800727            Brooklyn  40.69064  -73.97898   \n",
       "8  17174519   10590692           Manhattan  40.74443  -74.00012   \n",
       "9  12705519    1372942           Manhattan  40.83170  -73.94290   \n",
       "\n",
       "         room_type  price  room_type_new  \n",
       "0     Private room    120              1  \n",
       "1  Entire home/apt   1500              2  \n",
       "2  Entire home/apt    200              2  \n",
       "3      Shared room     30              3  \n",
       "4      Shared room    115              3  \n",
       "5  Entire home/apt    225              2  \n",
       "6  Entire home/apt     60              2  \n",
       "7  Entire home/apt    200              2  \n",
       "8  Entire home/apt    650              2  \n",
       "9  Entire home/apt    180              2  "
      ]
     },
     "execution_count": 35,
     "metadata": {},
     "output_type": "execute_result"
    }
   ],
   "source": [
    "\n",
    "#i=0\n",
    "#for roomtype in df2.room_type:\n",
    "#    if (roomtype=='Entire home/apt'):\n",
    "#        df2['room_type_i'][i]=2\n",
    "#    if (roomtype=='Shared room'):\n",
    "#        df2['room_type_i'][i]=3\n",
    "#    if (roomtype=='Private room'):\n",
    "#        df2['room_type_i'][i]=1\n",
    "#    i = i+1\n",
    "\n",
    "col = df3.room_type\n",
    "col.head()\n",
    "\n",
    "coln =[]\n",
    "\n",
    "for rmtype in col:\n",
    "    if(rmtype=='Private room'):\n",
    "        coln.append(1)\n",
    "    if(rmtype=='Entire home/apt'):\n",
    "        coln.append(2)\n",
    "    if(rmtype=='Shared room'):\n",
    "        coln.append(3)\n",
    "        \n",
    "df3[\"room_type_new\"]=coln\n",
    "df3.head(10)"
   ]
  },
  {
   "cell_type": "markdown",
   "metadata": {},
   "source": [
    "# dropping the column \"room_type\""
   ]
  },
  {
   "cell_type": "code",
   "execution_count": 36,
   "metadata": {},
   "outputs": [
    {
     "data": {
      "text/html": [
       "<div>\n",
       "<style scoped>\n",
       "    .dataframe tbody tr th:only-of-type {\n",
       "        vertical-align: middle;\n",
       "    }\n",
       "\n",
       "    .dataframe tbody tr th {\n",
       "        vertical-align: top;\n",
       "    }\n",
       "\n",
       "    .dataframe thead th {\n",
       "        text-align: right;\n",
       "    }\n",
       "</style>\n",
       "<table border=\"1\" class=\"dataframe\">\n",
       "  <thead>\n",
       "    <tr style=\"text-align: right;\">\n",
       "      <th></th>\n",
       "      <th>id</th>\n",
       "      <th>host_id</th>\n",
       "      <th>neighbourhood_group</th>\n",
       "      <th>latitude</th>\n",
       "      <th>longitude</th>\n",
       "      <th>price</th>\n",
       "      <th>room_type_new</th>\n",
       "    </tr>\n",
       "  </thead>\n",
       "  <tbody>\n",
       "    <tr>\n",
       "      <th>0</th>\n",
       "      <td>5728806</td>\n",
       "      <td>4271676</td>\n",
       "      <td>Manhattan</td>\n",
       "      <td>40.72217</td>\n",
       "      <td>-73.99481</td>\n",
       "      <td>120</td>\n",
       "      <td>1</td>\n",
       "    </tr>\n",
       "    <tr>\n",
       "      <th>1</th>\n",
       "      <td>2243769</td>\n",
       "      <td>11460768</td>\n",
       "      <td>Manhattan</td>\n",
       "      <td>40.80020</td>\n",
       "      <td>-73.96045</td>\n",
       "      <td>1500</td>\n",
       "      <td>2</td>\n",
       "    </tr>\n",
       "    <tr>\n",
       "      <th>2</th>\n",
       "      <td>35515415</td>\n",
       "      <td>267193767</td>\n",
       "      <td>Queens</td>\n",
       "      <td>40.75558</td>\n",
       "      <td>-73.89316</td>\n",
       "      <td>200</td>\n",
       "      <td>2</td>\n",
       "    </tr>\n",
       "    <tr>\n",
       "      <th>3</th>\n",
       "      <td>36202006</td>\n",
       "      <td>43392243</td>\n",
       "      <td>Staten Island</td>\n",
       "      <td>40.60110</td>\n",
       "      <td>-74.07830</td>\n",
       "      <td>30</td>\n",
       "      <td>3</td>\n",
       "    </tr>\n",
       "    <tr>\n",
       "      <th>4</th>\n",
       "      <td>3780951</td>\n",
       "      <td>16065171</td>\n",
       "      <td>Manhattan</td>\n",
       "      <td>40.81022</td>\n",
       "      <td>-73.94266</td>\n",
       "      <td>115</td>\n",
       "      <td>3</td>\n",
       "    </tr>\n",
       "  </tbody>\n",
       "</table>\n",
       "</div>"
      ],
      "text/plain": [
       "         id    host_id neighbourhood_group  latitude  longitude  price  \\\n",
       "0   5728806    4271676           Manhattan  40.72217  -73.99481    120   \n",
       "1   2243769   11460768           Manhattan  40.80020  -73.96045   1500   \n",
       "2  35515415  267193767              Queens  40.75558  -73.89316    200   \n",
       "3  36202006   43392243       Staten Island  40.60110  -74.07830     30   \n",
       "4   3780951   16065171           Manhattan  40.81022  -73.94266    115   \n",
       "\n",
       "   room_type_new  \n",
       "0              1  \n",
       "1              2  \n",
       "2              2  \n",
       "3              3  \n",
       "4              3  "
      ]
     },
     "execution_count": 36,
     "metadata": {},
     "output_type": "execute_result"
    }
   ],
   "source": [
    "df4 = df3.drop('room_type',axis='columns')\n",
    "df4.head()"
   ]
  },
  {
   "cell_type": "markdown",
   "metadata": {},
   "source": [
    "# 2 REMOVING OUTLIERS"
   ]
  },
  {
   "cell_type": "code",
   "execution_count": 37,
   "metadata": {},
   "outputs": [
    {
     "data": {
      "text/plain": [
       "219517861    229\n",
       "107434423    155\n",
       "30283594      89\n",
       "16098958      73\n",
       "61391963      69\n",
       "            ... \n",
       "110042455      1\n",
       "90334552       1\n",
       "48331309       1\n",
       "143031643      1\n",
       "67641348       1\n",
       "Name: host_id, Length: 27449, dtype: int64"
      ]
     },
     "execution_count": 37,
     "metadata": {},
     "output_type": "execute_result"
    }
   ],
   "source": [
    "df4.describe()\n",
    "df4.host_id.value_counts()"
   ]
  },
  {
   "cell_type": "code",
   "execution_count": 68,
   "metadata": {},
   "outputs": [
    {
     "data": {
      "text/plain": [
       "(28447, 7)"
      ]
     },
     "execution_count": 68,
     "metadata": {},
     "output_type": "execute_result"
    }
   ],
   "source": [
    "df5 = df4[df4.price < 250]\n",
    "df6 = df5[df5.price >= 40]\n",
    "\n",
    "\n",
    "df6.shape"
   ]
  },
  {
   "cell_type": "code",
   "execution_count": 71,
   "metadata": {},
   "outputs": [
    {
     "data": {
      "text/html": [
       "<div>\n",
       "<style scoped>\n",
       "    .dataframe tbody tr th:only-of-type {\n",
       "        vertical-align: middle;\n",
       "    }\n",
       "\n",
       "    .dataframe tbody tr th {\n",
       "        vertical-align: top;\n",
       "    }\n",
       "\n",
       "    .dataframe thead th {\n",
       "        text-align: right;\n",
       "    }\n",
       "</style>\n",
       "<table border=\"1\" class=\"dataframe\">\n",
       "  <thead>\n",
       "    <tr style=\"text-align: right;\">\n",
       "      <th></th>\n",
       "      <th>id</th>\n",
       "      <th>host_id</th>\n",
       "      <th>latitude</th>\n",
       "      <th>longitude</th>\n",
       "      <th>price</th>\n",
       "      <th>room_type_new</th>\n",
       "    </tr>\n",
       "  </thead>\n",
       "  <tbody>\n",
       "    <tr>\n",
       "      <th>id</th>\n",
       "      <td>1.000000</td>\n",
       "      <td>0.574986</td>\n",
       "      <td>-0.005100</td>\n",
       "      <td>0.107134</td>\n",
       "      <td>-0.038906</td>\n",
       "      <td>-0.045726</td>\n",
       "    </tr>\n",
       "    <tr>\n",
       "      <th>host_id</th>\n",
       "      <td>0.574986</td>\n",
       "      <td>1.000000</td>\n",
       "      <td>0.017633</td>\n",
       "      <td>0.149418</td>\n",
       "      <td>-0.052197</td>\n",
       "      <td>-0.060103</td>\n",
       "    </tr>\n",
       "    <tr>\n",
       "      <th>latitude</th>\n",
       "      <td>-0.005100</td>\n",
       "      <td>0.017633</td>\n",
       "      <td>1.000000</td>\n",
       "      <td>0.089350</td>\n",
       "      <td>0.053655</td>\n",
       "      <td>-0.007960</td>\n",
       "    </tr>\n",
       "    <tr>\n",
       "      <th>longitude</th>\n",
       "      <td>0.107134</td>\n",
       "      <td>0.149418</td>\n",
       "      <td>0.089350</td>\n",
       "      <td>1.000000</td>\n",
       "      <td>-0.299072</td>\n",
       "      <td>-0.138876</td>\n",
       "    </tr>\n",
       "    <tr>\n",
       "      <th>price</th>\n",
       "      <td>-0.038906</td>\n",
       "      <td>-0.052197</td>\n",
       "      <td>0.053655</td>\n",
       "      <td>-0.299072</td>\n",
       "      <td>1.000000</td>\n",
       "      <td>0.544850</td>\n",
       "    </tr>\n",
       "    <tr>\n",
       "      <th>room_type_new</th>\n",
       "      <td>-0.045726</td>\n",
       "      <td>-0.060103</td>\n",
       "      <td>-0.007960</td>\n",
       "      <td>-0.138876</td>\n",
       "      <td>0.544850</td>\n",
       "      <td>1.000000</td>\n",
       "    </tr>\n",
       "  </tbody>\n",
       "</table>\n",
       "</div>"
      ],
      "text/plain": [
       "                     id   host_id  latitude  longitude     price  \\\n",
       "id             1.000000  0.574986 -0.005100   0.107134 -0.038906   \n",
       "host_id        0.574986  1.000000  0.017633   0.149418 -0.052197   \n",
       "latitude      -0.005100  0.017633  1.000000   0.089350  0.053655   \n",
       "longitude      0.107134  0.149418  0.089350   1.000000 -0.299072   \n",
       "price         -0.038906 -0.052197  0.053655  -0.299072  1.000000   \n",
       "room_type_new -0.045726 -0.060103 -0.007960  -0.138876  0.544850   \n",
       "\n",
       "               room_type_new  \n",
       "id                 -0.045726  \n",
       "host_id            -0.060103  \n",
       "latitude           -0.007960  \n",
       "longitude          -0.138876  \n",
       "price               0.544850  \n",
       "room_type_new       1.000000  "
      ]
     },
     "execution_count": 71,
     "metadata": {},
     "output_type": "execute_result"
    }
   ],
   "source": [
    "df7 = df6.drop(['neighbourhood_group'],axis='columns')\n",
    "df7.corr()"
   ]
  },
  {
   "cell_type": "markdown",
   "metadata": {},
   "source": [
    "# 3 LINEAR REGRESSION"
   ]
  },
  {
   "cell_type": "code",
   "execution_count": 73,
   "metadata": {},
   "outputs": [
    {
     "data": {
      "text/plain": [
       "(28447, 5)"
      ]
     },
     "execution_count": 73,
     "metadata": {},
     "output_type": "execute_result"
    }
   ],
   "source": [
    "X=df7.drop('price', axis='columns')\n",
    "X.shape"
   ]
  },
  {
   "cell_type": "code",
   "execution_count": 74,
   "metadata": {},
   "outputs": [
    {
     "data": {
      "text/plain": [
       "(28447,)"
      ]
     },
     "execution_count": 74,
     "metadata": {},
     "output_type": "execute_result"
    }
   ],
   "source": [
    "y = df7.price\n",
    "y = np.log(y)\n",
    "y.shape"
   ]
  },
  {
   "cell_type": "code",
   "execution_count": 77,
   "metadata": {},
   "outputs": [],
   "source": [
    "from sklearn.model_selection import train_test_split\n",
    "X_train,X_test,y_train,y_test=train_test_split(X,y,test_size=0.2, random_state=10)\n"
   ]
  },
  {
   "cell_type": "code",
   "execution_count": 78,
   "metadata": {},
   "outputs": [
    {
     "data": {
      "text/plain": [
       "0.37244807925360646"
      ]
     },
     "execution_count": 78,
     "metadata": {},
     "output_type": "execute_result"
    }
   ],
   "source": [
    "from sklearn.linear_model import LinearRegression\n",
    "sklr = LinearRegression()\n",
    "sklr.fit(X_train,y_train)\n",
    "sklr.score(X_test,y_test)"
   ]
  },
  {
   "cell_type": "markdown",
   "metadata": {},
   "source": [
    "# price outliers (price>25 and price<500). sklr.score = 0.2812380 ! very poor\n",
    "# price outliers (price>50 and price<300). sklr.score = 0.3319087 ! very poor\n",
    "# price outliers (price>60 and price<250). sklr.score = 0.2721123 ! very poor\n",
    "#\n",
    "# THE SCORE MUST BE > .80 the more closer to 1.0 the better it is!!!!"
   ]
  },
  {
   "cell_type": "markdown",
   "metadata": {},
   "source": [
    "# Will score imporve if host_id also removed?? (NO)"
   ]
  },
  {
   "cell_type": "code",
   "execution_count": 44,
   "metadata": {},
   "outputs": [],
   "source": [
    "#X1=X.drop('host_id',axis='columns')\n",
    "#X_train,X_test,y_train,y_test=train_test_split(X1,y,test_size=0.2, random_state=10)\n",
    "#sklr = LinearRegression()\n",
    "#sklr.fit(X_train,y_train)\n",
    "#sklr.score(X_test,y_test)"
   ]
  },
  {
   "cell_type": "markdown",
   "metadata": {},
   "source": [
    "# Guys this model did not work.\n",
    "# My first model failed !!!!!!!!!!"
   ]
  },
  {
   "cell_type": "markdown",
   "metadata": {},
   "source": [
    "# K-fold cross validation"
   ]
  },
  {
   "cell_type": "code",
   "execution_count": 79,
   "metadata": {},
   "outputs": [
    {
     "data": {
      "text/plain": [
       "array([0.38060688, 0.38527161, 0.39182625, 0.3759687 , 0.36589679])"
      ]
     },
     "execution_count": 79,
     "metadata": {},
     "output_type": "execute_result"
    }
   ],
   "source": [
    "from sklearn.model_selection import ShuffleSplit\n",
    "from sklearn.model_selection import cross_val_score\n",
    "cv = ShuffleSplit(n_splits=5,test_size=0.2,random_state=0)\n",
    "cross_val_score(LinearRegression(),X,y,cv=cv)\n"
   ]
  },
  {
   "cell_type": "code",
   "execution_count": null,
   "metadata": {},
   "outputs": [],
   "source": []
  }
 ],
 "metadata": {
  "kernelspec": {
   "display_name": "Python 3",
   "language": "python",
   "name": "python3"
  },
  "language_info": {
   "codemirror_mode": {
    "name": "ipython",
    "version": 3
   },
   "file_extension": ".py",
   "mimetype": "text/x-python",
   "name": "python",
   "nbconvert_exporter": "python",
   "pygments_lexer": "ipython3",
   "version": "3.8.3"
  }
 },
 "nbformat": 4,
 "nbformat_minor": 2
}
