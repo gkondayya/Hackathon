{
 "cells": [
  {
   "cell_type": "code",
   "execution_count": 1,
   "metadata": {},
   "outputs": [],
   "source": [
    "import os\n",
    "import numpy as np\n",
    "import pandas as pd\n",
    "import matplotlib.pyplot as plt\n",
    "import seaborn as sns\n",
    "%matplotlib inline"
   ]
  },
  {
   "cell_type": "code",
   "execution_count": 87,
   "metadata": {},
   "outputs": [
    {
     "data": {
      "text/html": [
       "<div>\n",
       "<style scoped>\n",
       "    .dataframe tbody tr th:only-of-type {\n",
       "        vertical-align: middle;\n",
       "    }\n",
       "\n",
       "    .dataframe tbody tr th {\n",
       "        vertical-align: top;\n",
       "    }\n",
       "\n",
       "    .dataframe thead th {\n",
       "        text-align: right;\n",
       "    }\n",
       "</style>\n",
       "<table border=\"1\" class=\"dataframe\">\n",
       "  <thead>\n",
       "    <tr style=\"text-align: right;\">\n",
       "      <th></th>\n",
       "      <th>id</th>\n",
       "      <th>host_id</th>\n",
       "      <th>latitude</th>\n",
       "      <th>longitude</th>\n",
       "      <th>price</th>\n",
       "      <th>minimum_nights</th>\n",
       "      <th>number_of_reviews</th>\n",
       "      <th>reviews_per_month</th>\n",
       "      <th>calculated_host_listings_count</th>\n",
       "      <th>availability_365</th>\n",
       "    </tr>\n",
       "    <tr>\n",
       "      <th>room_type</th>\n",
       "      <th></th>\n",
       "      <th></th>\n",
       "      <th></th>\n",
       "      <th></th>\n",
       "      <th></th>\n",
       "      <th></th>\n",
       "      <th></th>\n",
       "      <th></th>\n",
       "      <th></th>\n",
       "      <th></th>\n",
       "    </tr>\n",
       "  </thead>\n",
       "  <tbody>\n",
       "    <tr>\n",
       "      <th>Entire home/apt</th>\n",
       "      <td>328211869197</td>\n",
       "      <td>1099364091379</td>\n",
       "      <td>726151.71622</td>\n",
       "      <td>-1.318642e+06</td>\n",
       "      <td>3800708</td>\n",
       "      <td>151227</td>\n",
       "      <td>409182</td>\n",
       "      <td>18848.18</td>\n",
       "      <td>189119</td>\n",
       "      <td>1996283</td>\n",
       "    </tr>\n",
       "    <tr>\n",
       "      <th>Private room</th>\n",
       "      <td>302862084674</td>\n",
       "      <td>1122477674721</td>\n",
       "      <td>635133.46908</td>\n",
       "      <td>-1.153065e+06</td>\n",
       "      <td>1394423</td>\n",
       "      <td>81400</td>\n",
       "      <td>378587</td>\n",
       "      <td>17797.86</td>\n",
       "      <td>49994</td>\n",
       "      <td>1751766</td>\n",
       "    </tr>\n",
       "    <tr>\n",
       "      <th>Shared room</th>\n",
       "      <td>18606898786</td>\n",
       "      <td>82884688868</td>\n",
       "      <td>32707.57288</td>\n",
       "      <td>-5.937683e+04</td>\n",
       "      <td>57909</td>\n",
       "      <td>5370</td>\n",
       "      <td>12809</td>\n",
       "      <td>870.97</td>\n",
       "      <td>3683</td>\n",
       "      <td>129816</td>\n",
       "    </tr>\n",
       "  </tbody>\n",
       "</table>\n",
       "</div>"
      ],
      "text/plain": [
       "                           id        host_id      latitude     longitude  \\\n",
       "room_type                                                                  \n",
       "Entire home/apt  328211869197  1099364091379  726151.71622 -1.318642e+06   \n",
       "Private room     302862084674  1122477674721  635133.46908 -1.153065e+06   \n",
       "Shared room       18606898786    82884688868   32707.57288 -5.937683e+04   \n",
       "\n",
       "                   price  minimum_nights  number_of_reviews  \\\n",
       "room_type                                                     \n",
       "Entire home/apt  3800708          151227             409182   \n",
       "Private room     1394423           81400             378587   \n",
       "Shared room        57909            5370              12809   \n",
       "\n",
       "                 reviews_per_month  calculated_host_listings_count  \\\n",
       "room_type                                                            \n",
       "Entire home/apt           18848.18                          189119   \n",
       "Private room              17797.86                           49994   \n",
       "Shared room                 870.97                            3683   \n",
       "\n",
       "                 availability_365  \n",
       "room_type                          \n",
       "Entire home/apt           1996283  \n",
       "Private room              1751766  \n",
       "Shared room                129816  "
      ]
     },
     "execution_count": 87,
     "metadata": {},
     "output_type": "execute_result"
    }
   ],
   "source": [
    "df1 = pd.read_csv('Data/Train.csv',encoding=\"ISO-8859-1\")\n",
    "\n",
    "#country = pd.read_excel('Country-Code.xlsx')\n",
    "#country.head()\n",
    "df1.shape\n",
    "df1.isnull().sum()\n",
    "#df1=df1.dropna()\n",
    "df1.isnull().sum()\n",
    "#df1.shape\n",
    "df1.groupby('room_type').sum()"
   ]
  },
  {
   "cell_type": "code",
   "execution_count": null,
   "metadata": {},
   "outputs": [],
   "source": [
    "#data = df.merge(country,on='Country Code')\n",
    "#data.head()\n",
    "#data.shape"
   ]
  },
  {
   "cell_type": "code",
   "execution_count": 3,
   "metadata": {},
   "outputs": [
    {
     "name": "stdout",
     "output_type": "stream",
     "text": [
      "<class 'pandas.core.frame.DataFrame'>\n",
      "RangeIndex: 34226 entries, 0 to 34225\n",
      "Data columns (total 16 columns):\n",
      "id                                34226 non-null int64\n",
      "name                              34214 non-null object\n",
      "host_id                           34226 non-null int64\n",
      "host_name                         34213 non-null object\n",
      "neighbourhood_group               34226 non-null object\n",
      "neighbourhood                     34226 non-null object\n",
      "latitude                          34226 non-null float64\n",
      "longitude                         34226 non-null float64\n",
      "room_type                         34226 non-null object\n",
      "price                             34226 non-null int64\n",
      "minimum_nights                    34226 non-null int64\n",
      "number_of_reviews                 34226 non-null int64\n",
      "last_review                       27244 non-null object\n",
      "reviews_per_month                 27244 non-null float64\n",
      "calculated_host_listings_count    34226 non-null int64\n",
      "availability_365                  34226 non-null int64\n",
      "dtypes: float64(3), int64(7), object(6)\n",
      "memory usage: 4.2+ MB\n"
     ]
    }
   ],
   "source": [
    "df1.info()"
   ]
  },
  {
   "cell_type": "code",
   "execution_count": 4,
   "metadata": {},
   "outputs": [
    {
     "data": {
      "text/html": [
       "<div>\n",
       "<style scoped>\n",
       "    .dataframe tbody tr th:only-of-type {\n",
       "        vertical-align: middle;\n",
       "    }\n",
       "\n",
       "    .dataframe tbody tr th {\n",
       "        vertical-align: top;\n",
       "    }\n",
       "\n",
       "    .dataframe thead th {\n",
       "        text-align: right;\n",
       "    }\n",
       "</style>\n",
       "<table border=\"1\" class=\"dataframe\">\n",
       "  <thead>\n",
       "    <tr style=\"text-align: right;\">\n",
       "      <th></th>\n",
       "      <th>id</th>\n",
       "      <th>host_id</th>\n",
       "      <th>latitude</th>\n",
       "      <th>longitude</th>\n",
       "      <th>price</th>\n",
       "      <th>minimum_nights</th>\n",
       "      <th>number_of_reviews</th>\n",
       "      <th>reviews_per_month</th>\n",
       "      <th>calculated_host_listings_count</th>\n",
       "      <th>availability_365</th>\n",
       "    </tr>\n",
       "  </thead>\n",
       "  <tbody>\n",
       "    <tr>\n",
       "      <th>count</th>\n",
       "      <td>3.422600e+04</td>\n",
       "      <td>3.422600e+04</td>\n",
       "      <td>34226.000000</td>\n",
       "      <td>34226.000000</td>\n",
       "      <td>34226.000000</td>\n",
       "      <td>34226.000000</td>\n",
       "      <td>34226.000000</td>\n",
       "      <td>27244.000000</td>\n",
       "      <td>34226.000000</td>\n",
       "      <td>34226.000000</td>\n",
       "    </tr>\n",
       "    <tr>\n",
       "      <th>mean</th>\n",
       "      <td>1.898209e+07</td>\n",
       "      <td>6.733847e+07</td>\n",
       "      <td>40.729059</td>\n",
       "      <td>-73.952070</td>\n",
       "      <td>153.480979</td>\n",
       "      <td>6.953690</td>\n",
       "      <td>23.390931</td>\n",
       "      <td>1.377074</td>\n",
       "      <td>7.093905</td>\n",
       "      <td>113.301730</td>\n",
       "    </tr>\n",
       "    <tr>\n",
       "      <th>std</th>\n",
       "      <td>1.097597e+07</td>\n",
       "      <td>7.833091e+07</td>\n",
       "      <td>0.054604</td>\n",
       "      <td>0.046161</td>\n",
       "      <td>243.312608</td>\n",
       "      <td>20.255833</td>\n",
       "      <td>44.476822</td>\n",
       "      <td>1.688953</td>\n",
       "      <td>32.828412</td>\n",
       "      <td>131.892814</td>\n",
       "    </tr>\n",
       "    <tr>\n",
       "      <th>min</th>\n",
       "      <td>2.595000e+03</td>\n",
       "      <td>2.438000e+03</td>\n",
       "      <td>40.499790</td>\n",
       "      <td>-74.244420</td>\n",
       "      <td>0.000000</td>\n",
       "      <td>1.000000</td>\n",
       "      <td>0.000000</td>\n",
       "      <td>0.010000</td>\n",
       "      <td>1.000000</td>\n",
       "      <td>0.000000</td>\n",
       "    </tr>\n",
       "    <tr>\n",
       "      <th>25%</th>\n",
       "      <td>9.460366e+06</td>\n",
       "      <td>7.824440e+06</td>\n",
       "      <td>40.690040</td>\n",
       "      <td>-73.983150</td>\n",
       "      <td>69.000000</td>\n",
       "      <td>1.000000</td>\n",
       "      <td>1.000000</td>\n",
       "      <td>0.190000</td>\n",
       "      <td>1.000000</td>\n",
       "      <td>0.000000</td>\n",
       "    </tr>\n",
       "    <tr>\n",
       "      <th>50%</th>\n",
       "      <td>1.965371e+07</td>\n",
       "      <td>3.065628e+07</td>\n",
       "      <td>40.722995</td>\n",
       "      <td>-73.955700</td>\n",
       "      <td>107.000000</td>\n",
       "      <td>2.000000</td>\n",
       "      <td>5.000000</td>\n",
       "      <td>0.730000</td>\n",
       "      <td>1.000000</td>\n",
       "      <td>45.000000</td>\n",
       "    </tr>\n",
       "    <tr>\n",
       "      <th>75%</th>\n",
       "      <td>2.908201e+07</td>\n",
       "      <td>1.074344e+08</td>\n",
       "      <td>40.763200</td>\n",
       "      <td>-73.935982</td>\n",
       "      <td>175.000000</td>\n",
       "      <td>5.000000</td>\n",
       "      <td>24.000000</td>\n",
       "      <td>2.020000</td>\n",
       "      <td>2.000000</td>\n",
       "      <td>229.000000</td>\n",
       "    </tr>\n",
       "    <tr>\n",
       "      <th>max</th>\n",
       "      <td>3.648724e+07</td>\n",
       "      <td>2.743115e+08</td>\n",
       "      <td>40.913060</td>\n",
       "      <td>-73.712990</td>\n",
       "      <td>10000.000000</td>\n",
       "      <td>1250.000000</td>\n",
       "      <td>629.000000</td>\n",
       "      <td>58.500000</td>\n",
       "      <td>327.000000</td>\n",
       "      <td>365.000000</td>\n",
       "    </tr>\n",
       "  </tbody>\n",
       "</table>\n",
       "</div>"
      ],
      "text/plain": [
       "                 id       host_id      latitude     longitude         price  \\\n",
       "count  3.422600e+04  3.422600e+04  34226.000000  34226.000000  34226.000000   \n",
       "mean   1.898209e+07  6.733847e+07     40.729059    -73.952070    153.480979   \n",
       "std    1.097597e+07  7.833091e+07      0.054604      0.046161    243.312608   \n",
       "min    2.595000e+03  2.438000e+03     40.499790    -74.244420      0.000000   \n",
       "25%    9.460366e+06  7.824440e+06     40.690040    -73.983150     69.000000   \n",
       "50%    1.965371e+07  3.065628e+07     40.722995    -73.955700    107.000000   \n",
       "75%    2.908201e+07  1.074344e+08     40.763200    -73.935982    175.000000   \n",
       "max    3.648724e+07  2.743115e+08     40.913060    -73.712990  10000.000000   \n",
       "\n",
       "       minimum_nights  number_of_reviews  reviews_per_month  \\\n",
       "count    34226.000000       34226.000000       27244.000000   \n",
       "mean         6.953690          23.390931           1.377074   \n",
       "std         20.255833          44.476822           1.688953   \n",
       "min          1.000000           0.000000           0.010000   \n",
       "25%          1.000000           1.000000           0.190000   \n",
       "50%          2.000000           5.000000           0.730000   \n",
       "75%          5.000000          24.000000           2.020000   \n",
       "max       1250.000000         629.000000          58.500000   \n",
       "\n",
       "       calculated_host_listings_count  availability_365  \n",
       "count                    34226.000000      34226.000000  \n",
       "mean                         7.093905        113.301730  \n",
       "std                         32.828412        131.892814  \n",
       "min                          1.000000          0.000000  \n",
       "25%                          1.000000          0.000000  \n",
       "50%                          1.000000         45.000000  \n",
       "75%                          2.000000        229.000000  \n",
       "max                        327.000000        365.000000  "
      ]
     },
     "execution_count": 4,
     "metadata": {},
     "output_type": "execute_result"
    }
   ],
   "source": [
    "df1.describe()"
   ]
  },
  {
   "cell_type": "code",
   "execution_count": 79,
   "metadata": {},
   "outputs": [
    {
     "data": {
      "text/plain": [
       "12"
      ]
     },
     "execution_count": 79,
     "metadata": {},
     "output_type": "execute_result"
    }
   ],
   "source": [
    "df1['name'].isnull().sum()"
   ]
  },
  {
   "cell_type": "code",
   "execution_count": 74,
   "metadata": {},
   "outputs": [
    {
     "data": {
      "text/html": [
       "<div>\n",
       "<style scoped>\n",
       "    .dataframe tbody tr th:only-of-type {\n",
       "        vertical-align: middle;\n",
       "    }\n",
       "\n",
       "    .dataframe tbody tr th {\n",
       "        vertical-align: top;\n",
       "    }\n",
       "\n",
       "    .dataframe thead th {\n",
       "        text-align: right;\n",
       "    }\n",
       "</style>\n",
       "<table border=\"1\" class=\"dataframe\">\n",
       "  <thead>\n",
       "    <tr style=\"text-align: right;\">\n",
       "      <th></th>\n",
       "      <th>latitude</th>\n",
       "      <th>longitude</th>\n",
       "      <th>price</th>\n",
       "    </tr>\n",
       "  </thead>\n",
       "  <tbody>\n",
       "    <tr>\n",
       "      <th>23575</th>\n",
       "      <td>40.72259</td>\n",
       "      <td>-73.99311</td>\n",
       "      <td>200</td>\n",
       "    </tr>\n",
       "    <tr>\n",
       "      <th>2351</th>\n",
       "      <td>40.73525</td>\n",
       "      <td>-73.98074</td>\n",
       "      <td>150</td>\n",
       "    </tr>\n",
       "    <tr>\n",
       "      <th>10671</th>\n",
       "      <td>40.68279</td>\n",
       "      <td>-73.92135</td>\n",
       "      <td>120</td>\n",
       "    </tr>\n",
       "    <tr>\n",
       "      <th>7575</th>\n",
       "      <td>40.69474</td>\n",
       "      <td>-73.96655</td>\n",
       "      <td>100</td>\n",
       "    </tr>\n",
       "    <tr>\n",
       "      <th>17882</th>\n",
       "      <td>40.70696</td>\n",
       "      <td>-73.91990</td>\n",
       "      <td>50</td>\n",
       "    </tr>\n",
       "  </tbody>\n",
       "</table>\n",
       "</div>"
      ],
      "text/plain": [
       "       latitude  longitude  price\n",
       "23575  40.72259  -73.99311    200\n",
       "2351   40.73525  -73.98074    150\n",
       "10671  40.68279  -73.92135    120\n",
       "7575   40.69474  -73.96655    100\n",
       "17882  40.70696  -73.91990     50"
      ]
     },
     "execution_count": 74,
     "metadata": {},
     "output_type": "execute_result"
    }
   ],
   "source": [
    "df1['host_name'].value_counts()\n",
    "df11 = df1[ df1['host_name']=='Rosie']\n",
    "df12 = df11[ df11['host_id']==7245581]\n",
    "df11[['latitude', 'longitude', 'price']].sort_values('price', ascending=False).head(100)"
   ]
  },
  {
   "cell_type": "code",
   "execution_count": 76,
   "metadata": {},
   "outputs": [
    {
     "name": "stdout",
     "output_type": "stream",
     "text": [
      "('Result:', 133.47846302651442)\n"
     ]
    }
   ],
   "source": [
    "from math import sin, cos, sqrt, atan2, radians\n",
    "\n",
    "# approximate radius of earth in km\n",
    "R = 6373.0\n",
    "\n",
    "lat1 = radians(40.70844)\n",
    "lon1 = radians(74.00615)\n",
    "lat2 = radians(40.70724)\n",
    "lon2 = radians(74.00614)\n",
    "\n",
    "dlon = lon2 - lon1\n",
    "dlat = lat2 - lat1\n",
    "\n",
    "a = sin(dlat / 2)**2 + cos(lat1) * cos(lat2) * sin(dlon / 2)**2\n",
    "c = 2 * atan2(sqrt(a), sqrt(1 - a))\n",
    "\n",
    "distance = R * c\n",
    "\n",
    "print(\"Result:\", distance*1000)\n",
    "\n"
   ]
  },
  {
   "cell_type": "code",
   "execution_count": 75,
   "metadata": {},
   "outputs": [
    {
     "data": {
      "text/html": [
       "<div>\n",
       "<style scoped>\n",
       "    .dataframe tbody tr th:only-of-type {\n",
       "        vertical-align: middle;\n",
       "    }\n",
       "\n",
       "    .dataframe tbody tr th {\n",
       "        vertical-align: top;\n",
       "    }\n",
       "\n",
       "    .dataframe thead th {\n",
       "        text-align: right;\n",
       "    }\n",
       "</style>\n",
       "<table border=\"1\" class=\"dataframe\">\n",
       "  <thead>\n",
       "    <tr style=\"text-align: right;\">\n",
       "      <th></th>\n",
       "      <th>latitude</th>\n",
       "      <th>longitude</th>\n",
       "      <th>host_id</th>\n",
       "      <th>price</th>\n",
       "    </tr>\n",
       "  </thead>\n",
       "  <tbody>\n",
       "    <tr>\n",
       "      <th>3147</th>\n",
       "      <td>40.70844</td>\n",
       "      <td>-74.00615</td>\n",
       "      <td>219517861</td>\n",
       "      <td>699</td>\n",
       "    </tr>\n",
       "    <tr>\n",
       "      <th>9051</th>\n",
       "      <td>40.70724</td>\n",
       "      <td>-74.00614</td>\n",
       "      <td>219517861</td>\n",
       "      <td>699</td>\n",
       "    </tr>\n",
       "    <tr>\n",
       "      <th>10659</th>\n",
       "      <td>40.70840</td>\n",
       "      <td>-74.00518</td>\n",
       "      <td>219517861</td>\n",
       "      <td>699</td>\n",
       "    </tr>\n",
       "    <tr>\n",
       "      <th>24416</th>\n",
       "      <td>40.75969</td>\n",
       "      <td>-73.98732</td>\n",
       "      <td>219517861</td>\n",
       "      <td>699</td>\n",
       "    </tr>\n",
       "    <tr>\n",
       "      <th>2002</th>\n",
       "      <td>40.70707</td>\n",
       "      <td>-74.00557</td>\n",
       "      <td>219517861</td>\n",
       "      <td>699</td>\n",
       "    </tr>\n",
       "    <tr>\n",
       "      <th>28005</th>\n",
       "      <td>40.75942</td>\n",
       "      <td>-73.98727</td>\n",
       "      <td>219517861</td>\n",
       "      <td>699</td>\n",
       "    </tr>\n",
       "    <tr>\n",
       "      <th>24181</th>\n",
       "      <td>40.70645</td>\n",
       "      <td>-74.01186</td>\n",
       "      <td>219517861</td>\n",
       "      <td>520</td>\n",
       "    </tr>\n",
       "    <tr>\n",
       "      <th>20300</th>\n",
       "      <td>40.70631</td>\n",
       "      <td>-74.01098</td>\n",
       "      <td>219517861</td>\n",
       "      <td>503</td>\n",
       "    </tr>\n",
       "    <tr>\n",
       "      <th>95</th>\n",
       "      <td>40.70645</td>\n",
       "      <td>-74.01203</td>\n",
       "      <td>219517861</td>\n",
       "      <td>503</td>\n",
       "    </tr>\n",
       "    <tr>\n",
       "      <th>22128</th>\n",
       "      <td>40.70620</td>\n",
       "      <td>-74.01192</td>\n",
       "      <td>219517861</td>\n",
       "      <td>498</td>\n",
       "    </tr>\n",
       "  </tbody>\n",
       "</table>\n",
       "</div>"
      ],
      "text/plain": [
       "       latitude  longitude    host_id  price\n",
       "3147   40.70844  -74.00615  219517861    699\n",
       "9051   40.70724  -74.00614  219517861    699\n",
       "10659  40.70840  -74.00518  219517861    699\n",
       "24416  40.75969  -73.98732  219517861    699\n",
       "2002   40.70707  -74.00557  219517861    699\n",
       "28005  40.75942  -73.98727  219517861    699\n",
       "24181  40.70645  -74.01186  219517861    520\n",
       "20300  40.70631  -74.01098  219517861    503\n",
       "95     40.70645  -74.01203  219517861    503\n",
       "22128  40.70620  -74.01192  219517861    498"
      ]
     },
     "execution_count": 75,
     "metadata": {},
     "output_type": "execute_result"
    }
   ],
   "source": [
    "df2 = df1[ df1['room_type']=='Entire home/apt']\n",
    "\n",
    "df3 = df2[ df2['neighbourhood_group']=='Manhattan']\n",
    "\n",
    "df4 = df3[ df3['host_name']=='Sonder (NYC)']\n",
    "\n",
    "df4['price'].value_counts()\n",
    "\n",
    "#df3=df2[df2['neighbourhood']=='Richmondtown']\n",
    "\n",
    "df4[['latitude', 'longitude','host_id', 'price']].sort_values('price', ascending=False).head(10)\n",
    "#df3['host_name'].value_counts()"
   ]
  },
  {
   "cell_type": "code",
   "execution_count": null,
   "metadata": {},
   "outputs": [],
   "source": [
    "data['Country'].value_counts()\n"
   ]
  },
  {
   "cell_type": "code",
   "execution_count": null,
   "metadata": {},
   "outputs": [],
   "source": [
    "data['Country'].value_counts(normalize=True)"
   ]
  },
  {
   "cell_type": "code",
   "execution_count": null,
   "metadata": {},
   "outputs": [],
   "source": [
    "data.drop_duplicates(subset=['Restaurant Name','Country','City','Locality'],inplace=True)\n",
    "data.shape"
   ]
  },
  {
   "cell_type": "code",
   "execution_count": null,
   "metadata": {},
   "outputs": [],
   "source": [
    "countries = data['Country'].value_counts().index\n",
    "countries"
   ]
  },
  {
   "cell_type": "code",
   "execution_count": null,
   "metadata": {},
   "outputs": [],
   "source": [
    "countries = data['Country'].value_counts().index\n",
    "no_of_restaurants = data['Country'].value_counts()\n",
    "plt.figure(figsize=(15,10))\n",
    "plt.bar(countries,no_of_restaurants)\n",
    "plt.xlabel('Country',fontsize=20)\n",
    "plt.ylabel('No of Restaurants',fontsize=20)\n",
    "plt.title('No of Restaurants',fontsize=20,color='navy')\n",
    "for idx,num in enumerate(no_of_restaurants):\n",
    "    plt.text(idx-0.3,num+30,s=str(num),color='red')\n",
    "plt.xticks(rotation=60)\n",
    "plt.show()\n"
   ]
  },
  {
   "cell_type": "code",
   "execution_count": null,
   "metadata": {},
   "outputs": [],
   "source": [
    "data.pivot_table(index=['Country', 'City'], values = 'Restaurant ID',aggfunc='count').sort_values('Restaurant ID',ascending=False)\n",
    "data.pivot_table(index=['Country', 'City'], values = 'Votes',aggfunc='count').sort_values('Votes',ascending=False)\n",
    "#data[data['Country'] != 'India'].pivot_table(index=['Country', 'City'],values = 'Restaurant ID',aggfunc='count').sort_values('Restaurant ID',ascending=False)"
   ]
  },
  {
   "cell_type": "code",
   "execution_count": null,
   "metadata": {},
   "outputs": [],
   "source": [
    "data_city=data[data['Country']=='India']\n",
    "#data_city.head()\n",
    "Total_city=data_city['City'].value_counts()\n",
    "#Total_city\n",
    "Total_city.plot.bar(figsize=(15,10),fontsize=20)\n"
   ]
  },
  {
   "cell_type": "code",
   "execution_count": null,
   "metadata": {},
   "outputs": [],
   "source": [
    "data[data['Country']=='India']['City'].value_counts(normalize=True).plot(kind='bar',figsize=(15,7))"
   ]
  },
  {
   "cell_type": "code",
   "execution_count": null,
   "metadata": {},
   "outputs": [],
   "source": [
    "data_online_delivary=data[data['Country']=='United States']\n",
    "data_online_delivary.head()\n",
    "data_online_delivary['Has Online delivery'].value_counts().plot(kind='bar',figsize=(15,7))"
   ]
  },
  {
   "cell_type": "code",
   "execution_count": null,
   "metadata": {},
   "outputs": [],
   "source": [
    "fig=plt.figure(figsize=(15,7))\n",
    "sns.barplot(data['Cuisines'].value_counts().index[:15],data['Cuisines'].value_counts()[:15])\n",
    "plt.xlabel('Cuisines',fontsize=20)\n",
    "plt.ylabel('No of Restaurants',fontsize=20)\n",
    "plt.title('Top 15 Restaurants',fontsize=30)\n",
    "plt.xticks(rotation=90)"
   ]
  },
  {
   "cell_type": "code",
   "execution_count": null,
   "metadata": {},
   "outputs": [],
   "source": [
    "cuisines = ['Noth Indian', 'Fast Food', 'Chinese']\n",
    "data_small = data[data['Cuisines'].isin(cuisines)]\n",
    "data_small.head()\n",
    "#sns.catplot(x='Cuisines', col='Country', col_wrap=3, kind='count', data=data_small.dropna(),sharey=False)"
   ]
  },
  {
   "cell_type": "markdown",
   "metadata": {},
   "source": [
    "# Pandas Profiling"
   ]
  },
  {
   "cell_type": "code",
   "execution_count": null,
   "metadata": {},
   "outputs": [],
   "source": [
    "#from pandas_profiling import ProfileReport\n",
    "#profile = ProfileReport(data,title='Pandas Profiling Report')\n",
    "#profile\n",
    "# unable to install pandas_profiling in office Pc"
   ]
  },
  {
   "cell_type": "markdown",
   "metadata": {},
   "source": [
    "# Average ratings of countries"
   ]
  },
  {
   "cell_type": "code",
   "execution_count": null,
   "metadata": {},
   "outputs": [],
   "source": [
    "data.groupby('Country')['Aggregate rating'].mean()"
   ]
  },
  {
   "cell_type": "code",
   "execution_count": null,
   "metadata": {},
   "outputs": [],
   "source": [
    "data_india = data[data['Country']=='India']\n",
    "data_india.groupby('City')['Aggregate rating'].mean()"
   ]
  },
  {
   "cell_type": "code",
   "execution_count": null,
   "metadata": {},
   "outputs": [],
   "source": [
    "country_average=data.groupby('Country')['Aggregate rating'].mean().reset_index()\n",
    "fig=plt.figure(figsize=(15,7))\n",
    "plt.bar(country_average['Country'],country_average['Aggregate rating'] )\n",
    "plt.xticks(rotation=60)\n",
    "plt.show()"
   ]
  },
  {
   "cell_type": "code",
   "execution_count": null,
   "metadata": {},
   "outputs": [],
   "source": []
  }
 ],
 "metadata": {
  "kernelspec": {
   "display_name": "Python 3",
   "language": "python",
   "name": "python3"
  },
  "language_info": {
   "codemirror_mode": {
    "name": "ipython",
    "version": 2
   },
   "file_extension": ".py",
   "mimetype": "text/x-python",
   "name": "python",
   "nbconvert_exporter": "python",
   "pygments_lexer": "ipython2",
   "version": "2.7.16"
  }
 },
 "nbformat": 4,
 "nbformat_minor": 2
}
