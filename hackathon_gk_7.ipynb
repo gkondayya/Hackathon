{
  "nbformat": 4,
  "nbformat_minor": 0,
  "metadata": {
    "kernelspec": {
      "display_name": "Python 3",
      "language": "python",
      "name": "python3"
    },
    "language_info": {
      "codemirror_mode": {
        "name": "ipython",
        "version": 2
      },
      "file_extension": ".py",
      "mimetype": "text/x-python",
      "name": "python",
      "nbconvert_exporter": "python",
      "pygments_lexer": "ipython2",
      "version": "2.7.16"
    },
    "colab": {
      "name": "hackathon_gk_7.ipynb",
      "provenance": [],
      "include_colab_link": true
    }
  },
  "cells": [
    {
      "cell_type": "markdown",
      "metadata": {
        "id": "view-in-github",
        "colab_type": "text"
      },
      "source": [
        "<a href=\"https://colab.research.google.com/github/gkondayya/Hackathon/blob/master/hackathon_gk_7.ipynb\" target=\"_parent\"><img src=\"https://colab.research.google.com/assets/colab-badge.svg\" alt=\"Open In Colab\"/></a>"
      ]
    },
    {
      "cell_type": "code",
      "metadata": {
        "id": "htTYM83ivLsu"
      },
      "source": [
        "import os\n",
        "import numpy as np\n",
        "import pandas as pd\n",
        "import matplotlib.pyplot as plt\n",
        "import seaborn as sns\n",
        "%matplotlib inline"
      ],
      "execution_count": 2,
      "outputs": []
    },
    {
      "cell_type": "markdown",
      "metadata": {
        "id": "4H1h5QVyvLs4"
      },
      "source": [
        "# We should not use \"dropna\"  now as it removes 6982 + rows \n",
        "# Instead it is Better to remove Columns \"last_review\" and \"reviews_per_month \""
      ]
    },
    {
      "cell_type": "code",
      "metadata": {
        "id": "-hYWJC3avLs5",
        "outputId": "a1888b4b-00a8-4b9b-cc0c-66cfda345092",
        "colab": {
          "resources": {
            "http://localhost:8080/nbextensions/google.colab/files.js": {
              "data": "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",
              "ok": true,
              "headers": [
                [
                  "content-type",
                  "application/javascript"
                ]
              ],
              "status": 200,
              "status_text": "OK"
            }
          },
          "base_uri": "https://localhost:8080/",
          "height": 385
        }
      },
      "source": [
        "from google.colab import files\n",
        "uploaded = files.upload()\n",
        "\n",
        "df1 = pd.read_csv('Train.csv')\n",
        "\n",
        "#country = pd.read_excel('Country-Code.xlsx')\n",
        "#country.head()\n",
        "df1.shape\n",
        "df1.isnull().sum()\n"
      ],
      "execution_count": 5,
      "outputs": [
        {
          "output_type": "display_data",
          "data": {
            "text/html": [
              "\n",
              "     <input type=\"file\" id=\"files-0194329a-fdf4-4e6d-a69f-46807a3ddf2f\" name=\"files[]\" multiple disabled\n",
              "        style=\"border:none\" />\n",
              "     <output id=\"result-0194329a-fdf4-4e6d-a69f-46807a3ddf2f\">\n",
              "      Upload widget is only available when the cell has been executed in the\n",
              "      current browser session. Please rerun this cell to enable.\n",
              "      </output>\n",
              "      <script src=\"/nbextensions/google.colab/files.js\"></script> "
            ],
            "text/plain": [
              "<IPython.core.display.HTML object>"
            ]
          },
          "metadata": {
            "tags": []
          }
        },
        {
          "output_type": "stream",
          "text": [
            "Saving Train.csv to Train (1).csv\n"
          ],
          "name": "stdout"
        },
        {
          "output_type": "execute_result",
          "data": {
            "text/plain": [
              "id                                   0\n",
              "name                                12\n",
              "host_id                              0\n",
              "host_name                           13\n",
              "neighbourhood_group                  0\n",
              "neighbourhood                        0\n",
              "latitude                             0\n",
              "longitude                            0\n",
              "room_type                            0\n",
              "price                                0\n",
              "minimum_nights                       0\n",
              "number_of_reviews                    0\n",
              "last_review                       6982\n",
              "reviews_per_month                 6982\n",
              "calculated_host_listings_count       0\n",
              "availability_365                     0\n",
              "dtype: int64"
            ]
          },
          "metadata": {
            "tags": []
          },
          "execution_count": 5
        }
      ]
    },
    {
      "cell_type": "code",
      "metadata": {
        "id": "IuXg70YTvLtD",
        "outputId": "d081dab6-0512-4fe1-aa1d-4a0469070de4",
        "colab": {
          "base_uri": "https://localhost:8080/",
          "height": 428
        }
      },
      "source": [
        "df1.info()"
      ],
      "execution_count": 6,
      "outputs": [
        {
          "output_type": "stream",
          "text": [
            "<class 'pandas.core.frame.DataFrame'>\n",
            "RangeIndex: 34226 entries, 0 to 34225\n",
            "Data columns (total 16 columns):\n",
            " #   Column                          Non-Null Count  Dtype  \n",
            "---  ------                          --------------  -----  \n",
            " 0   id                              34226 non-null  int64  \n",
            " 1   name                            34214 non-null  object \n",
            " 2   host_id                         34226 non-null  int64  \n",
            " 3   host_name                       34213 non-null  object \n",
            " 4   neighbourhood_group             34226 non-null  object \n",
            " 5   neighbourhood                   34226 non-null  object \n",
            " 6   latitude                        34226 non-null  float64\n",
            " 7   longitude                       34226 non-null  float64\n",
            " 8   room_type                       34226 non-null  object \n",
            " 9   price                           34226 non-null  int64  \n",
            " 10  minimum_nights                  34226 non-null  int64  \n",
            " 11  number_of_reviews               34226 non-null  int64  \n",
            " 12  last_review                     27244 non-null  object \n",
            " 13  reviews_per_month               27244 non-null  float64\n",
            " 14  calculated_host_listings_count  34226 non-null  int64  \n",
            " 15  availability_365                34226 non-null  int64  \n",
            "dtypes: float64(3), int64(7), object(6)\n",
            "memory usage: 4.2+ MB\n"
          ],
          "name": "stdout"
        }
      ]
    },
    {
      "cell_type": "code",
      "metadata": {
        "id": "CpxgYQAZvLtJ",
        "outputId": "11632bfb-0714-4aff-aa5e-ff0ce9a93046",
        "colab": {
          "base_uri": "https://localhost:8080/",
          "height": 300
        }
      },
      "source": [
        "df1.describe()"
      ],
      "execution_count": 7,
      "outputs": [
        {
          "output_type": "execute_result",
          "data": {
            "text/html": [
              "<div>\n",
              "<style scoped>\n",
              "    .dataframe tbody tr th:only-of-type {\n",
              "        vertical-align: middle;\n",
              "    }\n",
              "\n",
              "    .dataframe tbody tr th {\n",
              "        vertical-align: top;\n",
              "    }\n",
              "\n",
              "    .dataframe thead th {\n",
              "        text-align: right;\n",
              "    }\n",
              "</style>\n",
              "<table border=\"1\" class=\"dataframe\">\n",
              "  <thead>\n",
              "    <tr style=\"text-align: right;\">\n",
              "      <th></th>\n",
              "      <th>id</th>\n",
              "      <th>host_id</th>\n",
              "      <th>latitude</th>\n",
              "      <th>longitude</th>\n",
              "      <th>price</th>\n",
              "      <th>minimum_nights</th>\n",
              "      <th>number_of_reviews</th>\n",
              "      <th>reviews_per_month</th>\n",
              "      <th>calculated_host_listings_count</th>\n",
              "      <th>availability_365</th>\n",
              "    </tr>\n",
              "  </thead>\n",
              "  <tbody>\n",
              "    <tr>\n",
              "      <th>count</th>\n",
              "      <td>3.422600e+04</td>\n",
              "      <td>3.422600e+04</td>\n",
              "      <td>34226.000000</td>\n",
              "      <td>34226.000000</td>\n",
              "      <td>34226.000000</td>\n",
              "      <td>34226.000000</td>\n",
              "      <td>34226.000000</td>\n",
              "      <td>27244.000000</td>\n",
              "      <td>34226.000000</td>\n",
              "      <td>34226.000000</td>\n",
              "    </tr>\n",
              "    <tr>\n",
              "      <th>mean</th>\n",
              "      <td>1.898209e+07</td>\n",
              "      <td>6.733847e+07</td>\n",
              "      <td>40.729059</td>\n",
              "      <td>-73.952070</td>\n",
              "      <td>153.480979</td>\n",
              "      <td>6.953690</td>\n",
              "      <td>23.390931</td>\n",
              "      <td>1.377074</td>\n",
              "      <td>7.093905</td>\n",
              "      <td>113.301730</td>\n",
              "    </tr>\n",
              "    <tr>\n",
              "      <th>std</th>\n",
              "      <td>1.097597e+07</td>\n",
              "      <td>7.833091e+07</td>\n",
              "      <td>0.054604</td>\n",
              "      <td>0.046161</td>\n",
              "      <td>243.312608</td>\n",
              "      <td>20.255833</td>\n",
              "      <td>44.476822</td>\n",
              "      <td>1.688953</td>\n",
              "      <td>32.828412</td>\n",
              "      <td>131.892814</td>\n",
              "    </tr>\n",
              "    <tr>\n",
              "      <th>min</th>\n",
              "      <td>2.595000e+03</td>\n",
              "      <td>2.438000e+03</td>\n",
              "      <td>40.499790</td>\n",
              "      <td>-74.244420</td>\n",
              "      <td>0.000000</td>\n",
              "      <td>1.000000</td>\n",
              "      <td>0.000000</td>\n",
              "      <td>0.010000</td>\n",
              "      <td>1.000000</td>\n",
              "      <td>0.000000</td>\n",
              "    </tr>\n",
              "    <tr>\n",
              "      <th>25%</th>\n",
              "      <td>9.460366e+06</td>\n",
              "      <td>7.824440e+06</td>\n",
              "      <td>40.690040</td>\n",
              "      <td>-73.983150</td>\n",
              "      <td>69.000000</td>\n",
              "      <td>1.000000</td>\n",
              "      <td>1.000000</td>\n",
              "      <td>0.190000</td>\n",
              "      <td>1.000000</td>\n",
              "      <td>0.000000</td>\n",
              "    </tr>\n",
              "    <tr>\n",
              "      <th>50%</th>\n",
              "      <td>1.965371e+07</td>\n",
              "      <td>3.065628e+07</td>\n",
              "      <td>40.722995</td>\n",
              "      <td>-73.955700</td>\n",
              "      <td>107.000000</td>\n",
              "      <td>2.000000</td>\n",
              "      <td>5.000000</td>\n",
              "      <td>0.730000</td>\n",
              "      <td>1.000000</td>\n",
              "      <td>45.000000</td>\n",
              "    </tr>\n",
              "    <tr>\n",
              "      <th>75%</th>\n",
              "      <td>2.908201e+07</td>\n",
              "      <td>1.074344e+08</td>\n",
              "      <td>40.763200</td>\n",
              "      <td>-73.935982</td>\n",
              "      <td>175.000000</td>\n",
              "      <td>5.000000</td>\n",
              "      <td>24.000000</td>\n",
              "      <td>2.020000</td>\n",
              "      <td>2.000000</td>\n",
              "      <td>229.000000</td>\n",
              "    </tr>\n",
              "    <tr>\n",
              "      <th>max</th>\n",
              "      <td>3.648724e+07</td>\n",
              "      <td>2.743115e+08</td>\n",
              "      <td>40.913060</td>\n",
              "      <td>-73.712990</td>\n",
              "      <td>10000.000000</td>\n",
              "      <td>1250.000000</td>\n",
              "      <td>629.000000</td>\n",
              "      <td>58.500000</td>\n",
              "      <td>327.000000</td>\n",
              "      <td>365.000000</td>\n",
              "    </tr>\n",
              "  </tbody>\n",
              "</table>\n",
              "</div>"
            ],
            "text/plain": [
              "                 id  ...  availability_365\n",
              "count  3.422600e+04  ...      34226.000000\n",
              "mean   1.898209e+07  ...        113.301730\n",
              "std    1.097597e+07  ...        131.892814\n",
              "min    2.595000e+03  ...          0.000000\n",
              "25%    9.460366e+06  ...          0.000000\n",
              "50%    1.965371e+07  ...         45.000000\n",
              "75%    2.908201e+07  ...        229.000000\n",
              "max    3.648724e+07  ...        365.000000\n",
              "\n",
              "[8 rows x 10 columns]"
            ]
          },
          "metadata": {
            "tags": []
          },
          "execution_count": 7
        }
      ]
    },
    {
      "cell_type": "markdown",
      "metadata": {
        "id": "NEgdt3ivvLtO"
      },
      "source": [
        "# Null values in Column \"name\" = 12\n",
        "# Null values in Column \"host_name\" =13"
      ]
    },
    {
      "cell_type": "code",
      "metadata": {
        "id": "kgoqo9YtvLtP",
        "outputId": "67f83990-a360-435a-b145-a9657200b697"
      },
      "source": [
        "df1['name'].isnull().sum()\n"
      ],
      "execution_count": null,
      "outputs": [
        {
          "output_type": "execute_result",
          "data": {
            "text/plain": [
              "12"
            ]
          },
          "metadata": {
            "tags": []
          },
          "execution_count": 5
        }
      ]
    },
    {
      "cell_type": "code",
      "metadata": {
        "id": "AILhnoWjvLtU",
        "outputId": "0aa904b6-28fd-4daa-b63f-bb71191ff649"
      },
      "source": [
        "df1['host_name'].isnull().sum()"
      ],
      "execution_count": null,
      "outputs": [
        {
          "output_type": "execute_result",
          "data": {
            "text/plain": [
              "13"
            ]
          },
          "metadata": {
            "tags": []
          },
          "execution_count": 6
        }
      ]
    },
    {
      "cell_type": "markdown",
      "metadata": {
        "id": "UhHh3s-evLta"
      },
      "source": [
        "# Price distribution (Actual data set)"
      ]
    },
    {
      "cell_type": "code",
      "metadata": {
        "id": "qE1SPTQAvLtb",
        "outputId": "d603e30e-d477-47c0-f98b-11e85e9a7782"
      },
      "source": [
        "import matplotlib \n",
        "#matplotlib.rcParams[\"figure.figsize\"] = (15,10)\n",
        "plt.yscale('log')\n",
        "plt.hist(df1.price,rwidth=0.5)\n",
        "plt.xlabel('price')\n",
        "plt.ylabel('No. of properties')\n",
        "plt.rcParams.update({'font.size': 22})\n",
        "plt.show()"
      ],
      "execution_count": null,
      "outputs": [
        {
          "output_type": "display_data",
          "data": {
            "image/png": "[encoded data removed]",
            "text/plain": [
              "<Figure size 432x288 with 1 Axes>"
            ]
          },
          "metadata": {
            "tags": [],
            "needs_background": "light"
          }
        }
      ]
    },
    {
      "cell_type": "markdown",
      "metadata": {
        "id": "AwgX3UrPvLtf"
      },
      "source": [
        "# Price distribution (price<4000)"
      ]
    },
    {
      "cell_type": "code",
      "metadata": {
        "id": "sa8UwEiZvLtg",
        "outputId": "681de6dc-4434-435f-82bf-f16a7e3ce0da"
      },
      "source": [
        "df2 = df1[df1.price<3000]\n",
        "#plt.yscale('log')\n",
        "plt.hist(df2.price,rwidth=0.5)\n",
        "plt.xlabel('price')\n",
        "plt.ylabel('No. of properties')\n",
        "plt.rcParams.update({'font.size': 22})\n",
        "plt.show()\n"
      ],
      "execution_count": null,
      "outputs": [
        {
          "output_type": "display_data",
          "data": {
            "image/png": "[encoded data removed]",
            "text/plain": [
              "<Figure size 432x288 with 1 Axes>"
            ]
          },
          "metadata": {
            "tags": [],
            "needs_background": "light"
          }
        }
      ]
    },
    {
      "cell_type": "markdown",
      "metadata": {
        "id": "T-5Zt1uRvLtk"
      },
      "source": [
        "# Price distribution (price<500)\n",
        "# Majority of the properties (about 1/3 rd) are priced around 100 dollars\n",
        "# only 892 properties cost more than 500 dollars"
      ]
    },
    {
      "cell_type": "code",
      "metadata": {
        "id": "_91fsJZSvLtl",
        "outputId": "e4385edf-b0ef-4df4-de90-b3e92bce6749"
      },
      "source": [
        "df2 = df1[df1.price < 500]\n",
        "#plt.yscale('log')\n",
        "plt.hist(df2.price,rwidth=0.5)\n",
        "plt.xlabel('price')\n",
        "plt.ylabel('No. of properties')\n",
        "plt.rcParams.update({'font.size': 22})\n",
        "plt.show()"
      ],
      "execution_count": null,
      "outputs": [
        {
          "output_type": "display_data",
          "data": {
            "image/png": "[encoded data removed]",
            "text/plain": [
              "<Figure size 432x288 with 1 Axes>"
            ]
          },
          "metadata": {
            "tags": [],
            "needs_background": "light"
          }
        }
      ]
    },
    {
      "cell_type": "code",
      "metadata": {
        "id": "eNqUfIytvLtr",
        "outputId": "28c6879d-a19f-4723-f48a-a11a4f2adb24"
      },
      "source": [
        "df1.shape"
      ],
      "execution_count": null,
      "outputs": [
        {
          "output_type": "execute_result",
          "data": {
            "text/plain": [
              "(34226, 16)"
            ]
          },
          "metadata": {
            "tags": []
          },
          "execution_count": 10
        }
      ]
    },
    {
      "cell_type": "code",
      "metadata": {
        "id": "jV9bnya0vLtv",
        "outputId": "7fccc647-0a11-493f-dd0b-b191cc447bee"
      },
      "source": [
        "df2.shape"
      ],
      "execution_count": null,
      "outputs": [
        {
          "output_type": "execute_result",
          "data": {
            "text/plain": [
              "(33334, 16)"
            ]
          },
          "metadata": {
            "tags": []
          },
          "execution_count": 11
        }
      ]
    },
    {
      "cell_type": "code",
      "metadata": {
        "id": "FhnPjn4-vLt1",
        "outputId": "b32fbcf9-4d8b-4d06-c6ec-f087856da93e"
      },
      "source": [
        "df2 = df1[df1.price>=500]\n",
        "df2.shape"
      ],
      "execution_count": null,
      "outputs": [
        {
          "output_type": "execute_result",
          "data": {
            "text/plain": [
              "(892, 16)"
            ]
          },
          "metadata": {
            "tags": []
          },
          "execution_count": 12
        }
      ]
    },
    {
      "cell_type": "markdown",
      "metadata": {
        "id": "STBk6GR9vLt-"
      },
      "source": [
        "# Distribution of room types (not working, kernal hangs!!!)"
      ]
    },
    {
      "cell_type": "code",
      "metadata": {
        "id": "iGGLSbGGvLt-"
      },
      "source": [
        "#plt.hist(df1.room_type,rwidth=0.5)\n",
        "#plt.xlabel('Room_Type')\n",
        "#plt.ylabel('No. of properties')\n",
        "#plt.rcParams.update({'font.size': 22})\n",
        "#plt.show()"
      ],
      "execution_count": null,
      "outputs": []
    },
    {
      "cell_type": "markdown",
      "metadata": {
        "id": "Pyb7X04TvLuB"
      },
      "source": [
        "# Finding total no of host_names"
      ]
    },
    {
      "cell_type": "code",
      "metadata": {
        "id": "JRXCS8kqvLuC",
        "outputId": "c73b116f-60d7-4c56-9e2d-7a800092682e"
      },
      "source": [
        "df1['host_name'].value_counts()"
      ],
      "execution_count": null,
      "outputs": [
        {
          "output_type": "execute_result",
          "data": {
            "text/plain": [
              "Michael              291\n",
              "David                290\n",
              "Sonder (NYC)         229\n",
              "John                 208\n",
              "Alex                 199\n",
              "Daniel               168\n",
              "Jessica              158\n",
              "Sarah                156\n",
              "Blueground           155\n",
              "Andrew               144\n",
              "Maria                143\n",
              "Mike                 142\n",
              "Anna                 136\n",
              "Laura                130\n",
              "Chris                127\n",
              "Emily                113\n",
              "Melissa              112\n",
              "Brian                108\n",
              "Kara                 105\n",
              "Jason                104\n",
              "Mark                 100\n",
              "Michelle             100\n",
              "Rachel                99\n",
              "Ben                   98\n",
              "Ken                   97\n",
              "Jennifer              96\n",
              "Adam                  96\n",
              "James                 95\n",
              "Amy                   95\n",
              "Jonathan              95\n",
              "                    ... \n",
              "Joachim                1\n",
              "Karol                  1\n",
              "Ameer                  1\n",
              "Sharon And Ronn        1\n",
              "Razia                  1\n",
              "Anna & Keith           1\n",
              "Zora & Chris           1\n",
              "Mariame                1\n",
              "Larisa                 1\n",
              "Faraz                  1\n",
              "Cagla                  1\n",
              "Moema                  1\n",
              "Serim                  1\n",
              "Sara Kate              1\n",
              "Moe                    1\n",
              "Serik                  1\n",
              "Linden & Bah           1\n",
              "L.Marce                1\n",
              "Milly & George         1\n",
              "Maurad & Maria         1\n",
              "Justus                 1\n",
              "Ero                    1\n",
              "Abbi                   1\n",
              "Asli                   1\n",
              "Noele                  1\n",
              "Jasmine And Isaac      1\n",
              "Dalila                 1\n",
              "Brittani               1\n",
              "Lenur                  1\n",
              "Sergios & Fani         1\n",
              "Name: host_name, Length: 9290, dtype: int64"
            ]
          },
          "metadata": {
            "tags": []
          },
          "execution_count": 14
        }
      ]
    },
    {
      "cell_type": "markdown",
      "metadata": {
        "id": "1zX1-EknvLuI"
      },
      "source": [
        "# Total neighbourhood_groups"
      ]
    },
    {
      "cell_type": "code",
      "metadata": {
        "id": "-02iJ9oAvLuI",
        "outputId": "ac8633bb-c39e-4918-e560-a7faaa69dd8d"
      },
      "source": [
        "df1['neighbourhood_group'].value_counts()"
      ],
      "execution_count": null,
      "outputs": [
        {
          "output_type": "execute_result",
          "data": {
            "text/plain": [
              "Manhattan        15193\n",
              "Brooklyn         14033\n",
              "Queens            3985\n",
              "Bronx              767\n",
              "Staten Island      248\n",
              "Name: neighbourhood_group, dtype: int64"
            ]
          },
          "metadata": {
            "tags": []
          },
          "execution_count": 15
        }
      ]
    },
    {
      "cell_type": "markdown",
      "metadata": {
        "id": "LucWAd4hvLuN"
      },
      "source": [
        "#  Popular neighbourhoods"
      ]
    },
    {
      "cell_type": "code",
      "metadata": {
        "id": "NgPH-C4NvLuN",
        "outputId": "57120744-5a7e-4a8b-f734-87ec47208aec"
      },
      "source": [
        "df1.groupby('neighbourhood_group')['neighbourhood'].value_counts()\n",
        "df1.pivot_table(index=['neighbourhood_group', 'neighbourhood'], values = 'id',aggfunc='count').sort_values('id',ascending=False)"
      ],
      "execution_count": null,
      "outputs": [
        {
          "output_type": "execute_result",
          "data": {
            "text/html": [
              "<div>\n",
              "<style scoped>\n",
              "    .dataframe tbody tr th:only-of-type {\n",
              "        vertical-align: middle;\n",
              "    }\n",
              "\n",
              "    .dataframe tbody tr th {\n",
              "        vertical-align: top;\n",
              "    }\n",
              "\n",
              "    .dataframe thead th {\n",
              "        text-align: right;\n",
              "    }\n",
              "</style>\n",
              "<table border=\"1\" class=\"dataframe\">\n",
              "  <thead>\n",
              "    <tr style=\"text-align: right;\">\n",
              "      <th></th>\n",
              "      <th></th>\n",
              "      <th>id</th>\n",
              "    </tr>\n",
              "    <tr>\n",
              "      <th>neighbourhood_group</th>\n",
              "      <th>neighbourhood</th>\n",
              "      <th></th>\n",
              "    </tr>\n",
              "  </thead>\n",
              "  <tbody>\n",
              "    <tr>\n",
              "      <th rowspan=\"2\" valign=\"top\">Brooklyn</th>\n",
              "      <th>Williamsburg</th>\n",
              "      <td>2756</td>\n",
              "    </tr>\n",
              "    <tr>\n",
              "      <th>Bedford-Stuyvesant</th>\n",
              "      <td>2577</td>\n",
              "    </tr>\n",
              "    <tr>\n",
              "      <th>Manhattan</th>\n",
              "      <th>Harlem</th>\n",
              "      <td>1877</td>\n",
              "    </tr>\n",
              "    <tr>\n",
              "      <th>Brooklyn</th>\n",
              "      <th>Bushwick</th>\n",
              "      <td>1719</td>\n",
              "    </tr>\n",
              "    <tr>\n",
              "      <th rowspan=\"4\" valign=\"top\">Manhattan</th>\n",
              "      <th>Upper West Side</th>\n",
              "      <td>1403</td>\n",
              "    </tr>\n",
              "    <tr>\n",
              "      <th>Hell's Kitchen</th>\n",
              "      <td>1383</td>\n",
              "    </tr>\n",
              "    <tr>\n",
              "      <th>East Village</th>\n",
              "      <td>1309</td>\n",
              "    </tr>\n",
              "    <tr>\n",
              "      <th>Upper East Side</th>\n",
              "      <td>1245</td>\n",
              "    </tr>\n",
              "    <tr>\n",
              "      <th>Brooklyn</th>\n",
              "      <th>Crown Heights</th>\n",
              "      <td>1085</td>\n",
              "    </tr>\n",
              "    <tr>\n",
              "      <th rowspan=\"3\" valign=\"top\">Manhattan</th>\n",
              "      <th>Midtown</th>\n",
              "      <td>1071</td>\n",
              "    </tr>\n",
              "    <tr>\n",
              "      <th>Chelsea</th>\n",
              "      <td>791</td>\n",
              "    </tr>\n",
              "    <tr>\n",
              "      <th>East Harlem</th>\n",
              "      <td>758</td>\n",
              "    </tr>\n",
              "    <tr>\n",
              "      <th>Brooklyn</th>\n",
              "      <th>Greenpoint</th>\n",
              "      <td>735</td>\n",
              "    </tr>\n",
              "    <tr>\n",
              "      <th rowspan=\"2\" valign=\"top\">Manhattan</th>\n",
              "      <th>Lower East Side</th>\n",
              "      <td>665</td>\n",
              "    </tr>\n",
              "    <tr>\n",
              "      <th>Washington Heights</th>\n",
              "      <td>637</td>\n",
              "    </tr>\n",
              "    <tr>\n",
              "      <th>Queens</th>\n",
              "      <th>Astoria</th>\n",
              "      <td>634</td>\n",
              "    </tr>\n",
              "    <tr>\n",
              "      <th rowspan=\"2\" valign=\"top\">Manhattan</th>\n",
              "      <th>West Village</th>\n",
              "      <td>522</td>\n",
              "    </tr>\n",
              "    <tr>\n",
              "      <th>Financial District</th>\n",
              "      <td>518</td>\n",
              "    </tr>\n",
              "    <tr>\n",
              "      <th rowspan=\"3\" valign=\"top\">Brooklyn</th>\n",
              "      <th>Flatbush</th>\n",
              "      <td>425</td>\n",
              "    </tr>\n",
              "    <tr>\n",
              "      <th>Clinton Hill</th>\n",
              "      <td>420</td>\n",
              "    </tr>\n",
              "    <tr>\n",
              "      <th>Prospect-Lefferts Gardens</th>\n",
              "      <td>379</td>\n",
              "    </tr>\n",
              "    <tr>\n",
              "      <th>Queens</th>\n",
              "      <th>Long Island City</th>\n",
              "      <td>374</td>\n",
              "    </tr>\n",
              "    <tr>\n",
              "      <th rowspan=\"3\" valign=\"top\">Brooklyn</th>\n",
              "      <th>Park Slope</th>\n",
              "      <td>353</td>\n",
              "    </tr>\n",
              "    <tr>\n",
              "      <th>East Flatbush</th>\n",
              "      <td>347</td>\n",
              "    </tr>\n",
              "    <tr>\n",
              "      <th>Fort Greene</th>\n",
              "      <td>338</td>\n",
              "    </tr>\n",
              "    <tr>\n",
              "      <th rowspan=\"2\" valign=\"top\">Manhattan</th>\n",
              "      <th>Murray Hill</th>\n",
              "      <td>330</td>\n",
              "    </tr>\n",
              "    <tr>\n",
              "      <th>Kips Bay</th>\n",
              "      <td>324</td>\n",
              "    </tr>\n",
              "    <tr>\n",
              "      <th rowspan=\"2\" valign=\"top\">Queens</th>\n",
              "      <th>Ridgewood</th>\n",
              "      <td>302</td>\n",
              "    </tr>\n",
              "    <tr>\n",
              "      <th>Flushing</th>\n",
              "      <td>301</td>\n",
              "    </tr>\n",
              "    <tr>\n",
              "      <th>Brooklyn</th>\n",
              "      <th>Sunset Park</th>\n",
              "      <td>278</td>\n",
              "    </tr>\n",
              "    <tr>\n",
              "      <th>...</th>\n",
              "      <th>...</th>\n",
              "      <td>...</td>\n",
              "    </tr>\n",
              "    <tr>\n",
              "      <th rowspan=\"2\" valign=\"top\">Bronx</th>\n",
              "      <th>Mount Eden</th>\n",
              "      <td>4</td>\n",
              "    </tr>\n",
              "    <tr>\n",
              "      <th>Olinville</th>\n",
              "      <td>4</td>\n",
              "    </tr>\n",
              "    <tr>\n",
              "      <th>Brooklyn</th>\n",
              "      <th>Mill Basin</th>\n",
              "      <td>4</td>\n",
              "    </tr>\n",
              "    <tr>\n",
              "      <th>Staten Island</th>\n",
              "      <th>Dongan Hills</th>\n",
              "      <td>4</td>\n",
              "    </tr>\n",
              "    <tr>\n",
              "      <th>Queens</th>\n",
              "      <th>Belle Harbor</th>\n",
              "      <td>4</td>\n",
              "    </tr>\n",
              "    <tr>\n",
              "      <th>Staten Island</th>\n",
              "      <th>Grant City</th>\n",
              "      <td>3</td>\n",
              "    </tr>\n",
              "    <tr>\n",
              "      <th>Queens</th>\n",
              "      <th>Bay Terrace</th>\n",
              "      <td>3</td>\n",
              "    </tr>\n",
              "    <tr>\n",
              "      <th rowspan=\"3\" valign=\"top\">Staten Island</th>\n",
              "      <th>Castleton Corners</th>\n",
              "      <td>3</td>\n",
              "    </tr>\n",
              "    <tr>\n",
              "      <th>Bull's Head</th>\n",
              "      <td>3</td>\n",
              "    </tr>\n",
              "    <tr>\n",
              "      <th>Arden Heights</th>\n",
              "      <td>3</td>\n",
              "    </tr>\n",
              "    <tr>\n",
              "      <th>Queens</th>\n",
              "      <th>Breezy Point</th>\n",
              "      <td>3</td>\n",
              "    </tr>\n",
              "    <tr>\n",
              "      <th>Bronx</th>\n",
              "      <th>West Farms</th>\n",
              "      <td>2</td>\n",
              "    </tr>\n",
              "    <tr>\n",
              "      <th rowspan=\"5\" valign=\"top\">Staten Island</th>\n",
              "      <th>Todt Hill</th>\n",
              "      <td>2</td>\n",
              "    </tr>\n",
              "    <tr>\n",
              "      <th>South Beach</th>\n",
              "      <td>2</td>\n",
              "    </tr>\n",
              "    <tr>\n",
              "      <th>Silver Lake</th>\n",
              "      <td>2</td>\n",
              "    </tr>\n",
              "    <tr>\n",
              "      <th>Emerson Hill</th>\n",
              "      <td>2</td>\n",
              "    </tr>\n",
              "    <tr>\n",
              "      <th>Graniteville</th>\n",
              "      <td>2</td>\n",
              "    </tr>\n",
              "    <tr>\n",
              "      <th rowspan=\"2\" valign=\"top\">Queens</th>\n",
              "      <th>Holliswood</th>\n",
              "      <td>2</td>\n",
              "    </tr>\n",
              "    <tr>\n",
              "      <th>Neponsit</th>\n",
              "      <td>2</td>\n",
              "    </tr>\n",
              "    <tr>\n",
              "      <th>Bronx</th>\n",
              "      <th>Co-op City</th>\n",
              "      <td>2</td>\n",
              "    </tr>\n",
              "    <tr>\n",
              "      <th rowspan=\"9\" valign=\"top\">Staten Island</th>\n",
              "      <th>Howland Hook</th>\n",
              "      <td>2</td>\n",
              "    </tr>\n",
              "    <tr>\n",
              "      <th>Eltingville</th>\n",
              "      <td>2</td>\n",
              "    </tr>\n",
              "    <tr>\n",
              "      <th>Westerleigh</th>\n",
              "      <td>2</td>\n",
              "    </tr>\n",
              "    <tr>\n",
              "      <th>Richmondtown</th>\n",
              "      <td>1</td>\n",
              "    </tr>\n",
              "    <tr>\n",
              "      <th>Rosebank</th>\n",
              "      <td>1</td>\n",
              "    </tr>\n",
              "    <tr>\n",
              "      <th>Rossville</th>\n",
              "      <td>1</td>\n",
              "    </tr>\n",
              "    <tr>\n",
              "      <th>Bay Terrace, Staten Island</th>\n",
              "      <td>1</td>\n",
              "    </tr>\n",
              "    <tr>\n",
              "      <th>Lighthouse Hill</th>\n",
              "      <td>1</td>\n",
              "    </tr>\n",
              "    <tr>\n",
              "      <th>Huguenot</th>\n",
              "      <td>1</td>\n",
              "    </tr>\n",
              "    <tr>\n",
              "      <th>Bronx</th>\n",
              "      <th>Spuyten Duyvil</th>\n",
              "      <td>1</td>\n",
              "    </tr>\n",
              "  </tbody>\n",
              "</table>\n",
              "<p>217 rows × 1 columns</p>\n",
              "</div>"
            ],
            "text/plain": [
              "                                                  id\n",
              "neighbourhood_group neighbourhood                   \n",
              "Brooklyn            Williamsburg                2756\n",
              "                    Bedford-Stuyvesant          2577\n",
              "Manhattan           Harlem                      1877\n",
              "Brooklyn            Bushwick                    1719\n",
              "Manhattan           Upper West Side             1403\n",
              "                    Hell's Kitchen              1383\n",
              "                    East Village                1309\n",
              "                    Upper East Side             1245\n",
              "Brooklyn            Crown Heights               1085\n",
              "Manhattan           Midtown                     1071\n",
              "                    Chelsea                      791\n",
              "                    East Harlem                  758\n",
              "Brooklyn            Greenpoint                   735\n",
              "Manhattan           Lower East Side              665\n",
              "                    Washington Heights           637\n",
              "Queens              Astoria                      634\n",
              "Manhattan           West Village                 522\n",
              "                    Financial District           518\n",
              "Brooklyn            Flatbush                     425\n",
              "                    Clinton Hill                 420\n",
              "                    Prospect-Lefferts Gardens    379\n",
              "Queens              Long Island City             374\n",
              "Brooklyn            Park Slope                   353\n",
              "                    East Flatbush                347\n",
              "                    Fort Greene                  338\n",
              "Manhattan           Murray Hill                  330\n",
              "                    Kips Bay                     324\n",
              "Queens              Ridgewood                    302\n",
              "                    Flushing                     301\n",
              "Brooklyn            Sunset Park                  278\n",
              "...                                              ...\n",
              "Bronx               Mount Eden                     4\n",
              "                    Olinville                      4\n",
              "Brooklyn            Mill Basin                     4\n",
              "Staten Island       Dongan Hills                   4\n",
              "Queens              Belle Harbor                   4\n",
              "Staten Island       Grant City                     3\n",
              "Queens              Bay Terrace                    3\n",
              "Staten Island       Castleton Corners              3\n",
              "                    Bull's Head                    3\n",
              "                    Arden Heights                  3\n",
              "Queens              Breezy Point                   3\n",
              "Bronx               West Farms                     2\n",
              "Staten Island       Todt Hill                      2\n",
              "                    South Beach                    2\n",
              "                    Silver Lake                    2\n",
              "                    Emerson Hill                   2\n",
              "                    Graniteville                   2\n",
              "Queens              Holliswood                     2\n",
              "                    Neponsit                       2\n",
              "Bronx               Co-op City                     2\n",
              "Staten Island       Howland Hook                   2\n",
              "                    Eltingville                    2\n",
              "                    Westerleigh                    2\n",
              "                    Richmondtown                   1\n",
              "                    Rosebank                       1\n",
              "                    Rossville                      1\n",
              "                    Bay Terrace, Staten Island     1\n",
              "                    Lighthouse Hill                1\n",
              "                    Huguenot                       1\n",
              "Bronx               Spuyten Duyvil                 1\n",
              "\n",
              "[217 rows x 1 columns]"
            ]
          },
          "metadata": {
            "tags": []
          },
          "execution_count": 16
        }
      ]
    },
    {
      "cell_type": "markdown",
      "metadata": {
        "id": "rPgYO1zHvLuQ"
      },
      "source": [
        "# Finding average price of top host \"Michael\" by 'room_type'"
      ]
    },
    {
      "cell_type": "code",
      "metadata": {
        "id": "YCoA_yTBvLuQ",
        "outputId": "e8a67249-d0cf-48f5-f47f-734066fe34e2"
      },
      "source": [
        "df2 = df1[ df1['host_name']=='Michael']\n",
        "df2.groupby('room_type')['price'].mean()"
      ],
      "execution_count": null,
      "outputs": [
        {
          "output_type": "execute_result",
          "data": {
            "text/plain": [
              "room_type\n",
              "Entire home/apt    195.715909\n",
              "Private room        81.266667\n",
              "Shared room         72.100000\n",
              "Name: price, dtype: float64"
            ]
          },
          "metadata": {
            "tags": []
          },
          "execution_count": 17
        }
      ]
    },
    {
      "cell_type": "markdown",
      "metadata": {
        "id": "PvLS2TPavLuU"
      },
      "source": [
        "# Finding average price of top host \"Michael\" by ' 'neighbourhood_group'"
      ]
    },
    {
      "cell_type": "code",
      "metadata": {
        "id": "sA9RGnltvLuV",
        "outputId": "93f2da67-5bd1-4e95-bb7a-51aacbb28113"
      },
      "source": [
        "df2.groupby('neighbourhood_group')['price'].mean()\n"
      ],
      "execution_count": null,
      "outputs": [
        {
          "output_type": "execute_result",
          "data": {
            "text/plain": [
              "neighbourhood_group\n",
              "Bronx            111.666667\n",
              "Brooklyn         114.818966\n",
              "Manhattan        184.201389\n",
              "Queens           131.560000\n",
              "Staten Island     77.333333\n",
              "Name: price, dtype: float64"
            ]
          },
          "metadata": {
            "tags": []
          },
          "execution_count": 18
        }
      ]
    },
    {
      "cell_type": "markdown",
      "metadata": {
        "id": "8v9wsI81vLuX"
      },
      "source": [
        "# Finding average price of top host \"Michael\" by ' neighbourhood'"
      ]
    },
    {
      "cell_type": "code",
      "metadata": {
        "id": "1VPBM4l-vLuZ",
        "outputId": "81d0a043-2559-4824-ffdc-85bb7128d9f0"
      },
      "source": [
        "df2.groupby('neighbourhood')['price'].mean()"
      ],
      "execution_count": null,
      "outputs": [
        {
          "output_type": "execute_result",
          "data": {
            "text/plain": [
              "neighbourhood\n",
              "Arverne                      300.000000\n",
              "Astoria                       98.000000\n",
              "Bay Ridge                    135.000000\n",
              "Bedford-Stuyvesant            75.750000\n",
              "Boerum Hill                  145.000000\n",
              "Brighton Beach                83.333333\n",
              "Brooklyn Heights             170.000000\n",
              "Bushwick                      92.105263\n",
              "Carroll Gardens              125.000000\n",
              "Chelsea                      206.440000\n",
              "Chinatown                    195.000000\n",
              "Claremont Village            150.000000\n",
              "Clinton Hill                 121.250000\n",
              "Concord                      120.000000\n",
              "Concourse Village             85.000000\n",
              "Crown Heights                119.000000\n",
              "East Harlem                   77.000000\n",
              "East New York                 33.000000\n",
              "East Village                 165.916667\n",
              "Financial District           145.000000\n",
              "Flatbush                     100.000000\n",
              "Flatiron District            400.000000\n",
              "Gowanus                      125.000000\n",
              "Gramercy                     202.000000\n",
              "Greenpoint                   130.600000\n",
              "Greenwich Village            148.000000\n",
              "Harlem                       106.000000\n",
              "Hell's Kitchen               161.368421\n",
              "Inwood                        46.000000\n",
              "Jamaica                       65.000000\n",
              "Kips Bay                     125.000000\n",
              "Laurelton                     75.000000\n",
              "Little Italy                 250.000000\n",
              "Long Island City             149.750000\n",
              "Lower East Side              162.166667\n",
              "Midtown                      272.250000\n",
              "Morningside Heights          150.000000\n",
              "Nolita                       248.333333\n",
              "Park Slope                   156.000000\n",
              "Prospect-Lefferts Gardens    274.500000\n",
              "Ridgewood                    210.000000\n",
              "Rockaway Beach               545.000000\n",
              "Sheepshead Bay               150.000000\n",
              "SoHo                         500.000000\n",
              "South Slope                  169.000000\n",
              "Springfield Gardens           75.000000\n",
              "St. George                    50.000000\n",
              "Sunnyside                     65.600000\n",
              "Todt Hill                     62.000000\n",
              "Tribeca                      180.000000\n",
              "Upper East Side              210.166667\n",
              "Upper West Side              164.500000\n",
              "Vinegar Hill                 199.500000\n",
              "Wakefield                    100.000000\n",
              "Washington Heights            94.900000\n",
              "West Village                 231.800000\n",
              "Williamsburg                 119.483871\n",
              "Windsor Terrace              130.000000\n",
              "Name: price, dtype: float64"
            ]
          },
          "metadata": {
            "tags": []
          },
          "execution_count": 19
        }
      ]
    },
    {
      "cell_type": "markdown",
      "metadata": {
        "id": "OuEIK70dvLud"
      },
      "source": [
        "# Costly hosts"
      ]
    },
    {
      "cell_type": "code",
      "metadata": {
        "id": "waMzXXpxvLue",
        "outputId": "93971b3c-cbc5-4b46-aeec-c96e4965dc38"
      },
      "source": [
        "df1[['host_name', 'neighbourhood_group','neighbourhood','room_type','price']].sort_values('price', ascending=False).head(10)"
      ],
      "execution_count": null,
      "outputs": [
        {
          "output_type": "execute_result",
          "data": {
            "text/html": [
              "<div>\n",
              "<style scoped>\n",
              "    .dataframe tbody tr th:only-of-type {\n",
              "        vertical-align: middle;\n",
              "    }\n",
              "\n",
              "    .dataframe tbody tr th {\n",
              "        vertical-align: top;\n",
              "    }\n",
              "\n",
              "    .dataframe thead th {\n",
              "        text-align: right;\n",
              "    }\n",
              "</style>\n",
              "<table border=\"1\" class=\"dataframe\">\n",
              "  <thead>\n",
              "    <tr style=\"text-align: right;\">\n",
              "      <th></th>\n",
              "      <th>host_name</th>\n",
              "      <th>neighbourhood_group</th>\n",
              "      <th>neighbourhood</th>\n",
              "      <th>room_type</th>\n",
              "      <th>price</th>\n",
              "    </tr>\n",
              "  </thead>\n",
              "  <tbody>\n",
              "    <tr>\n",
              "      <th>29644</th>\n",
              "      <td>Erin</td>\n",
              "      <td>Brooklyn</td>\n",
              "      <td>Greenpoint</td>\n",
              "      <td>Entire home/apt</td>\n",
              "      <td>10000</td>\n",
              "    </tr>\n",
              "    <tr>\n",
              "      <th>12404</th>\n",
              "      <td>Jelena</td>\n",
              "      <td>Manhattan</td>\n",
              "      <td>Upper West Side</td>\n",
              "      <td>Entire home/apt</td>\n",
              "      <td>10000</td>\n",
              "    </tr>\n",
              "    <tr>\n",
              "      <th>12523</th>\n",
              "      <td>Matt</td>\n",
              "      <td>Manhattan</td>\n",
              "      <td>Lower East Side</td>\n",
              "      <td>Entire home/apt</td>\n",
              "      <td>9999</td>\n",
              "    </tr>\n",
              "    <tr>\n",
              "      <th>20810</th>\n",
              "      <td>Amy</td>\n",
              "      <td>Manhattan</td>\n",
              "      <td>Lower East Side</td>\n",
              "      <td>Private room</td>\n",
              "      <td>9999</td>\n",
              "    </tr>\n",
              "    <tr>\n",
              "      <th>23350</th>\n",
              "      <td>Rum</td>\n",
              "      <td>Manhattan</td>\n",
              "      <td>Tribeca</td>\n",
              "      <td>Entire home/apt</td>\n",
              "      <td>8500</td>\n",
              "    </tr>\n",
              "    <tr>\n",
              "      <th>31293</th>\n",
              "      <td>Jessica</td>\n",
              "      <td>Brooklyn</td>\n",
              "      <td>Clinton Hill</td>\n",
              "      <td>Entire home/apt</td>\n",
              "      <td>8000</td>\n",
              "    </tr>\n",
              "    <tr>\n",
              "      <th>3719</th>\n",
              "      <td>Sally</td>\n",
              "      <td>Manhattan</td>\n",
              "      <td>Upper East Side</td>\n",
              "      <td>Entire home/apt</td>\n",
              "      <td>7703</td>\n",
              "    </tr>\n",
              "    <tr>\n",
              "      <th>15974</th>\n",
              "      <td>Jack</td>\n",
              "      <td>Manhattan</td>\n",
              "      <td>Battery Park City</td>\n",
              "      <td>Entire home/apt</td>\n",
              "      <td>7500</td>\n",
              "    </tr>\n",
              "    <tr>\n",
              "      <th>7817</th>\n",
              "      <td>Kevin</td>\n",
              "      <td>Manhattan</td>\n",
              "      <td>Chelsea</td>\n",
              "      <td>Entire home/apt</td>\n",
              "      <td>6800</td>\n",
              "    </tr>\n",
              "    <tr>\n",
              "      <th>3754</th>\n",
              "      <td>Jonathan</td>\n",
              "      <td>Brooklyn</td>\n",
              "      <td>Clinton Hill</td>\n",
              "      <td>Entire home/apt</td>\n",
              "      <td>6500</td>\n",
              "    </tr>\n",
              "  </tbody>\n",
              "</table>\n",
              "</div>"
            ],
            "text/plain": [
              "      host_name neighbourhood_group      neighbourhood        room_type  price\n",
              "29644      Erin            Brooklyn         Greenpoint  Entire home/apt  10000\n",
              "12404    Jelena           Manhattan    Upper West Side  Entire home/apt  10000\n",
              "12523      Matt           Manhattan    Lower East Side  Entire home/apt   9999\n",
              "20810       Amy           Manhattan    Lower East Side     Private room   9999\n",
              "23350       Rum           Manhattan            Tribeca  Entire home/apt   8500\n",
              "31293   Jessica            Brooklyn       Clinton Hill  Entire home/apt   8000\n",
              "3719      Sally           Manhattan    Upper East Side  Entire home/apt   7703\n",
              "15974      Jack           Manhattan  Battery Park City  Entire home/apt   7500\n",
              "7817      Kevin           Manhattan            Chelsea  Entire home/apt   6800\n",
              "3754   Jonathan            Brooklyn       Clinton Hill  Entire home/apt   6500"
            ]
          },
          "metadata": {
            "tags": []
          },
          "execution_count": 20
        }
      ]
    },
    {
      "cell_type": "markdown",
      "metadata": {
        "id": "sAGnjbCdvLuh"
      },
      "source": [
        "# Cheap hosts"
      ]
    },
    {
      "cell_type": "code",
      "metadata": {
        "id": "AVE2DW8IvLuj",
        "outputId": "a0db9823-2dcf-4e24-f156-e8e86a962ada"
      },
      "source": [
        "df1[['host_name', 'neighbourhood_group','neighbourhood','room_type','price']].sort_values('price', ascending=False).tail(10)"
      ],
      "execution_count": null,
      "outputs": [
        {
          "output_type": "execute_result",
          "data": {
            "text/html": [
              "<div>\n",
              "<style scoped>\n",
              "    .dataframe tbody tr th:only-of-type {\n",
              "        vertical-align: middle;\n",
              "    }\n",
              "\n",
              "    .dataframe tbody tr th {\n",
              "        vertical-align: top;\n",
              "    }\n",
              "\n",
              "    .dataframe thead th {\n",
              "        text-align: right;\n",
              "    }\n",
              "</style>\n",
              "<table border=\"1\" class=\"dataframe\">\n",
              "  <thead>\n",
              "    <tr style=\"text-align: right;\">\n",
              "      <th></th>\n",
              "      <th>host_name</th>\n",
              "      <th>neighbourhood_group</th>\n",
              "      <th>neighbourhood</th>\n",
              "      <th>room_type</th>\n",
              "      <th>price</th>\n",
              "    </tr>\n",
              "  </thead>\n",
              "  <tbody>\n",
              "    <tr>\n",
              "      <th>23016</th>\n",
              "      <td>Rachel</td>\n",
              "      <td>Brooklyn</td>\n",
              "      <td>Sunset Park</td>\n",
              "      <td>Entire home/apt</td>\n",
              "      <td>10</td>\n",
              "    </tr>\n",
              "    <tr>\n",
              "      <th>26630</th>\n",
              "      <td>Kimberly</td>\n",
              "      <td>Brooklyn</td>\n",
              "      <td>Bedford-Stuyvesant</td>\n",
              "      <td>Private room</td>\n",
              "      <td>0</td>\n",
              "    </tr>\n",
              "    <tr>\n",
              "      <th>2133</th>\n",
              "      <td>Adeyemi</td>\n",
              "      <td>Brooklyn</td>\n",
              "      <td>Bedford-Stuyvesant</td>\n",
              "      <td>Private room</td>\n",
              "      <td>0</td>\n",
              "    </tr>\n",
              "    <tr>\n",
              "      <th>32184</th>\n",
              "      <td>Aymeric</td>\n",
              "      <td>Brooklyn</td>\n",
              "      <td>Williamsburg</td>\n",
              "      <td>Entire home/apt</td>\n",
              "      <td>0</td>\n",
              "    </tr>\n",
              "    <tr>\n",
              "      <th>30259</th>\n",
              "      <td>Martial Loft</td>\n",
              "      <td>Brooklyn</td>\n",
              "      <td>Bushwick</td>\n",
              "      <td>Private room</td>\n",
              "      <td>0</td>\n",
              "    </tr>\n",
              "    <tr>\n",
              "      <th>25414</th>\n",
              "      <td>Qiuchi</td>\n",
              "      <td>Manhattan</td>\n",
              "      <td>Murray Hill</td>\n",
              "      <td>Entire home/apt</td>\n",
              "      <td>0</td>\n",
              "    </tr>\n",
              "    <tr>\n",
              "      <th>21441</th>\n",
              "      <td>Adeyemi</td>\n",
              "      <td>Brooklyn</td>\n",
              "      <td>Bedford-Stuyvesant</td>\n",
              "      <td>Private room</td>\n",
              "      <td>0</td>\n",
              "    </tr>\n",
              "    <tr>\n",
              "      <th>11311</th>\n",
              "      <td>Sergii</td>\n",
              "      <td>Brooklyn</td>\n",
              "      <td>Bushwick</td>\n",
              "      <td>Shared room</td>\n",
              "      <td>0</td>\n",
              "    </tr>\n",
              "    <tr>\n",
              "      <th>25277</th>\n",
              "      <td>Lauren</td>\n",
              "      <td>Brooklyn</td>\n",
              "      <td>Greenpoint</td>\n",
              "      <td>Private room</td>\n",
              "      <td>0</td>\n",
              "    </tr>\n",
              "    <tr>\n",
              "      <th>11638</th>\n",
              "      <td>Adeyemi</td>\n",
              "      <td>Brooklyn</td>\n",
              "      <td>Bedford-Stuyvesant</td>\n",
              "      <td>Private room</td>\n",
              "      <td>0</td>\n",
              "    </tr>\n",
              "  </tbody>\n",
              "</table>\n",
              "</div>"
            ],
            "text/plain": [
              "          host_name neighbourhood_group       neighbourhood        room_type  \\\n",
              "23016        Rachel            Brooklyn         Sunset Park  Entire home/apt   \n",
              "26630      Kimberly            Brooklyn  Bedford-Stuyvesant     Private room   \n",
              "2133        Adeyemi            Brooklyn  Bedford-Stuyvesant     Private room   \n",
              "32184       Aymeric            Brooklyn        Williamsburg  Entire home/apt   \n",
              "30259  Martial Loft            Brooklyn            Bushwick     Private room   \n",
              "25414        Qiuchi           Manhattan         Murray Hill  Entire home/apt   \n",
              "21441       Adeyemi            Brooklyn  Bedford-Stuyvesant     Private room   \n",
              "11311        Sergii            Brooklyn            Bushwick      Shared room   \n",
              "25277        Lauren            Brooklyn          Greenpoint     Private room   \n",
              "11638       Adeyemi            Brooklyn  Bedford-Stuyvesant     Private room   \n",
              "\n",
              "       price  \n",
              "23016     10  \n",
              "26630      0  \n",
              "2133       0  \n",
              "32184      0  \n",
              "30259      0  \n",
              "25414      0  \n",
              "21441      0  \n",
              "11311      0  \n",
              "25277      0  \n",
              "11638      0  "
            ]
          },
          "metadata": {
            "tags": []
          },
          "execution_count": 21
        }
      ]
    },
    {
      "cell_type": "markdown",
      "metadata": {
        "id": "XyBtKv8EvLuo"
      },
      "source": [
        "# Code to calculate the distance between two points on Earth using lattitues and longitudes\n",
        "# Sunny can use it for cross verification"
      ]
    },
    {
      "cell_type": "code",
      "metadata": {
        "id": "rlgtiPaPvLuv",
        "outputId": "1776cf5c-b4ec-4ac3-c062-99292ad5a338"
      },
      "source": [
        "from math import sin, cos, sqrt, atan2, radians\n",
        "\n",
        "# approximate radius of earth in km\n",
        "R = 6373.0\n",
        "\n",
        "lat1 = radians(40.70844)\n",
        "lon1 = radians(-74.00615)\n",
        "lat2 = radians(40.70724)\n",
        "lon2 = radians(-74.00614)\n",
        "\n",
        "dlon = lon2 - lon1\n",
        "dlat = lat2 - lat1\n",
        "\n",
        "a = sin(dlat / 2)**2 + cos(lat1) * cos(lat2) * sin(dlon / 2)**2\n",
        "c = 2 * atan2(sqrt(a), sqrt(1 - a))\n",
        "\n",
        "distance = R * c\n",
        "\n",
        "print(\"Distance in meters:\", distance*1000)\n",
        "\n"
      ],
      "execution_count": null,
      "outputs": [
        {
          "output_type": "stream",
          "text": [
            "('Distance in meters:', 133.47846302651442)\n"
          ],
          "name": "stdout"
        }
      ]
    },
    {
      "cell_type": "markdown",
      "metadata": {
        "id": "7skB91SivLuz"
      },
      "source": [
        "# Finding costly host_names for a 'Entire home/apt' in the most popular locality:  \tWilliamsburg, Brooklyn"
      ]
    },
    {
      "cell_type": "code",
      "metadata": {
        "scrolled": true,
        "id": "xH36UxL_vLu1",
        "outputId": "e7043fa5-e6e2-4664-85d7-e72eb68dbd0d"
      },
      "source": [
        "df2 = df1[ df1['room_type']=='Entire home/apt']\n",
        "\n",
        "df3 = df2[ df2['neighbourhood_group']=='Brooklyn']\n",
        "\n",
        "#df4 = df3[ df3['host_name']=='Sonder (NYC)']\n",
        "\n",
        "#df3['neighbourhood'].value_counts()\n",
        "\n",
        "df4=df3[df3['neighbourhood']=='Williamsburg']\n",
        "\n",
        "df5 = df4[['id','name','host_name','host_id', 'price']].sort_values('price', ascending=False).head(10)\n",
        "#plt.figure(figsize=(30,20))\n",
        "df5.plot(kind='bar',x='host_name',y='price')\n",
        "\n",
        "plt.show()"
      ],
      "execution_count": null,
      "outputs": [
        {
          "output_type": "display_data",
          "data": {
            "image/png": "[encoded data removed]",
            "text/plain": [
              "<Figure size 432x288 with 1 Axes>"
            ]
          },
          "metadata": {
            "tags": [],
            "needs_background": "light"
          }
        }
      ]
    },
    {
      "cell_type": "markdown",
      "metadata": {
        "id": "HtamnE1jvLu7"
      },
      "source": [
        "# Same plot with name of property"
      ]
    },
    {
      "cell_type": "code",
      "metadata": {
        "id": "6UR5yjhPvLu9",
        "outputId": "4afacf70-7144-46b8-ab69-dc49dc467c32"
      },
      "source": [
        "df5.plot(kind='bar',x='name',y='price')\n",
        "plt.show()"
      ],
      "execution_count": null,
      "outputs": [
        {
          "output_type": "display_data",
          "data": {
            "image/png": "[encoded data removed]",
            "text/plain": [
              "<Figure size 432x288 with 1 Axes>"
            ]
          },
          "metadata": {
            "tags": [],
            "needs_background": "light"
          }
        }
      ]
    },
    {
      "cell_type": "code",
      "metadata": {
        "id": "N7dh4KievLvB"
      },
      "source": [
        ""
      ],
      "execution_count": null,
      "outputs": []
    },
    {
      "cell_type": "markdown",
      "metadata": {
        "id": "YlikHGHhvLvE"
      },
      "source": [
        "# Finding cheap host_names for a 'Entire home/apt' in the most popular locality:  \tWilliamsburg, Brooklyn"
      ]
    },
    {
      "cell_type": "code",
      "metadata": {
        "id": "-zmDmbt7vLvG",
        "outputId": "31151771-26d2-4243-c554-b5936e9dd2ba"
      },
      "source": [
        "df5 = df4[['id','name','host_name','host_id', 'price']].sort_values('price', ascending=False).tail(10)\n",
        "df5.plot(kind='bar',x='host_name',y='price')\n",
        "plt.show()"
      ],
      "execution_count": null,
      "outputs": [
        {
          "output_type": "display_data",
          "data": {
            "image/png": "[encoded data removed]",
            "text/plain": [
              "<Figure size 432x288 with 1 Axes>"
            ]
          },
          "metadata": {
            "tags": [],
            "needs_background": "light"
          }
        }
      ]
    },
    {
      "cell_type": "markdown",
      "metadata": {
        "id": "JxFCSlXavLvK"
      },
      "source": [
        "# Same plot with name of property"
      ]
    },
    {
      "cell_type": "code",
      "metadata": {
        "id": "p1QFU1qmvLvL",
        "outputId": "bb54c645-6ff7-44b4-9e53-70fc59cebc48"
      },
      "source": [
        "df5.plot(kind='bar',x='name',y='price')\n",
        "plt.show()"
      ],
      "execution_count": null,
      "outputs": [
        {
          "output_type": "display_data",
          "data": {
            "image/png": "[encoded data removed]",
            "text/plain": [
              "<Figure size 432x288 with 1 Axes>"
            ]
          },
          "metadata": {
            "tags": [],
            "needs_background": "light"
          }
        }
      ]
    },
    {
      "cell_type": "markdown",
      "metadata": {
        "id": "cwSM3mDxvLvN"
      },
      "source": [
        "# Pandas Profiling for automated EDA analysis\n",
        "# To install Pandas Profiling use following command\n",
        "# pip install pandas-profiling"
      ]
    },
    {
      "cell_type": "code",
      "metadata": {
        "scrolled": true,
        "id": "xOLvSVB7vLvO"
      },
      "source": [
        "# from pandas_profiling import ProfileReport\n",
        "# profile = ProfileReport(df1,title='Pandas Profiling Report')\n",
        "# profile"
      ],
      "execution_count": null,
      "outputs": []
    },
    {
      "cell_type": "markdown",
      "metadata": {
        "id": "GVCuBPkEvLvS"
      },
      "source": [
        "# Modelling"
      ]
    },
    {
      "cell_type": "markdown",
      "metadata": {
        "id": "Ypm1oaT0vLvS"
      },
      "source": [
        "# 1. DATA CLEANING : Removing unneessary columns (except 'host_id', neighbourhood_group',latitude', 'longitude', 'room_type', 'price')"
      ]
    },
    {
      "cell_type": "code",
      "metadata": {
        "id": "fpXnhzRbvLvS",
        "outputId": "b60679f7-7ad6-4911-f825-f206f1b8e6b8",
        "colab": {
          "base_uri": "https://localhost:8080/",
          "height": 124
        }
      },
      "source": [
        "df1.columns"
      ],
      "execution_count": 16,
      "outputs": [
        {
          "output_type": "execute_result",
          "data": {
            "text/plain": [
              "Index(['id', 'name', 'host_id', 'host_name', 'neighbourhood_group',\n",
              "       'neighbourhood', 'latitude', 'longitude', 'room_type', 'price',\n",
              "       'minimum_nights', 'number_of_reviews', 'last_review',\n",
              "       'reviews_per_month', 'calculated_host_listings_count',\n",
              "       'availability_365'],\n",
              "      dtype='object')"
            ]
          },
          "metadata": {
            "tags": []
          },
          "execution_count": 16
        }
      ]
    },
    {
      "cell_type": "code",
      "metadata": {
        "id": "cFwI2gP0vLvV",
        "outputId": "49c358ce-ba04-4584-e564-0ebaba7b3fd5",
        "colab": {
          "base_uri": "https://localhost:8080/",
          "height": 383
        }
      },
      "source": [
        "len(df1.neighbourhood.unique())\n",
        "location_stats = df1.groupby('neighbourhood')['neighbourhood'].agg('count').sort_values(ascending=False)\n",
        "len(location_stats[location_stats<=100])\n",
        "location_stats_lessthan_100 = location_stats[location_stats<=100]\n",
        "location_stats_lessthan_100 \n",
        "df1.neighbourhood = df1.neighbourhood.apply(lambda x: 'other' if x in location_stats_lessthan_100 else x )\n",
        "len(df1.neighbourhood.unique())\n",
        "df1.head()\n",
        "\n"
      ],
      "execution_count": 18,
      "outputs": [
        {
          "output_type": "execute_result",
          "data": {
            "text/html": [
              "<div>\n",
              "<style scoped>\n",
              "    .dataframe tbody tr th:only-of-type {\n",
              "        vertical-align: middle;\n",
              "    }\n",
              "\n",
              "    .dataframe tbody tr th {\n",
              "        vertical-align: top;\n",
              "    }\n",
              "\n",
              "    .dataframe thead th {\n",
              "        text-align: right;\n",
              "    }\n",
              "</style>\n",
              "<table border=\"1\" class=\"dataframe\">\n",
              "  <thead>\n",
              "    <tr style=\"text-align: right;\">\n",
              "      <th></th>\n",
              "      <th>id</th>\n",
              "      <th>name</th>\n",
              "      <th>host_id</th>\n",
              "      <th>host_name</th>\n",
              "      <th>neighbourhood_group</th>\n",
              "      <th>neighbourhood</th>\n",
              "      <th>latitude</th>\n",
              "      <th>longitude</th>\n",
              "      <th>room_type</th>\n",
              "      <th>price</th>\n",
              "      <th>minimum_nights</th>\n",
              "      <th>number_of_reviews</th>\n",
              "      <th>last_review</th>\n",
              "      <th>reviews_per_month</th>\n",
              "      <th>calculated_host_listings_count</th>\n",
              "      <th>availability_365</th>\n",
              "    </tr>\n",
              "  </thead>\n",
              "  <tbody>\n",
              "    <tr>\n",
              "      <th>0</th>\n",
              "      <td>5728806</td>\n",
              "      <td>Large private room in Nolita</td>\n",
              "      <td>4271676</td>\n",
              "      <td>Nat</td>\n",
              "      <td>Manhattan</td>\n",
              "      <td>Nolita</td>\n",
              "      <td>40.72217</td>\n",
              "      <td>-73.99481</td>\n",
              "      <td>Private room</td>\n",
              "      <td>120</td>\n",
              "      <td>7</td>\n",
              "      <td>3</td>\n",
              "      <td>2015-09-01</td>\n",
              "      <td>0.06</td>\n",
              "      <td>3</td>\n",
              "      <td>0</td>\n",
              "    </tr>\n",
              "    <tr>\n",
              "      <th>1</th>\n",
              "      <td>2243769</td>\n",
              "      <td>Super Bowl New York City Apartment</td>\n",
              "      <td>11460768</td>\n",
              "      <td>Brian</td>\n",
              "      <td>Manhattan</td>\n",
              "      <td>Upper West Side</td>\n",
              "      <td>40.80020</td>\n",
              "      <td>-73.96045</td>\n",
              "      <td>Entire home/apt</td>\n",
              "      <td>1500</td>\n",
              "      <td>1</td>\n",
              "      <td>0</td>\n",
              "      <td>NaN</td>\n",
              "      <td>NaN</td>\n",
              "      <td>1</td>\n",
              "      <td>0</td>\n",
              "    </tr>\n",
              "    <tr>\n",
              "      <th>2</th>\n",
              "      <td>35515415</td>\n",
              "      <td>COZY APT CLOSE TO LGA &amp; JFK AND TRANSPORTATION</td>\n",
              "      <td>267193767</td>\n",
              "      <td>Jenny</td>\n",
              "      <td>Queens</td>\n",
              "      <td>East Elmhurst</td>\n",
              "      <td>40.75558</td>\n",
              "      <td>-73.89316</td>\n",
              "      <td>Entire home/apt</td>\n",
              "      <td>200</td>\n",
              "      <td>2</td>\n",
              "      <td>4</td>\n",
              "      <td>2019-07-05</td>\n",
              "      <td>4.00</td>\n",
              "      <td>1</td>\n",
              "      <td>365</td>\n",
              "    </tr>\n",
              "    <tr>\n",
              "      <th>3</th>\n",
              "      <td>36202006</td>\n",
              "      <td>Stream-Pressed Paradise (Laundry Room Setup)</td>\n",
              "      <td>43392243</td>\n",
              "      <td>Rita</td>\n",
              "      <td>Staten Island</td>\n",
              "      <td>other</td>\n",
              "      <td>40.60110</td>\n",
              "      <td>-74.07830</td>\n",
              "      <td>Shared room</td>\n",
              "      <td>30</td>\n",
              "      <td>2</td>\n",
              "      <td>0</td>\n",
              "      <td>NaN</td>\n",
              "      <td>NaN</td>\n",
              "      <td>4</td>\n",
              "      <td>82</td>\n",
              "    </tr>\n",
              "    <tr>\n",
              "      <th>4</th>\n",
              "      <td>3780951</td>\n",
              "      <td>Charming Harlem apartment</td>\n",
              "      <td>16065171</td>\n",
              "      <td>Gina</td>\n",
              "      <td>Manhattan</td>\n",
              "      <td>Harlem</td>\n",
              "      <td>40.81022</td>\n",
              "      <td>-73.94266</td>\n",
              "      <td>Shared room</td>\n",
              "      <td>115</td>\n",
              "      <td>1</td>\n",
              "      <td>16</td>\n",
              "      <td>2019-05-26</td>\n",
              "      <td>0.27</td>\n",
              "      <td>1</td>\n",
              "      <td>365</td>\n",
              "    </tr>\n",
              "  </tbody>\n",
              "</table>\n",
              "</div>"
            ],
            "text/plain": [
              "         id  ... availability_365\n",
              "0   5728806  ...                0\n",
              "1   2243769  ...                0\n",
              "2  35515415  ...              365\n",
              "3  36202006  ...               82\n",
              "4   3780951  ...              365\n",
              "\n",
              "[5 rows x 16 columns]"
            ]
          },
          "metadata": {
            "tags": []
          },
          "execution_count": 18
        }
      ]
    },
    {
      "cell_type": "code",
      "metadata": {
        "id": "g1Id_Y9SvLva",
        "outputId": "d231da70-0bec-4cef-9455-300621cbe1df",
        "colab": {
          "base_uri": "https://localhost:8080/",
          "height": 35
        }
      },
      "source": [
        "X_enc_rt = pd.get_dummies(df1.room_type, prefix='Roomtype')\n",
        "X_enc_rt.head()\n",
        "X_enc_nhg = pd.get_dummies(df1.neighbourhood_group, prefix='NBG')\n",
        "X_enc_nh = pd.get_dummies(df1.neighbourhood, prefix='NB')\n",
        "\n",
        "df11 = pd.concat([df1, X_enc_rt.drop('Roomtype_Shared room',axis='columns')], axis=1)\n",
        "df11 = pd.concat([df11, X_enc_nhg.drop('NBG_Staten Island',axis='columns')], axis=1)\n",
        "df11 = pd.concat([df11, X_enc_nh.drop('NB_other',axis='columns')], axis=1)\n",
        "df11.shape\n",
        "\n"
      ],
      "execution_count": 19,
      "outputs": [
        {
          "output_type": "execute_result",
          "data": {
            "text/plain": [
              "(34226, 81)"
            ]
          },
          "metadata": {
            "tags": []
          },
          "execution_count": 19
        }
      ]
    },
    {
      "cell_type": "code",
      "metadata": {
        "id": "saMkr5VbvLvd"
      },
      "source": [
        "#df2=df1.drop(['id', 'name', 'host_name', 'neighbourhood_group',\n",
        "#       'neighbourhood','minimum_nights', 'number_of_reviews', 'last_review',\n",
        "#       'reviews_per_month', 'calculated_host_listings_count',\n",
        "#       'availability_365'], axis='columns')\n",
        "# did not work we can only drop 8 columns at a time"
      ],
      "execution_count": 20,
      "outputs": []
    },
    {
      "cell_type": "code",
      "metadata": {
        "id": "FM-_ezSVvLvh",
        "outputId": "b682d145-8f0e-4d0a-f329-0b0a3dfc950b",
        "colab": {
          "base_uri": "https://localhost:8080/",
          "height": 35
        }
      },
      "source": [
        "df2=df11.drop(['id', 'name', 'host_name',\n",
        "       'neighbourhood','minimum_nights', 'number_of_reviews'], axis='columns')\n",
        "df2.shape"
      ],
      "execution_count": 21,
      "outputs": [
        {
          "output_type": "execute_result",
          "data": {
            "text/plain": [
              "(34226, 75)"
            ]
          },
          "metadata": {
            "tags": []
          },
          "execution_count": 21
        }
      ]
    },
    {
      "cell_type": "code",
      "metadata": {
        "id": "UNQXni-EvLvj"
      },
      "source": [
        "df3=df2.drop(['last_review','reviews_per_month', 'calculated_host_listings_count','availability_365'], axis='columns')"
      ],
      "execution_count": 22,
      "outputs": []
    },
    {
      "cell_type": "code",
      "metadata": {
        "id": "6NgMkGwFvLvm",
        "outputId": "41ec9b35-764c-41cd-f73b-b64a29c78888",
        "colab": {
          "base_uri": "https://localhost:8080/",
          "height": 35
        }
      },
      "source": [
        "df3.shape\n",
        "#df2.columns"
      ],
      "execution_count": 23,
      "outputs": [
        {
          "output_type": "execute_result",
          "data": {
            "text/plain": [
              "(34226, 71)"
            ]
          },
          "metadata": {
            "tags": []
          },
          "execution_count": 23
        }
      ]
    },
    {
      "cell_type": "code",
      "metadata": {
        "id": "prAUhT3bvLvo",
        "outputId": "6f721603-a21c-48d6-b331-b094447b6f51",
        "colab": {
          "base_uri": "https://localhost:8080/",
          "height": 231
        }
      },
      "source": [
        "df3.isnull().sum() # no null values in df3"
      ],
      "execution_count": 24,
      "outputs": [
        {
          "output_type": "execute_result",
          "data": {
            "text/plain": [
              "host_id                  0\n",
              "neighbourhood_group      0\n",
              "latitude                 0\n",
              "longitude                0\n",
              "room_type                0\n",
              "                        ..\n",
              "NB_Washington Heights    0\n",
              "NB_West Village          0\n",
              "NB_Williamsburg          0\n",
              "NB_Windsor Terrace       0\n",
              "NB_Woodside              0\n",
              "Length: 71, dtype: int64"
            ]
          },
          "metadata": {
            "tags": []
          },
          "execution_count": 24
        }
      ]
    },
    {
      "cell_type": "markdown",
      "metadata": {
        "id": "8Mhz7_tdvLvq"
      },
      "source": [
        "# dropping the column \"room_type\""
      ]
    },
    {
      "cell_type": "code",
      "metadata": {
        "id": "K7nmc-fuvLvr",
        "outputId": "67385705-404b-4327-bda7-301bfbfe9b08",
        "colab": {
          "base_uri": "https://localhost:8080/",
          "height": 261
        }
      },
      "source": [
        "df4 = df3.drop(['room_type'],axis='columns')\n",
        "df4.head()"
      ],
      "execution_count": 25,
      "outputs": [
        {
          "output_type": "execute_result",
          "data": {
            "text/html": [
              "<div>\n",
              "<style scoped>\n",
              "    .dataframe tbody tr th:only-of-type {\n",
              "        vertical-align: middle;\n",
              "    }\n",
              "\n",
              "    .dataframe tbody tr th {\n",
              "        vertical-align: top;\n",
              "    }\n",
              "\n",
              "    .dataframe thead th {\n",
              "        text-align: right;\n",
              "    }\n",
              "</style>\n",
              "<table border=\"1\" class=\"dataframe\">\n",
              "  <thead>\n",
              "    <tr style=\"text-align: right;\">\n",
              "      <th></th>\n",
              "      <th>host_id</th>\n",
              "      <th>neighbourhood_group</th>\n",
              "      <th>latitude</th>\n",
              "      <th>longitude</th>\n",
              "      <th>price</th>\n",
              "      <th>Roomtype_Entire home/apt</th>\n",
              "      <th>Roomtype_Private room</th>\n",
              "      <th>NBG_Bronx</th>\n",
              "      <th>NBG_Brooklyn</th>\n",
              "      <th>NBG_Manhattan</th>\n",
              "      <th>NBG_Queens</th>\n",
              "      <th>NB_Astoria</th>\n",
              "      <th>NB_Bay Ridge</th>\n",
              "      <th>NB_Bedford-Stuyvesant</th>\n",
              "      <th>NB_Boerum Hill</th>\n",
              "      <th>NB_Brooklyn Heights</th>\n",
              "      <th>NB_Bushwick</th>\n",
              "      <th>NB_Canarsie</th>\n",
              "      <th>NB_Carroll Gardens</th>\n",
              "      <th>NB_Chelsea</th>\n",
              "      <th>NB_Chinatown</th>\n",
              "      <th>NB_Clinton Hill</th>\n",
              "      <th>NB_Crown Heights</th>\n",
              "      <th>NB_Ditmars Steinway</th>\n",
              "      <th>NB_East Elmhurst</th>\n",
              "      <th>NB_East Flatbush</th>\n",
              "      <th>NB_East Harlem</th>\n",
              "      <th>NB_East New York</th>\n",
              "      <th>NB_East Village</th>\n",
              "      <th>NB_Elmhurst</th>\n",
              "      <th>NB_Financial District</th>\n",
              "      <th>NB_Flatbush</th>\n",
              "      <th>NB_Flushing</th>\n",
              "      <th>NB_Forest Hills</th>\n",
              "      <th>NB_Fort Greene</th>\n",
              "      <th>NB_Gowanus</th>\n",
              "      <th>NB_Gramercy</th>\n",
              "      <th>NB_Greenpoint</th>\n",
              "      <th>NB_Greenwich Village</th>\n",
              "      <th>NB_Harlem</th>\n",
              "      <th>NB_Hell's Kitchen</th>\n",
              "      <th>NB_Inwood</th>\n",
              "      <th>NB_Jackson Heights</th>\n",
              "      <th>NB_Jamaica</th>\n",
              "      <th>NB_Kensington</th>\n",
              "      <th>NB_Kips Bay</th>\n",
              "      <th>NB_Long Island City</th>\n",
              "      <th>NB_Lower East Side</th>\n",
              "      <th>NB_Midtown</th>\n",
              "      <th>NB_Morningside Heights</th>\n",
              "      <th>NB_Murray Hill</th>\n",
              "      <th>NB_Nolita</th>\n",
              "      <th>NB_Park Slope</th>\n",
              "      <th>NB_Prospect Heights</th>\n",
              "      <th>NB_Prospect-Lefferts Gardens</th>\n",
              "      <th>NB_Ridgewood</th>\n",
              "      <th>NB_Sheepshead Bay</th>\n",
              "      <th>NB_SoHo</th>\n",
              "      <th>NB_South Slope</th>\n",
              "      <th>NB_Sunnyside</th>\n",
              "      <th>NB_Sunset Park</th>\n",
              "      <th>NB_Theater District</th>\n",
              "      <th>NB_Tribeca</th>\n",
              "      <th>NB_Upper East Side</th>\n",
              "      <th>NB_Upper West Side</th>\n",
              "      <th>NB_Washington Heights</th>\n",
              "      <th>NB_West Village</th>\n",
              "      <th>NB_Williamsburg</th>\n",
              "      <th>NB_Windsor Terrace</th>\n",
              "      <th>NB_Woodside</th>\n",
              "    </tr>\n",
              "  </thead>\n",
              "  <tbody>\n",
              "    <tr>\n",
              "      <th>0</th>\n",
              "      <td>4271676</td>\n",
              "      <td>Manhattan</td>\n",
              "      <td>40.72217</td>\n",
              "      <td>-73.99481</td>\n",
              "      <td>120</td>\n",
              "      <td>0</td>\n",
              "      <td>1</td>\n",
              "      <td>0</td>\n",
              "      <td>0</td>\n",
              "      <td>1</td>\n",
              "      <td>0</td>\n",
              "      <td>0</td>\n",
              "      <td>0</td>\n",
              "      <td>0</td>\n",
              "      <td>0</td>\n",
              "      <td>0</td>\n",
              "      <td>0</td>\n",
              "      <td>0</td>\n",
              "      <td>0</td>\n",
              "      <td>0</td>\n",
              "      <td>0</td>\n",
              "      <td>0</td>\n",
              "      <td>0</td>\n",
              "      <td>0</td>\n",
              "      <td>0</td>\n",
              "      <td>0</td>\n",
              "      <td>0</td>\n",
              "      <td>0</td>\n",
              "      <td>0</td>\n",
              "      <td>0</td>\n",
              "      <td>0</td>\n",
              "      <td>0</td>\n",
              "      <td>0</td>\n",
              "      <td>0</td>\n",
              "      <td>0</td>\n",
              "      <td>0</td>\n",
              "      <td>0</td>\n",
              "      <td>0</td>\n",
              "      <td>0</td>\n",
              "      <td>0</td>\n",
              "      <td>0</td>\n",
              "      <td>0</td>\n",
              "      <td>0</td>\n",
              "      <td>0</td>\n",
              "      <td>0</td>\n",
              "      <td>0</td>\n",
              "      <td>0</td>\n",
              "      <td>0</td>\n",
              "      <td>0</td>\n",
              "      <td>0</td>\n",
              "      <td>0</td>\n",
              "      <td>1</td>\n",
              "      <td>0</td>\n",
              "      <td>0</td>\n",
              "      <td>0</td>\n",
              "      <td>0</td>\n",
              "      <td>0</td>\n",
              "      <td>0</td>\n",
              "      <td>0</td>\n",
              "      <td>0</td>\n",
              "      <td>0</td>\n",
              "      <td>0</td>\n",
              "      <td>0</td>\n",
              "      <td>0</td>\n",
              "      <td>0</td>\n",
              "      <td>0</td>\n",
              "      <td>0</td>\n",
              "      <td>0</td>\n",
              "      <td>0</td>\n",
              "      <td>0</td>\n",
              "    </tr>\n",
              "    <tr>\n",
              "      <th>1</th>\n",
              "      <td>11460768</td>\n",
              "      <td>Manhattan</td>\n",
              "      <td>40.80020</td>\n",
              "      <td>-73.96045</td>\n",
              "      <td>1500</td>\n",
              "      <td>1</td>\n",
              "      <td>0</td>\n",
              "      <td>0</td>\n",
              "      <td>0</td>\n",
              "      <td>1</td>\n",
              "      <td>0</td>\n",
              "      <td>0</td>\n",
              "      <td>0</td>\n",
              "      <td>0</td>\n",
              "      <td>0</td>\n",
              "      <td>0</td>\n",
              "      <td>0</td>\n",
              "      <td>0</td>\n",
              "      <td>0</td>\n",
              "      <td>0</td>\n",
              "      <td>0</td>\n",
              "      <td>0</td>\n",
              "      <td>0</td>\n",
              "      <td>0</td>\n",
              "      <td>0</td>\n",
              "      <td>0</td>\n",
              "      <td>0</td>\n",
              "      <td>0</td>\n",
              "      <td>0</td>\n",
              "      <td>0</td>\n",
              "      <td>0</td>\n",
              "      <td>0</td>\n",
              "      <td>0</td>\n",
              "      <td>0</td>\n",
              "      <td>0</td>\n",
              "      <td>0</td>\n",
              "      <td>0</td>\n",
              "      <td>0</td>\n",
              "      <td>0</td>\n",
              "      <td>0</td>\n",
              "      <td>0</td>\n",
              "      <td>0</td>\n",
              "      <td>0</td>\n",
              "      <td>0</td>\n",
              "      <td>0</td>\n",
              "      <td>0</td>\n",
              "      <td>0</td>\n",
              "      <td>0</td>\n",
              "      <td>0</td>\n",
              "      <td>0</td>\n",
              "      <td>0</td>\n",
              "      <td>0</td>\n",
              "      <td>0</td>\n",
              "      <td>0</td>\n",
              "      <td>0</td>\n",
              "      <td>0</td>\n",
              "      <td>0</td>\n",
              "      <td>0</td>\n",
              "      <td>0</td>\n",
              "      <td>0</td>\n",
              "      <td>0</td>\n",
              "      <td>0</td>\n",
              "      <td>0</td>\n",
              "      <td>0</td>\n",
              "      <td>1</td>\n",
              "      <td>0</td>\n",
              "      <td>0</td>\n",
              "      <td>0</td>\n",
              "      <td>0</td>\n",
              "      <td>0</td>\n",
              "    </tr>\n",
              "    <tr>\n",
              "      <th>2</th>\n",
              "      <td>267193767</td>\n",
              "      <td>Queens</td>\n",
              "      <td>40.75558</td>\n",
              "      <td>-73.89316</td>\n",
              "      <td>200</td>\n",
              "      <td>1</td>\n",
              "      <td>0</td>\n",
              "      <td>0</td>\n",
              "      <td>0</td>\n",
              "      <td>0</td>\n",
              "      <td>1</td>\n",
              "      <td>0</td>\n",
              "      <td>0</td>\n",
              "      <td>0</td>\n",
              "      <td>0</td>\n",
              "      <td>0</td>\n",
              "      <td>0</td>\n",
              "      <td>0</td>\n",
              "      <td>0</td>\n",
              "      <td>0</td>\n",
              "      <td>0</td>\n",
              "      <td>0</td>\n",
              "      <td>0</td>\n",
              "      <td>0</td>\n",
              "      <td>1</td>\n",
              "      <td>0</td>\n",
              "      <td>0</td>\n",
              "      <td>0</td>\n",
              "      <td>0</td>\n",
              "      <td>0</td>\n",
              "      <td>0</td>\n",
              "      <td>0</td>\n",
              "      <td>0</td>\n",
              "      <td>0</td>\n",
              "      <td>0</td>\n",
              "      <td>0</td>\n",
              "      <td>0</td>\n",
              "      <td>0</td>\n",
              "      <td>0</td>\n",
              "      <td>0</td>\n",
              "      <td>0</td>\n",
              "      <td>0</td>\n",
              "      <td>0</td>\n",
              "      <td>0</td>\n",
              "      <td>0</td>\n",
              "      <td>0</td>\n",
              "      <td>0</td>\n",
              "      <td>0</td>\n",
              "      <td>0</td>\n",
              "      <td>0</td>\n",
              "      <td>0</td>\n",
              "      <td>0</td>\n",
              "      <td>0</td>\n",
              "      <td>0</td>\n",
              "      <td>0</td>\n",
              "      <td>0</td>\n",
              "      <td>0</td>\n",
              "      <td>0</td>\n",
              "      <td>0</td>\n",
              "      <td>0</td>\n",
              "      <td>0</td>\n",
              "      <td>0</td>\n",
              "      <td>0</td>\n",
              "      <td>0</td>\n",
              "      <td>0</td>\n",
              "      <td>0</td>\n",
              "      <td>0</td>\n",
              "      <td>0</td>\n",
              "      <td>0</td>\n",
              "      <td>0</td>\n",
              "    </tr>\n",
              "    <tr>\n",
              "      <th>3</th>\n",
              "      <td>43392243</td>\n",
              "      <td>Staten Island</td>\n",
              "      <td>40.60110</td>\n",
              "      <td>-74.07830</td>\n",
              "      <td>30</td>\n",
              "      <td>0</td>\n",
              "      <td>0</td>\n",
              "      <td>0</td>\n",
              "      <td>0</td>\n",
              "      <td>0</td>\n",
              "      <td>0</td>\n",
              "      <td>0</td>\n",
              "      <td>0</td>\n",
              "      <td>0</td>\n",
              "      <td>0</td>\n",
              "      <td>0</td>\n",
              "      <td>0</td>\n",
              "      <td>0</td>\n",
              "      <td>0</td>\n",
              "      <td>0</td>\n",
              "      <td>0</td>\n",
              "      <td>0</td>\n",
              "      <td>0</td>\n",
              "      <td>0</td>\n",
              "      <td>0</td>\n",
              "      <td>0</td>\n",
              "      <td>0</td>\n",
              "      <td>0</td>\n",
              "      <td>0</td>\n",
              "      <td>0</td>\n",
              "      <td>0</td>\n",
              "      <td>0</td>\n",
              "      <td>0</td>\n",
              "      <td>0</td>\n",
              "      <td>0</td>\n",
              "      <td>0</td>\n",
              "      <td>0</td>\n",
              "      <td>0</td>\n",
              "      <td>0</td>\n",
              "      <td>0</td>\n",
              "      <td>0</td>\n",
              "      <td>0</td>\n",
              "      <td>0</td>\n",
              "      <td>0</td>\n",
              "      <td>0</td>\n",
              "      <td>0</td>\n",
              "      <td>0</td>\n",
              "      <td>0</td>\n",
              "      <td>0</td>\n",
              "      <td>0</td>\n",
              "      <td>0</td>\n",
              "      <td>0</td>\n",
              "      <td>0</td>\n",
              "      <td>0</td>\n",
              "      <td>0</td>\n",
              "      <td>0</td>\n",
              "      <td>0</td>\n",
              "      <td>0</td>\n",
              "      <td>0</td>\n",
              "      <td>0</td>\n",
              "      <td>0</td>\n",
              "      <td>0</td>\n",
              "      <td>0</td>\n",
              "      <td>0</td>\n",
              "      <td>0</td>\n",
              "      <td>0</td>\n",
              "      <td>0</td>\n",
              "      <td>0</td>\n",
              "      <td>0</td>\n",
              "      <td>0</td>\n",
              "    </tr>\n",
              "    <tr>\n",
              "      <th>4</th>\n",
              "      <td>16065171</td>\n",
              "      <td>Manhattan</td>\n",
              "      <td>40.81022</td>\n",
              "      <td>-73.94266</td>\n",
              "      <td>115</td>\n",
              "      <td>0</td>\n",
              "      <td>0</td>\n",
              "      <td>0</td>\n",
              "      <td>0</td>\n",
              "      <td>1</td>\n",
              "      <td>0</td>\n",
              "      <td>0</td>\n",
              "      <td>0</td>\n",
              "      <td>0</td>\n",
              "      <td>0</td>\n",
              "      <td>0</td>\n",
              "      <td>0</td>\n",
              "      <td>0</td>\n",
              "      <td>0</td>\n",
              "      <td>0</td>\n",
              "      <td>0</td>\n",
              "      <td>0</td>\n",
              "      <td>0</td>\n",
              "      <td>0</td>\n",
              "      <td>0</td>\n",
              "      <td>0</td>\n",
              "      <td>0</td>\n",
              "      <td>0</td>\n",
              "      <td>0</td>\n",
              "      <td>0</td>\n",
              "      <td>0</td>\n",
              "      <td>0</td>\n",
              "      <td>0</td>\n",
              "      <td>0</td>\n",
              "      <td>0</td>\n",
              "      <td>0</td>\n",
              "      <td>0</td>\n",
              "      <td>0</td>\n",
              "      <td>0</td>\n",
              "      <td>1</td>\n",
              "      <td>0</td>\n",
              "      <td>0</td>\n",
              "      <td>0</td>\n",
              "      <td>0</td>\n",
              "      <td>0</td>\n",
              "      <td>0</td>\n",
              "      <td>0</td>\n",
              "      <td>0</td>\n",
              "      <td>0</td>\n",
              "      <td>0</td>\n",
              "      <td>0</td>\n",
              "      <td>0</td>\n",
              "      <td>0</td>\n",
              "      <td>0</td>\n",
              "      <td>0</td>\n",
              "      <td>0</td>\n",
              "      <td>0</td>\n",
              "      <td>0</td>\n",
              "      <td>0</td>\n",
              "      <td>0</td>\n",
              "      <td>0</td>\n",
              "      <td>0</td>\n",
              "      <td>0</td>\n",
              "      <td>0</td>\n",
              "      <td>0</td>\n",
              "      <td>0</td>\n",
              "      <td>0</td>\n",
              "      <td>0</td>\n",
              "      <td>0</td>\n",
              "      <td>0</td>\n",
              "    </tr>\n",
              "  </tbody>\n",
              "</table>\n",
              "</div>"
            ],
            "text/plain": [
              "     host_id neighbourhood_group  ...  NB_Windsor Terrace  NB_Woodside\n",
              "0    4271676           Manhattan  ...                   0            0\n",
              "1   11460768           Manhattan  ...                   0            0\n",
              "2  267193767              Queens  ...                   0            0\n",
              "3   43392243       Staten Island  ...                   0            0\n",
              "4   16065171           Manhattan  ...                   0            0\n",
              "\n",
              "[5 rows x 70 columns]"
            ]
          },
          "metadata": {
            "tags": []
          },
          "execution_count": 25
        }
      ]
    },
    {
      "cell_type": "markdown",
      "metadata": {
        "id": "n1g8fWgFvLvv"
      },
      "source": [
        "# 2 REMOVING OUTLIERS"
      ]
    },
    {
      "cell_type": "code",
      "metadata": {
        "id": "ivK0OsvhvLvv",
        "outputId": "ed58fc72-715c-4e25-91f8-821c023c02c4",
        "colab": {
          "base_uri": "https://localhost:8080/",
          "height": 355
        }
      },
      "source": [
        "df4.describe()"
      ],
      "execution_count": 26,
      "outputs": [
        {
          "output_type": "execute_result",
          "data": {
            "text/html": [
              "<div>\n",
              "<style scoped>\n",
              "    .dataframe tbody tr th:only-of-type {\n",
              "        vertical-align: middle;\n",
              "    }\n",
              "\n",
              "    .dataframe tbody tr th {\n",
              "        vertical-align: top;\n",
              "    }\n",
              "\n",
              "    .dataframe thead th {\n",
              "        text-align: right;\n",
              "    }\n",
              "</style>\n",
              "<table border=\"1\" class=\"dataframe\">\n",
              "  <thead>\n",
              "    <tr style=\"text-align: right;\">\n",
              "      <th></th>\n",
              "      <th>host_id</th>\n",
              "      <th>latitude</th>\n",
              "      <th>longitude</th>\n",
              "      <th>price</th>\n",
              "      <th>Roomtype_Entire home/apt</th>\n",
              "      <th>Roomtype_Private room</th>\n",
              "      <th>NBG_Bronx</th>\n",
              "      <th>NBG_Brooklyn</th>\n",
              "      <th>NBG_Manhattan</th>\n",
              "      <th>NBG_Queens</th>\n",
              "      <th>NB_Astoria</th>\n",
              "      <th>NB_Bay Ridge</th>\n",
              "      <th>NB_Bedford-Stuyvesant</th>\n",
              "      <th>NB_Boerum Hill</th>\n",
              "      <th>NB_Brooklyn Heights</th>\n",
              "      <th>NB_Bushwick</th>\n",
              "      <th>NB_Canarsie</th>\n",
              "      <th>NB_Carroll Gardens</th>\n",
              "      <th>NB_Chelsea</th>\n",
              "      <th>NB_Chinatown</th>\n",
              "      <th>NB_Clinton Hill</th>\n",
              "      <th>NB_Crown Heights</th>\n",
              "      <th>NB_Ditmars Steinway</th>\n",
              "      <th>NB_East Elmhurst</th>\n",
              "      <th>NB_East Flatbush</th>\n",
              "      <th>NB_East Harlem</th>\n",
              "      <th>NB_East New York</th>\n",
              "      <th>NB_East Village</th>\n",
              "      <th>NB_Elmhurst</th>\n",
              "      <th>NB_Financial District</th>\n",
              "      <th>NB_Flatbush</th>\n",
              "      <th>NB_Flushing</th>\n",
              "      <th>NB_Forest Hills</th>\n",
              "      <th>NB_Fort Greene</th>\n",
              "      <th>NB_Gowanus</th>\n",
              "      <th>NB_Gramercy</th>\n",
              "      <th>NB_Greenpoint</th>\n",
              "      <th>NB_Greenwich Village</th>\n",
              "      <th>NB_Harlem</th>\n",
              "      <th>NB_Hell's Kitchen</th>\n",
              "      <th>NB_Inwood</th>\n",
              "      <th>NB_Jackson Heights</th>\n",
              "      <th>NB_Jamaica</th>\n",
              "      <th>NB_Kensington</th>\n",
              "      <th>NB_Kips Bay</th>\n",
              "      <th>NB_Long Island City</th>\n",
              "      <th>NB_Lower East Side</th>\n",
              "      <th>NB_Midtown</th>\n",
              "      <th>NB_Morningside Heights</th>\n",
              "      <th>NB_Murray Hill</th>\n",
              "      <th>NB_Nolita</th>\n",
              "      <th>NB_Park Slope</th>\n",
              "      <th>NB_Prospect Heights</th>\n",
              "      <th>NB_Prospect-Lefferts Gardens</th>\n",
              "      <th>NB_Ridgewood</th>\n",
              "      <th>NB_Sheepshead Bay</th>\n",
              "      <th>NB_SoHo</th>\n",
              "      <th>NB_South Slope</th>\n",
              "      <th>NB_Sunnyside</th>\n",
              "      <th>NB_Sunset Park</th>\n",
              "      <th>NB_Theater District</th>\n",
              "      <th>NB_Tribeca</th>\n",
              "      <th>NB_Upper East Side</th>\n",
              "      <th>NB_Upper West Side</th>\n",
              "      <th>NB_Washington Heights</th>\n",
              "      <th>NB_West Village</th>\n",
              "      <th>NB_Williamsburg</th>\n",
              "      <th>NB_Windsor Terrace</th>\n",
              "      <th>NB_Woodside</th>\n",
              "    </tr>\n",
              "  </thead>\n",
              "  <tbody>\n",
              "    <tr>\n",
              "      <th>count</th>\n",
              "      <td>3.422600e+04</td>\n",
              "      <td>34226.000000</td>\n",
              "      <td>34226.000000</td>\n",
              "      <td>34226.000000</td>\n",
              "      <td>34226.000000</td>\n",
              "      <td>34226.000000</td>\n",
              "      <td>34226.000000</td>\n",
              "      <td>34226.000000</td>\n",
              "      <td>34226.000000</td>\n",
              "      <td>34226.000000</td>\n",
              "      <td>34226.000000</td>\n",
              "      <td>34226.000000</td>\n",
              "      <td>34226.000000</td>\n",
              "      <td>34226.000000</td>\n",
              "      <td>34226.000000</td>\n",
              "      <td>34226.000000</td>\n",
              "      <td>34226.000000</td>\n",
              "      <td>34226.000000</td>\n",
              "      <td>34226.000000</td>\n",
              "      <td>34226.000000</td>\n",
              "      <td>34226.000000</td>\n",
              "      <td>34226.000000</td>\n",
              "      <td>34226.000000</td>\n",
              "      <td>34226.000000</td>\n",
              "      <td>34226.000000</td>\n",
              "      <td>34226.000000</td>\n",
              "      <td>34226.000000</td>\n",
              "      <td>34226.000000</td>\n",
              "      <td>34226.000000</td>\n",
              "      <td>34226.000000</td>\n",
              "      <td>34226.000000</td>\n",
              "      <td>34226.000000</td>\n",
              "      <td>34226.000000</td>\n",
              "      <td>34226.000000</td>\n",
              "      <td>34226.000000</td>\n",
              "      <td>34226.000000</td>\n",
              "      <td>34226.000000</td>\n",
              "      <td>34226.000000</td>\n",
              "      <td>34226.000000</td>\n",
              "      <td>34226.000000</td>\n",
              "      <td>34226.000000</td>\n",
              "      <td>34226.000000</td>\n",
              "      <td>34226.000000</td>\n",
              "      <td>34226.000000</td>\n",
              "      <td>34226.000000</td>\n",
              "      <td>34226.000000</td>\n",
              "      <td>34226.000000</td>\n",
              "      <td>34226.000000</td>\n",
              "      <td>34226.000000</td>\n",
              "      <td>34226.000000</td>\n",
              "      <td>34226.000000</td>\n",
              "      <td>34226.000000</td>\n",
              "      <td>34226.000000</td>\n",
              "      <td>34226.000000</td>\n",
              "      <td>34226.000000</td>\n",
              "      <td>34226.000000</td>\n",
              "      <td>34226.000000</td>\n",
              "      <td>34226.000000</td>\n",
              "      <td>34226.000000</td>\n",
              "      <td>34226.000000</td>\n",
              "      <td>34226.000000</td>\n",
              "      <td>34226.000000</td>\n",
              "      <td>34226.000000</td>\n",
              "      <td>34226.000000</td>\n",
              "      <td>34226.000000</td>\n",
              "      <td>34226.000000</td>\n",
              "      <td>34226.000000</td>\n",
              "      <td>34226.000000</td>\n",
              "      <td>34226.000000</td>\n",
              "    </tr>\n",
              "    <tr>\n",
              "      <th>mean</th>\n",
              "      <td>6.733847e+07</td>\n",
              "      <td>40.729059</td>\n",
              "      <td>-73.952070</td>\n",
              "      <td>153.480979</td>\n",
              "      <td>0.520920</td>\n",
              "      <td>0.455619</td>\n",
              "      <td>0.022410</td>\n",
              "      <td>0.410010</td>\n",
              "      <td>0.443902</td>\n",
              "      <td>0.116432</td>\n",
              "      <td>0.018524</td>\n",
              "      <td>0.003185</td>\n",
              "      <td>0.075294</td>\n",
              "      <td>0.003769</td>\n",
              "      <td>0.003009</td>\n",
              "      <td>0.050225</td>\n",
              "      <td>0.003243</td>\n",
              "      <td>0.004646</td>\n",
              "      <td>0.023111</td>\n",
              "      <td>0.007626</td>\n",
              "      <td>0.012271</td>\n",
              "      <td>0.031701</td>\n",
              "      <td>0.006106</td>\n",
              "      <td>0.003827</td>\n",
              "      <td>0.010138</td>\n",
              "      <td>0.022147</td>\n",
              "      <td>0.004500</td>\n",
              "      <td>0.038246</td>\n",
              "      <td>0.004996</td>\n",
              "      <td>0.015135</td>\n",
              "      <td>0.012417</td>\n",
              "      <td>0.008794</td>\n",
              "      <td>0.003155</td>\n",
              "      <td>0.009876</td>\n",
              "      <td>0.005025</td>\n",
              "      <td>0.007158</td>\n",
              "      <td>0.021475</td>\n",
              "      <td>0.007860</td>\n",
              "      <td>0.054841</td>\n",
              "      <td>0.040408</td>\n",
              "      <td>0.005288</td>\n",
              "      <td>0.003944</td>\n",
              "      <td>0.004762</td>\n",
              "      <td>0.003769</td>\n",
              "      <td>0.009466</td>\n",
              "      <td>0.010927</td>\n",
              "      <td>0.019430</td>\n",
              "      <td>0.031292</td>\n",
              "      <td>0.006954</td>\n",
              "      <td>0.009642</td>\n",
              "      <td>0.004909</td>\n",
              "      <td>0.010314</td>\n",
              "      <td>0.007246</td>\n",
              "      <td>0.011073</td>\n",
              "      <td>0.008824</td>\n",
              "      <td>0.003272</td>\n",
              "      <td>0.007217</td>\n",
              "      <td>0.005902</td>\n",
              "      <td>0.007041</td>\n",
              "      <td>0.008122</td>\n",
              "      <td>0.006165</td>\n",
              "      <td>0.003477</td>\n",
              "      <td>0.036376</td>\n",
              "      <td>0.040992</td>\n",
              "      <td>0.018612</td>\n",
              "      <td>0.015252</td>\n",
              "      <td>0.080524</td>\n",
              "      <td>0.002980</td>\n",
              "      <td>0.004909</td>\n",
              "    </tr>\n",
              "    <tr>\n",
              "      <th>std</th>\n",
              "      <td>7.833091e+07</td>\n",
              "      <td>0.054604</td>\n",
              "      <td>0.046161</td>\n",
              "      <td>243.312608</td>\n",
              "      <td>0.499569</td>\n",
              "      <td>0.498034</td>\n",
              "      <td>0.148015</td>\n",
              "      <td>0.491842</td>\n",
              "      <td>0.496850</td>\n",
              "      <td>0.320747</td>\n",
              "      <td>0.134838</td>\n",
              "      <td>0.056344</td>\n",
              "      <td>0.263868</td>\n",
              "      <td>0.061278</td>\n",
              "      <td>0.054776</td>\n",
              "      <td>0.218412</td>\n",
              "      <td>0.056857</td>\n",
              "      <td>0.068001</td>\n",
              "      <td>0.150259</td>\n",
              "      <td>0.086993</td>\n",
              "      <td>0.110096</td>\n",
              "      <td>0.175206</td>\n",
              "      <td>0.077906</td>\n",
              "      <td>0.061749</td>\n",
              "      <td>0.100180</td>\n",
              "      <td>0.147163</td>\n",
              "      <td>0.066928</td>\n",
              "      <td>0.191792</td>\n",
              "      <td>0.070508</td>\n",
              "      <td>0.122090</td>\n",
              "      <td>0.110741</td>\n",
              "      <td>0.093367</td>\n",
              "      <td>0.056086</td>\n",
              "      <td>0.098885</td>\n",
              "      <td>0.070713</td>\n",
              "      <td>0.084305</td>\n",
              "      <td>0.144963</td>\n",
              "      <td>0.088306</td>\n",
              "      <td>0.227674</td>\n",
              "      <td>0.196917</td>\n",
              "      <td>0.072530</td>\n",
              "      <td>0.062681</td>\n",
              "      <td>0.068847</td>\n",
              "      <td>0.061278</td>\n",
              "      <td>0.096836</td>\n",
              "      <td>0.103963</td>\n",
              "      <td>0.138032</td>\n",
              "      <td>0.174108</td>\n",
              "      <td>0.083100</td>\n",
              "      <td>0.097720</td>\n",
              "      <td>0.069890</td>\n",
              "      <td>0.101033</td>\n",
              "      <td>0.084815</td>\n",
              "      <td>0.104648</td>\n",
              "      <td>0.093521</td>\n",
              "      <td>0.057112</td>\n",
              "      <td>0.084646</td>\n",
              "      <td>0.076598</td>\n",
              "      <td>0.083618</td>\n",
              "      <td>0.089759</td>\n",
              "      <td>0.078276</td>\n",
              "      <td>0.058863</td>\n",
              "      <td>0.187226</td>\n",
              "      <td>0.198275</td>\n",
              "      <td>0.135151</td>\n",
              "      <td>0.122554</td>\n",
              "      <td>0.272106</td>\n",
              "      <td>0.054511</td>\n",
              "      <td>0.069890</td>\n",
              "    </tr>\n",
              "    <tr>\n",
              "      <th>min</th>\n",
              "      <td>2.438000e+03</td>\n",
              "      <td>40.499790</td>\n",
              "      <td>-74.244420</td>\n",
              "      <td>0.000000</td>\n",
              "      <td>0.000000</td>\n",
              "      <td>0.000000</td>\n",
              "      <td>0.000000</td>\n",
              "      <td>0.000000</td>\n",
              "      <td>0.000000</td>\n",
              "      <td>0.000000</td>\n",
              "      <td>0.000000</td>\n",
              "      <td>0.000000</td>\n",
              "      <td>0.000000</td>\n",
              "      <td>0.000000</td>\n",
              "      <td>0.000000</td>\n",
              "      <td>0.000000</td>\n",
              "      <td>0.000000</td>\n",
              "      <td>0.000000</td>\n",
              "      <td>0.000000</td>\n",
              "      <td>0.000000</td>\n",
              "      <td>0.000000</td>\n",
              "      <td>0.000000</td>\n",
              "      <td>0.000000</td>\n",
              "      <td>0.000000</td>\n",
              "      <td>0.000000</td>\n",
              "      <td>0.000000</td>\n",
              "      <td>0.000000</td>\n",
              "      <td>0.000000</td>\n",
              "      <td>0.000000</td>\n",
              "      <td>0.000000</td>\n",
              "      <td>0.000000</td>\n",
              "      <td>0.000000</td>\n",
              "      <td>0.000000</td>\n",
              "      <td>0.000000</td>\n",
              "      <td>0.000000</td>\n",
              "      <td>0.000000</td>\n",
              "      <td>0.000000</td>\n",
              "      <td>0.000000</td>\n",
              "      <td>0.000000</td>\n",
              "      <td>0.000000</td>\n",
              "      <td>0.000000</td>\n",
              "      <td>0.000000</td>\n",
              "      <td>0.000000</td>\n",
              "      <td>0.000000</td>\n",
              "      <td>0.000000</td>\n",
              "      <td>0.000000</td>\n",
              "      <td>0.000000</td>\n",
              "      <td>0.000000</td>\n",
              "      <td>0.000000</td>\n",
              "      <td>0.000000</td>\n",
              "      <td>0.000000</td>\n",
              "      <td>0.000000</td>\n",
              "      <td>0.000000</td>\n",
              "      <td>0.000000</td>\n",
              "      <td>0.000000</td>\n",
              "      <td>0.000000</td>\n",
              "      <td>0.000000</td>\n",
              "      <td>0.000000</td>\n",
              "      <td>0.000000</td>\n",
              "      <td>0.000000</td>\n",
              "      <td>0.000000</td>\n",
              "      <td>0.000000</td>\n",
              "      <td>0.000000</td>\n",
              "      <td>0.000000</td>\n",
              "      <td>0.000000</td>\n",
              "      <td>0.000000</td>\n",
              "      <td>0.000000</td>\n",
              "      <td>0.000000</td>\n",
              "      <td>0.000000</td>\n",
              "    </tr>\n",
              "    <tr>\n",
              "      <th>25%</th>\n",
              "      <td>7.824440e+06</td>\n",
              "      <td>40.690040</td>\n",
              "      <td>-73.983150</td>\n",
              "      <td>69.000000</td>\n",
              "      <td>0.000000</td>\n",
              "      <td>0.000000</td>\n",
              "      <td>0.000000</td>\n",
              "      <td>0.000000</td>\n",
              "      <td>0.000000</td>\n",
              "      <td>0.000000</td>\n",
              "      <td>0.000000</td>\n",
              "      <td>0.000000</td>\n",
              "      <td>0.000000</td>\n",
              "      <td>0.000000</td>\n",
              "      <td>0.000000</td>\n",
              "      <td>0.000000</td>\n",
              "      <td>0.000000</td>\n",
              "      <td>0.000000</td>\n",
              "      <td>0.000000</td>\n",
              "      <td>0.000000</td>\n",
              "      <td>0.000000</td>\n",
              "      <td>0.000000</td>\n",
              "      <td>0.000000</td>\n",
              "      <td>0.000000</td>\n",
              "      <td>0.000000</td>\n",
              "      <td>0.000000</td>\n",
              "      <td>0.000000</td>\n",
              "      <td>0.000000</td>\n",
              "      <td>0.000000</td>\n",
              "      <td>0.000000</td>\n",
              "      <td>0.000000</td>\n",
              "      <td>0.000000</td>\n",
              "      <td>0.000000</td>\n",
              "      <td>0.000000</td>\n",
              "      <td>0.000000</td>\n",
              "      <td>0.000000</td>\n",
              "      <td>0.000000</td>\n",
              "      <td>0.000000</td>\n",
              "      <td>0.000000</td>\n",
              "      <td>0.000000</td>\n",
              "      <td>0.000000</td>\n",
              "      <td>0.000000</td>\n",
              "      <td>0.000000</td>\n",
              "      <td>0.000000</td>\n",
              "      <td>0.000000</td>\n",
              "      <td>0.000000</td>\n",
              "      <td>0.000000</td>\n",
              "      <td>0.000000</td>\n",
              "      <td>0.000000</td>\n",
              "      <td>0.000000</td>\n",
              "      <td>0.000000</td>\n",
              "      <td>0.000000</td>\n",
              "      <td>0.000000</td>\n",
              "      <td>0.000000</td>\n",
              "      <td>0.000000</td>\n",
              "      <td>0.000000</td>\n",
              "      <td>0.000000</td>\n",
              "      <td>0.000000</td>\n",
              "      <td>0.000000</td>\n",
              "      <td>0.000000</td>\n",
              "      <td>0.000000</td>\n",
              "      <td>0.000000</td>\n",
              "      <td>0.000000</td>\n",
              "      <td>0.000000</td>\n",
              "      <td>0.000000</td>\n",
              "      <td>0.000000</td>\n",
              "      <td>0.000000</td>\n",
              "      <td>0.000000</td>\n",
              "      <td>0.000000</td>\n",
              "    </tr>\n",
              "    <tr>\n",
              "      <th>50%</th>\n",
              "      <td>3.065628e+07</td>\n",
              "      <td>40.722995</td>\n",
              "      <td>-73.955700</td>\n",
              "      <td>107.000000</td>\n",
              "      <td>1.000000</td>\n",
              "      <td>0.000000</td>\n",
              "      <td>0.000000</td>\n",
              "      <td>0.000000</td>\n",
              "      <td>0.000000</td>\n",
              "      <td>0.000000</td>\n",
              "      <td>0.000000</td>\n",
              "      <td>0.000000</td>\n",
              "      <td>0.000000</td>\n",
              "      <td>0.000000</td>\n",
              "      <td>0.000000</td>\n",
              "      <td>0.000000</td>\n",
              "      <td>0.000000</td>\n",
              "      <td>0.000000</td>\n",
              "      <td>0.000000</td>\n",
              "      <td>0.000000</td>\n",
              "      <td>0.000000</td>\n",
              "      <td>0.000000</td>\n",
              "      <td>0.000000</td>\n",
              "      <td>0.000000</td>\n",
              "      <td>0.000000</td>\n",
              "      <td>0.000000</td>\n",
              "      <td>0.000000</td>\n",
              "      <td>0.000000</td>\n",
              "      <td>0.000000</td>\n",
              "      <td>0.000000</td>\n",
              "      <td>0.000000</td>\n",
              "      <td>0.000000</td>\n",
              "      <td>0.000000</td>\n",
              "      <td>0.000000</td>\n",
              "      <td>0.000000</td>\n",
              "      <td>0.000000</td>\n",
              "      <td>0.000000</td>\n",
              "      <td>0.000000</td>\n",
              "      <td>0.000000</td>\n",
              "      <td>0.000000</td>\n",
              "      <td>0.000000</td>\n",
              "      <td>0.000000</td>\n",
              "      <td>0.000000</td>\n",
              "      <td>0.000000</td>\n",
              "      <td>0.000000</td>\n",
              "      <td>0.000000</td>\n",
              "      <td>0.000000</td>\n",
              "      <td>0.000000</td>\n",
              "      <td>0.000000</td>\n",
              "      <td>0.000000</td>\n",
              "      <td>0.000000</td>\n",
              "      <td>0.000000</td>\n",
              "      <td>0.000000</td>\n",
              "      <td>0.000000</td>\n",
              "      <td>0.000000</td>\n",
              "      <td>0.000000</td>\n",
              "      <td>0.000000</td>\n",
              "      <td>0.000000</td>\n",
              "      <td>0.000000</td>\n",
              "      <td>0.000000</td>\n",
              "      <td>0.000000</td>\n",
              "      <td>0.000000</td>\n",
              "      <td>0.000000</td>\n",
              "      <td>0.000000</td>\n",
              "      <td>0.000000</td>\n",
              "      <td>0.000000</td>\n",
              "      <td>0.000000</td>\n",
              "      <td>0.000000</td>\n",
              "      <td>0.000000</td>\n",
              "    </tr>\n",
              "    <tr>\n",
              "      <th>75%</th>\n",
              "      <td>1.074344e+08</td>\n",
              "      <td>40.763200</td>\n",
              "      <td>-73.935982</td>\n",
              "      <td>175.000000</td>\n",
              "      <td>1.000000</td>\n",
              "      <td>1.000000</td>\n",
              "      <td>0.000000</td>\n",
              "      <td>1.000000</td>\n",
              "      <td>1.000000</td>\n",
              "      <td>0.000000</td>\n",
              "      <td>0.000000</td>\n",
              "      <td>0.000000</td>\n",
              "      <td>0.000000</td>\n",
              "      <td>0.000000</td>\n",
              "      <td>0.000000</td>\n",
              "      <td>0.000000</td>\n",
              "      <td>0.000000</td>\n",
              "      <td>0.000000</td>\n",
              "      <td>0.000000</td>\n",
              "      <td>0.000000</td>\n",
              "      <td>0.000000</td>\n",
              "      <td>0.000000</td>\n",
              "      <td>0.000000</td>\n",
              "      <td>0.000000</td>\n",
              "      <td>0.000000</td>\n",
              "      <td>0.000000</td>\n",
              "      <td>0.000000</td>\n",
              "      <td>0.000000</td>\n",
              "      <td>0.000000</td>\n",
              "      <td>0.000000</td>\n",
              "      <td>0.000000</td>\n",
              "      <td>0.000000</td>\n",
              "      <td>0.000000</td>\n",
              "      <td>0.000000</td>\n",
              "      <td>0.000000</td>\n",
              "      <td>0.000000</td>\n",
              "      <td>0.000000</td>\n",
              "      <td>0.000000</td>\n",
              "      <td>0.000000</td>\n",
              "      <td>0.000000</td>\n",
              "      <td>0.000000</td>\n",
              "      <td>0.000000</td>\n",
              "      <td>0.000000</td>\n",
              "      <td>0.000000</td>\n",
              "      <td>0.000000</td>\n",
              "      <td>0.000000</td>\n",
              "      <td>0.000000</td>\n",
              "      <td>0.000000</td>\n",
              "      <td>0.000000</td>\n",
              "      <td>0.000000</td>\n",
              "      <td>0.000000</td>\n",
              "      <td>0.000000</td>\n",
              "      <td>0.000000</td>\n",
              "      <td>0.000000</td>\n",
              "      <td>0.000000</td>\n",
              "      <td>0.000000</td>\n",
              "      <td>0.000000</td>\n",
              "      <td>0.000000</td>\n",
              "      <td>0.000000</td>\n",
              "      <td>0.000000</td>\n",
              "      <td>0.000000</td>\n",
              "      <td>0.000000</td>\n",
              "      <td>0.000000</td>\n",
              "      <td>0.000000</td>\n",
              "      <td>0.000000</td>\n",
              "      <td>0.000000</td>\n",
              "      <td>0.000000</td>\n",
              "      <td>0.000000</td>\n",
              "      <td>0.000000</td>\n",
              "    </tr>\n",
              "    <tr>\n",
              "      <th>max</th>\n",
              "      <td>2.743115e+08</td>\n",
              "      <td>40.913060</td>\n",
              "      <td>-73.712990</td>\n",
              "      <td>10000.000000</td>\n",
              "      <td>1.000000</td>\n",
              "      <td>1.000000</td>\n",
              "      <td>1.000000</td>\n",
              "      <td>1.000000</td>\n",
              "      <td>1.000000</td>\n",
              "      <td>1.000000</td>\n",
              "      <td>1.000000</td>\n",
              "      <td>1.000000</td>\n",
              "      <td>1.000000</td>\n",
              "      <td>1.000000</td>\n",
              "      <td>1.000000</td>\n",
              "      <td>1.000000</td>\n",
              "      <td>1.000000</td>\n",
              "      <td>1.000000</td>\n",
              "      <td>1.000000</td>\n",
              "      <td>1.000000</td>\n",
              "      <td>1.000000</td>\n",
              "      <td>1.000000</td>\n",
              "      <td>1.000000</td>\n",
              "      <td>1.000000</td>\n",
              "      <td>1.000000</td>\n",
              "      <td>1.000000</td>\n",
              "      <td>1.000000</td>\n",
              "      <td>1.000000</td>\n",
              "      <td>1.000000</td>\n",
              "      <td>1.000000</td>\n",
              "      <td>1.000000</td>\n",
              "      <td>1.000000</td>\n",
              "      <td>1.000000</td>\n",
              "      <td>1.000000</td>\n",
              "      <td>1.000000</td>\n",
              "      <td>1.000000</td>\n",
              "      <td>1.000000</td>\n",
              "      <td>1.000000</td>\n",
              "      <td>1.000000</td>\n",
              "      <td>1.000000</td>\n",
              "      <td>1.000000</td>\n",
              "      <td>1.000000</td>\n",
              "      <td>1.000000</td>\n",
              "      <td>1.000000</td>\n",
              "      <td>1.000000</td>\n",
              "      <td>1.000000</td>\n",
              "      <td>1.000000</td>\n",
              "      <td>1.000000</td>\n",
              "      <td>1.000000</td>\n",
              "      <td>1.000000</td>\n",
              "      <td>1.000000</td>\n",
              "      <td>1.000000</td>\n",
              "      <td>1.000000</td>\n",
              "      <td>1.000000</td>\n",
              "      <td>1.000000</td>\n",
              "      <td>1.000000</td>\n",
              "      <td>1.000000</td>\n",
              "      <td>1.000000</td>\n",
              "      <td>1.000000</td>\n",
              "      <td>1.000000</td>\n",
              "      <td>1.000000</td>\n",
              "      <td>1.000000</td>\n",
              "      <td>1.000000</td>\n",
              "      <td>1.000000</td>\n",
              "      <td>1.000000</td>\n",
              "      <td>1.000000</td>\n",
              "      <td>1.000000</td>\n",
              "      <td>1.000000</td>\n",
              "      <td>1.000000</td>\n",
              "    </tr>\n",
              "  </tbody>\n",
              "</table>\n",
              "</div>"
            ],
            "text/plain": [
              "            host_id      latitude  ...  NB_Windsor Terrace   NB_Woodside\n",
              "count  3.422600e+04  34226.000000  ...        34226.000000  34226.000000\n",
              "mean   6.733847e+07     40.729059  ...            0.002980      0.004909\n",
              "std    7.833091e+07      0.054604  ...            0.054511      0.069890\n",
              "min    2.438000e+03     40.499790  ...            0.000000      0.000000\n",
              "25%    7.824440e+06     40.690040  ...            0.000000      0.000000\n",
              "50%    3.065628e+07     40.722995  ...            0.000000      0.000000\n",
              "75%    1.074344e+08     40.763200  ...            0.000000      0.000000\n",
              "max    2.743115e+08     40.913060  ...            1.000000      1.000000\n",
              "\n",
              "[8 rows x 69 columns]"
            ]
          },
          "metadata": {
            "tags": []
          },
          "execution_count": 26
        }
      ]
    },
    {
      "cell_type": "code",
      "metadata": {
        "id": "-a4xbkErvLvx",
        "outputId": "3f191d21-eb84-44b6-9830-1c19278761b1",
        "colab": {
          "base_uri": "https://localhost:8080/",
          "height": 261
        }
      },
      "source": [
        "#def remove_price_outliers(df):\n",
        "#    df_out = pd.DataFrame()\n",
        "#    for key, subdf in df.groupby('neighbourhood_group'):\n",
        "#        m = np.mean(subdf.price)\n",
        "#        st = np.std(subdf.price)\n",
        "#        reduce_df=subdf[(subdf.price>(m-3*st)) & (subdf.price<=(m+3*st))]\n",
        "#        df_out= pd.concat([df_out,reduce_df],ignore_index=True)\n",
        "#        return df_out\n",
        "df5 = df4[df4.price < 250]\n",
        "df6 = df5[df5.price >= 35]\n",
        "#df6 = remove_price_outliers(df5)\n",
        "df6.head()\n"
      ],
      "execution_count": 29,
      "outputs": [
        {
          "output_type": "execute_result",
          "data": {
            "text/html": [
              "<div>\n",
              "<style scoped>\n",
              "    .dataframe tbody tr th:only-of-type {\n",
              "        vertical-align: middle;\n",
              "    }\n",
              "\n",
              "    .dataframe tbody tr th {\n",
              "        vertical-align: top;\n",
              "    }\n",
              "\n",
              "    .dataframe thead th {\n",
              "        text-align: right;\n",
              "    }\n",
              "</style>\n",
              "<table border=\"1\" class=\"dataframe\">\n",
              "  <thead>\n",
              "    <tr style=\"text-align: right;\">\n",
              "      <th></th>\n",
              "      <th>host_id</th>\n",
              "      <th>neighbourhood_group</th>\n",
              "      <th>latitude</th>\n",
              "      <th>longitude</th>\n",
              "      <th>price</th>\n",
              "      <th>Roomtype_Entire home/apt</th>\n",
              "      <th>Roomtype_Private room</th>\n",
              "      <th>NBG_Bronx</th>\n",
              "      <th>NBG_Brooklyn</th>\n",
              "      <th>NBG_Manhattan</th>\n",
              "      <th>NBG_Queens</th>\n",
              "      <th>NB_Astoria</th>\n",
              "      <th>NB_Bay Ridge</th>\n",
              "      <th>NB_Bedford-Stuyvesant</th>\n",
              "      <th>NB_Boerum Hill</th>\n",
              "      <th>NB_Brooklyn Heights</th>\n",
              "      <th>NB_Bushwick</th>\n",
              "      <th>NB_Canarsie</th>\n",
              "      <th>NB_Carroll Gardens</th>\n",
              "      <th>NB_Chelsea</th>\n",
              "      <th>NB_Chinatown</th>\n",
              "      <th>NB_Clinton Hill</th>\n",
              "      <th>NB_Crown Heights</th>\n",
              "      <th>NB_Ditmars Steinway</th>\n",
              "      <th>NB_East Elmhurst</th>\n",
              "      <th>NB_East Flatbush</th>\n",
              "      <th>NB_East Harlem</th>\n",
              "      <th>NB_East New York</th>\n",
              "      <th>NB_East Village</th>\n",
              "      <th>NB_Elmhurst</th>\n",
              "      <th>NB_Financial District</th>\n",
              "      <th>NB_Flatbush</th>\n",
              "      <th>NB_Flushing</th>\n",
              "      <th>NB_Forest Hills</th>\n",
              "      <th>NB_Fort Greene</th>\n",
              "      <th>NB_Gowanus</th>\n",
              "      <th>NB_Gramercy</th>\n",
              "      <th>NB_Greenpoint</th>\n",
              "      <th>NB_Greenwich Village</th>\n",
              "      <th>NB_Harlem</th>\n",
              "      <th>NB_Hell's Kitchen</th>\n",
              "      <th>NB_Inwood</th>\n",
              "      <th>NB_Jackson Heights</th>\n",
              "      <th>NB_Jamaica</th>\n",
              "      <th>NB_Kensington</th>\n",
              "      <th>NB_Kips Bay</th>\n",
              "      <th>NB_Long Island City</th>\n",
              "      <th>NB_Lower East Side</th>\n",
              "      <th>NB_Midtown</th>\n",
              "      <th>NB_Morningside Heights</th>\n",
              "      <th>NB_Murray Hill</th>\n",
              "      <th>NB_Nolita</th>\n",
              "      <th>NB_Park Slope</th>\n",
              "      <th>NB_Prospect Heights</th>\n",
              "      <th>NB_Prospect-Lefferts Gardens</th>\n",
              "      <th>NB_Ridgewood</th>\n",
              "      <th>NB_Sheepshead Bay</th>\n",
              "      <th>NB_SoHo</th>\n",
              "      <th>NB_South Slope</th>\n",
              "      <th>NB_Sunnyside</th>\n",
              "      <th>NB_Sunset Park</th>\n",
              "      <th>NB_Theater District</th>\n",
              "      <th>NB_Tribeca</th>\n",
              "      <th>NB_Upper East Side</th>\n",
              "      <th>NB_Upper West Side</th>\n",
              "      <th>NB_Washington Heights</th>\n",
              "      <th>NB_West Village</th>\n",
              "      <th>NB_Williamsburg</th>\n",
              "      <th>NB_Windsor Terrace</th>\n",
              "      <th>NB_Woodside</th>\n",
              "    </tr>\n",
              "  </thead>\n",
              "  <tbody>\n",
              "    <tr>\n",
              "      <th>0</th>\n",
              "      <td>4271676</td>\n",
              "      <td>Manhattan</td>\n",
              "      <td>40.72217</td>\n",
              "      <td>-73.99481</td>\n",
              "      <td>120</td>\n",
              "      <td>0</td>\n",
              "      <td>1</td>\n",
              "      <td>0</td>\n",
              "      <td>0</td>\n",
              "      <td>1</td>\n",
              "      <td>0</td>\n",
              "      <td>0</td>\n",
              "      <td>0</td>\n",
              "      <td>0</td>\n",
              "      <td>0</td>\n",
              "      <td>0</td>\n",
              "      <td>0</td>\n",
              "      <td>0</td>\n",
              "      <td>0</td>\n",
              "      <td>0</td>\n",
              "      <td>0</td>\n",
              "      <td>0</td>\n",
              "      <td>0</td>\n",
              "      <td>0</td>\n",
              "      <td>0</td>\n",
              "      <td>0</td>\n",
              "      <td>0</td>\n",
              "      <td>0</td>\n",
              "      <td>0</td>\n",
              "      <td>0</td>\n",
              "      <td>0</td>\n",
              "      <td>0</td>\n",
              "      <td>0</td>\n",
              "      <td>0</td>\n",
              "      <td>0</td>\n",
              "      <td>0</td>\n",
              "      <td>0</td>\n",
              "      <td>0</td>\n",
              "      <td>0</td>\n",
              "      <td>0</td>\n",
              "      <td>0</td>\n",
              "      <td>0</td>\n",
              "      <td>0</td>\n",
              "      <td>0</td>\n",
              "      <td>0</td>\n",
              "      <td>0</td>\n",
              "      <td>0</td>\n",
              "      <td>0</td>\n",
              "      <td>0</td>\n",
              "      <td>0</td>\n",
              "      <td>0</td>\n",
              "      <td>1</td>\n",
              "      <td>0</td>\n",
              "      <td>0</td>\n",
              "      <td>0</td>\n",
              "      <td>0</td>\n",
              "      <td>0</td>\n",
              "      <td>0</td>\n",
              "      <td>0</td>\n",
              "      <td>0</td>\n",
              "      <td>0</td>\n",
              "      <td>0</td>\n",
              "      <td>0</td>\n",
              "      <td>0</td>\n",
              "      <td>0</td>\n",
              "      <td>0</td>\n",
              "      <td>0</td>\n",
              "      <td>0</td>\n",
              "      <td>0</td>\n",
              "      <td>0</td>\n",
              "    </tr>\n",
              "    <tr>\n",
              "      <th>2</th>\n",
              "      <td>267193767</td>\n",
              "      <td>Queens</td>\n",
              "      <td>40.75558</td>\n",
              "      <td>-73.89316</td>\n",
              "      <td>200</td>\n",
              "      <td>1</td>\n",
              "      <td>0</td>\n",
              "      <td>0</td>\n",
              "      <td>0</td>\n",
              "      <td>0</td>\n",
              "      <td>1</td>\n",
              "      <td>0</td>\n",
              "      <td>0</td>\n",
              "      <td>0</td>\n",
              "      <td>0</td>\n",
              "      <td>0</td>\n",
              "      <td>0</td>\n",
              "      <td>0</td>\n",
              "      <td>0</td>\n",
              "      <td>0</td>\n",
              "      <td>0</td>\n",
              "      <td>0</td>\n",
              "      <td>0</td>\n",
              "      <td>0</td>\n",
              "      <td>1</td>\n",
              "      <td>0</td>\n",
              "      <td>0</td>\n",
              "      <td>0</td>\n",
              "      <td>0</td>\n",
              "      <td>0</td>\n",
              "      <td>0</td>\n",
              "      <td>0</td>\n",
              "      <td>0</td>\n",
              "      <td>0</td>\n",
              "      <td>0</td>\n",
              "      <td>0</td>\n",
              "      <td>0</td>\n",
              "      <td>0</td>\n",
              "      <td>0</td>\n",
              "      <td>0</td>\n",
              "      <td>0</td>\n",
              "      <td>0</td>\n",
              "      <td>0</td>\n",
              "      <td>0</td>\n",
              "      <td>0</td>\n",
              "      <td>0</td>\n",
              "      <td>0</td>\n",
              "      <td>0</td>\n",
              "      <td>0</td>\n",
              "      <td>0</td>\n",
              "      <td>0</td>\n",
              "      <td>0</td>\n",
              "      <td>0</td>\n",
              "      <td>0</td>\n",
              "      <td>0</td>\n",
              "      <td>0</td>\n",
              "      <td>0</td>\n",
              "      <td>0</td>\n",
              "      <td>0</td>\n",
              "      <td>0</td>\n",
              "      <td>0</td>\n",
              "      <td>0</td>\n",
              "      <td>0</td>\n",
              "      <td>0</td>\n",
              "      <td>0</td>\n",
              "      <td>0</td>\n",
              "      <td>0</td>\n",
              "      <td>0</td>\n",
              "      <td>0</td>\n",
              "      <td>0</td>\n",
              "    </tr>\n",
              "    <tr>\n",
              "      <th>4</th>\n",
              "      <td>16065171</td>\n",
              "      <td>Manhattan</td>\n",
              "      <td>40.81022</td>\n",
              "      <td>-73.94266</td>\n",
              "      <td>115</td>\n",
              "      <td>0</td>\n",
              "      <td>0</td>\n",
              "      <td>0</td>\n",
              "      <td>0</td>\n",
              "      <td>1</td>\n",
              "      <td>0</td>\n",
              "      <td>0</td>\n",
              "      <td>0</td>\n",
              "      <td>0</td>\n",
              "      <td>0</td>\n",
              "      <td>0</td>\n",
              "      <td>0</td>\n",
              "      <td>0</td>\n",
              "      <td>0</td>\n",
              "      <td>0</td>\n",
              "      <td>0</td>\n",
              "      <td>0</td>\n",
              "      <td>0</td>\n",
              "      <td>0</td>\n",
              "      <td>0</td>\n",
              "      <td>0</td>\n",
              "      <td>0</td>\n",
              "      <td>0</td>\n",
              "      <td>0</td>\n",
              "      <td>0</td>\n",
              "      <td>0</td>\n",
              "      <td>0</td>\n",
              "      <td>0</td>\n",
              "      <td>0</td>\n",
              "      <td>0</td>\n",
              "      <td>0</td>\n",
              "      <td>0</td>\n",
              "      <td>0</td>\n",
              "      <td>0</td>\n",
              "      <td>1</td>\n",
              "      <td>0</td>\n",
              "      <td>0</td>\n",
              "      <td>0</td>\n",
              "      <td>0</td>\n",
              "      <td>0</td>\n",
              "      <td>0</td>\n",
              "      <td>0</td>\n",
              "      <td>0</td>\n",
              "      <td>0</td>\n",
              "      <td>0</td>\n",
              "      <td>0</td>\n",
              "      <td>0</td>\n",
              "      <td>0</td>\n",
              "      <td>0</td>\n",
              "      <td>0</td>\n",
              "      <td>0</td>\n",
              "      <td>0</td>\n",
              "      <td>0</td>\n",
              "      <td>0</td>\n",
              "      <td>0</td>\n",
              "      <td>0</td>\n",
              "      <td>0</td>\n",
              "      <td>0</td>\n",
              "      <td>0</td>\n",
              "      <td>0</td>\n",
              "      <td>0</td>\n",
              "      <td>0</td>\n",
              "      <td>0</td>\n",
              "      <td>0</td>\n",
              "      <td>0</td>\n",
              "    </tr>\n",
              "    <tr>\n",
              "      <th>5</th>\n",
              "      <td>51105827</td>\n",
              "      <td>Manhattan</td>\n",
              "      <td>40.71192</td>\n",
              "      <td>-74.01572</td>\n",
              "      <td>225</td>\n",
              "      <td>1</td>\n",
              "      <td>0</td>\n",
              "      <td>0</td>\n",
              "      <td>0</td>\n",
              "      <td>1</td>\n",
              "      <td>0</td>\n",
              "      <td>0</td>\n",
              "      <td>0</td>\n",
              "      <td>0</td>\n",
              "      <td>0</td>\n",
              "      <td>0</td>\n",
              "      <td>0</td>\n",
              "      <td>0</td>\n",
              "      <td>0</td>\n",
              "      <td>0</td>\n",
              "      <td>0</td>\n",
              "      <td>0</td>\n",
              "      <td>0</td>\n",
              "      <td>0</td>\n",
              "      <td>0</td>\n",
              "      <td>0</td>\n",
              "      <td>0</td>\n",
              "      <td>0</td>\n",
              "      <td>0</td>\n",
              "      <td>0</td>\n",
              "      <td>0</td>\n",
              "      <td>0</td>\n",
              "      <td>0</td>\n",
              "      <td>0</td>\n",
              "      <td>0</td>\n",
              "      <td>0</td>\n",
              "      <td>0</td>\n",
              "      <td>0</td>\n",
              "      <td>0</td>\n",
              "      <td>0</td>\n",
              "      <td>0</td>\n",
              "      <td>0</td>\n",
              "      <td>0</td>\n",
              "      <td>0</td>\n",
              "      <td>0</td>\n",
              "      <td>0</td>\n",
              "      <td>0</td>\n",
              "      <td>0</td>\n",
              "      <td>0</td>\n",
              "      <td>0</td>\n",
              "      <td>0</td>\n",
              "      <td>0</td>\n",
              "      <td>0</td>\n",
              "      <td>0</td>\n",
              "      <td>0</td>\n",
              "      <td>0</td>\n",
              "      <td>0</td>\n",
              "      <td>0</td>\n",
              "      <td>0</td>\n",
              "      <td>0</td>\n",
              "      <td>0</td>\n",
              "      <td>0</td>\n",
              "      <td>0</td>\n",
              "      <td>0</td>\n",
              "      <td>0</td>\n",
              "      <td>0</td>\n",
              "      <td>0</td>\n",
              "      <td>0</td>\n",
              "      <td>0</td>\n",
              "      <td>0</td>\n",
              "    </tr>\n",
              "    <tr>\n",
              "      <th>6</th>\n",
              "      <td>86892032</td>\n",
              "      <td>Queens</td>\n",
              "      <td>40.65766</td>\n",
              "      <td>-73.72838</td>\n",
              "      <td>60</td>\n",
              "      <td>1</td>\n",
              "      <td>0</td>\n",
              "      <td>0</td>\n",
              "      <td>0</td>\n",
              "      <td>0</td>\n",
              "      <td>1</td>\n",
              "      <td>0</td>\n",
              "      <td>0</td>\n",
              "      <td>0</td>\n",
              "      <td>0</td>\n",
              "      <td>0</td>\n",
              "      <td>0</td>\n",
              "      <td>0</td>\n",
              "      <td>0</td>\n",
              "      <td>0</td>\n",
              "      <td>0</td>\n",
              "      <td>0</td>\n",
              "      <td>0</td>\n",
              "      <td>0</td>\n",
              "      <td>0</td>\n",
              "      <td>0</td>\n",
              "      <td>0</td>\n",
              "      <td>0</td>\n",
              "      <td>0</td>\n",
              "      <td>0</td>\n",
              "      <td>0</td>\n",
              "      <td>0</td>\n",
              "      <td>0</td>\n",
              "      <td>0</td>\n",
              "      <td>0</td>\n",
              "      <td>0</td>\n",
              "      <td>0</td>\n",
              "      <td>0</td>\n",
              "      <td>0</td>\n",
              "      <td>0</td>\n",
              "      <td>0</td>\n",
              "      <td>0</td>\n",
              "      <td>0</td>\n",
              "      <td>0</td>\n",
              "      <td>0</td>\n",
              "      <td>0</td>\n",
              "      <td>0</td>\n",
              "      <td>0</td>\n",
              "      <td>0</td>\n",
              "      <td>0</td>\n",
              "      <td>0</td>\n",
              "      <td>0</td>\n",
              "      <td>0</td>\n",
              "      <td>0</td>\n",
              "      <td>0</td>\n",
              "      <td>0</td>\n",
              "      <td>0</td>\n",
              "      <td>0</td>\n",
              "      <td>0</td>\n",
              "      <td>0</td>\n",
              "      <td>0</td>\n",
              "      <td>0</td>\n",
              "      <td>0</td>\n",
              "      <td>0</td>\n",
              "      <td>0</td>\n",
              "      <td>0</td>\n",
              "      <td>0</td>\n",
              "      <td>0</td>\n",
              "      <td>0</td>\n",
              "      <td>0</td>\n",
              "    </tr>\n",
              "  </tbody>\n",
              "</table>\n",
              "</div>"
            ],
            "text/plain": [
              "     host_id neighbourhood_group  ...  NB_Windsor Terrace  NB_Woodside\n",
              "0    4271676           Manhattan  ...                   0            0\n",
              "2  267193767              Queens  ...                   0            0\n",
              "4   16065171           Manhattan  ...                   0            0\n",
              "5   51105827           Manhattan  ...                   0            0\n",
              "6   86892032              Queens  ...                   0            0\n",
              "\n",
              "[5 rows x 70 columns]"
            ]
          },
          "metadata": {
            "tags": []
          },
          "execution_count": 29
        }
      ]
    },
    {
      "cell_type": "code",
      "metadata": {
        "id": "XZenUaRCvLv0",
        "outputId": "59ee6101-1af4-4724-f055-d6f5eaaf975a",
        "colab": {
          "base_uri": "https://localhost:8080/",
          "height": 35
        }
      },
      "source": [
        "df7 = df6.drop(['neighbourhood_group'],axis='columns')\n",
        "df7.shape"
      ],
      "execution_count": 30,
      "outputs": [
        {
          "output_type": "execute_result",
          "data": {
            "text/plain": [
              "(29188, 69)"
            ]
          },
          "metadata": {
            "tags": []
          },
          "execution_count": 30
        }
      ]
    },
    {
      "cell_type": "markdown",
      "metadata": {
        "id": "tuuDpWCVvLv2"
      },
      "source": [
        "# 3 LINEAR REGRESSION"
      ]
    },
    {
      "cell_type": "code",
      "metadata": {
        "id": "CW9OGIK-vLv3",
        "outputId": "1dc9d299-8718-4ff3-e0f0-dd81cac2afe2",
        "colab": {
          "base_uri": "https://localhost:8080/",
          "height": 35
        }
      },
      "source": [
        "X=df7.drop('price', axis='columns')\n",
        "X.head()\n",
        "X.shape"
      ],
      "execution_count": 36,
      "outputs": [
        {
          "output_type": "execute_result",
          "data": {
            "text/plain": [
              "(29188, 68)"
            ]
          },
          "metadata": {
            "tags": []
          },
          "execution_count": 36
        }
      ]
    },
    {
      "cell_type": "code",
      "metadata": {
        "id": "SsX_P6q4vLv6",
        "outputId": "94641bcc-f559-4902-81fb-708ffa889760",
        "colab": {
          "base_uri": "https://localhost:8080/",
          "height": 35
        }
      },
      "source": [
        "y = df7.price\n",
        "#y = np.log(y)\n",
        "#y = y/250.0\n",
        "y = np.log(y)\n",
        "y.shape"
      ],
      "execution_count": 67,
      "outputs": [
        {
          "output_type": "execute_result",
          "data": {
            "text/plain": [
              "(29188,)"
            ]
          },
          "metadata": {
            "tags": []
          },
          "execution_count": 67
        }
      ]
    },
    {
      "cell_type": "code",
      "metadata": {
        "id": "MndMnFYYvLv7"
      },
      "source": [
        "from sklearn.model_selection import train_test_split\n",
        "X_train,X_test,y_train,y_test=train_test_split(X,y,test_size=0.2, random_state=1000)\n"
      ],
      "execution_count": 68,
      "outputs": []
    },
    {
      "cell_type": "code",
      "metadata": {
        "id": "Shm4DpG4vLwA",
        "outputId": "4ebfad66-9a8c-47b7-dd7d-b654aa362f56",
        "colab": {
          "base_uri": "https://localhost:8080/",
          "height": 35
        }
      },
      "source": [
        "from sklearn.linear_model import LinearRegression\n",
        "sklr = LinearRegression()\n",
        "sklr.fit(X_train,y_train)\n",
        "sklr.score(X_test,y_test)\n",
        "preds = sklr.predict(X_test)\n",
        "rmse = np.sqrt(mean_squared_error(y_test, preds))\n",
        "print(\"RMSE: %f\" % (rmse))"
      ],
      "execution_count": 69,
      "outputs": [
        {
          "output_type": "stream",
          "text": [
            "RMSE: 0.331959\n"
          ],
          "name": "stdout"
        }
      ]
    },
    {
      "cell_type": "code",
      "metadata": {
        "id": "0rxjlT0QvLwO",
        "outputId": "0864d024-9a26-4ca2-b12f-df756184ea1d",
        "colab": {
          "base_uri": "https://localhost:8080/",
          "height": 53
        }
      },
      "source": [
        "import xgboost as xgb\n",
        "from sklearn.metrics import mean_squared_error\n",
        "data_dmatrix = xgb.DMatrix(data=X,label=y)\n",
        "xg_reg = xgb.XGBRegressor(objective ='reg:linear', colsample_bytree = 0.3, learning_rate = 0.1,\n",
        "                max_depth = 5, alpha = 10, n_estimators = 10)\n",
        "xg_reg.fit(X_train,y_train)\n",
        "preds = xg_reg.predict(X_test)\n",
        "rmse = np.sqrt(mean_squared_error(y_test, preds))\n",
        "print(\"RMSE: %f\" % (10**rmse))"
      ],
      "execution_count": 63,
      "outputs": [
        {
          "output_type": "stream",
          "text": [
            "[07:50:20] WARNING: /workspace/src/objective/regression_obj.cu:152: reg:linear is now deprecated in favor of reg:squarederror.\n",
            "RMSE: 30.038535\n"
          ],
          "name": "stdout"
        }
      ]
    },
    {
      "cell_type": "markdown",
      "metadata": {
        "id": "vPkrJNhXvLwQ"
      },
      "source": [
        "# price outliers (price>25 and price<500). sklr.score = 0.2812380 ! very poor\n",
        "# price outliers (price>50 and price<300). sklr.score = 0.3319087 ! very poor\n",
        "# price outliers (price>60 and price<250). sklr.score = 0.2721123 ! very poor\n",
        "#\n",
        "# THE SCORE MUST BE > .80 the more closer to 1.0 the better it is!!!!"
      ]
    },
    {
      "cell_type": "markdown",
      "metadata": {
        "id": "mYL9rFbJvLwQ"
      },
      "source": [
        "# Will score imporve if host_id also removed?? (NO)"
      ]
    },
    {
      "cell_type": "code",
      "metadata": {
        "id": "D-zx98VCvLwR",
        "outputId": "9ee0b66e-e567-4e98-eac2-bdcd1485614d"
      },
      "source": [
        "X1=X.drop('host_id',axis='columns')\n",
        "X_train,X_test,y_train,y_test=train_test_split(X1,y,test_size=0.2, random_state=10)\n",
        "sklr = LinearRegression()\n",
        "sklr.fit(X_train,y_train)\n",
        "sklr.score(X_test,y_test)"
      ],
      "execution_count": null,
      "outputs": [
        {
          "output_type": "execute_result",
          "data": {
            "text/plain": [
              "0.5570932157811537"
            ]
          },
          "metadata": {
            "tags": []
          },
          "execution_count": 44
        }
      ]
    },
    {
      "cell_type": "markdown",
      "metadata": {
        "id": "mrXbPNSYvLwZ"
      },
      "source": [
        "# Guys this model did not work.\n",
        "# My first model failed !!!!!!!!!!"
      ]
    },
    {
      "cell_type": "markdown",
      "metadata": {
        "id": "NCuIuJSEvLwZ"
      },
      "source": [
        "# Finding the best model using 'sklearn' GridSearchCV"
      ]
    },
    {
      "cell_type": "code",
      "metadata": {
        "id": "mSxM9MyAvLwZ"
      },
      "source": [
        "from sklearn.model_selection import GridSearchCV"
      ],
      "execution_count": null,
      "outputs": []
    },
    {
      "cell_type": "code",
      "metadata": {
        "id": "gsXaG4m7vLwb"
      },
      "source": [
        "from sklearn.linear_model import Lasso\n",
        "from sklearn.tree import DecisionTreeRegressor\n",
        "from sklearn.model_selection import ShuffleSplit\n",
        "\n"
      ],
      "execution_count": null,
      "outputs": []
    },
    {
      "cell_type": "code",
      "metadata": {
        "id": "QkIQuM2DvLwh",
        "outputId": "ee8cb47c-41e6-4098-e27c-72db76547d68"
      },
      "source": [
        "def find_best_model_using_gridsearchcv(X,y):\n",
        "    algos = {\n",
        "        'linear_regression' :{\n",
        "            'model' : LinearRegression(),\n",
        "            'params': {\n",
        "                'normalize' : [True, False]\n",
        "            }\n",
        "        },\n",
        "        'lasso' : {\n",
        "            'model' : Lasso(),\n",
        "            'params': {\n",
        "                'alpha' : [1,2],\n",
        "                'selection' : ['random','cyclic']\n",
        "            }\n",
        "        },\n",
        "        'decision_tree' : {\n",
        "            'model' : DecisionTreeRegressor(),\n",
        "            'params' : {\n",
        "                'criterion' : ['mse', 'friedman_mse'],\n",
        "                'splitter'  : ['best','random']\n",
        "            }\n",
        "        }\n",
        "    }\n",
        "    scores = []\n",
        "    cv = ShuffleSplit(n_splits = 5, test_size = 0.2, random_state = 0 )\n",
        "    for algo_name, config in algos.items():\n",
        "        gs = GridSearchCV(config['model'],config['params'],cv=cv,return_train_score = False)\n",
        "        gs.fit(X,y)\n",
        "        scores.append({\n",
        "            'model' : algo_name,\n",
        "            'best_score' : gs.best_score_,\n",
        "            'best_params' : gs.best_params_,\n",
        "        })\n",
        "    return pd.DataFrame(scores,columns = ['model', 'best_score', 'best_params'])\n",
        "\n",
        "find_best_model_using_gridsearchcv(X,y)"
      ],
      "execution_count": null,
      "outputs": [
        {
          "output_type": "execute_result",
          "data": {
            "text/html": [
              "<div>\n",
              "<style scoped>\n",
              "    .dataframe tbody tr th:only-of-type {\n",
              "        vertical-align: middle;\n",
              "    }\n",
              "\n",
              "    .dataframe tbody tr th {\n",
              "        vertical-align: top;\n",
              "    }\n",
              "\n",
              "    .dataframe thead th {\n",
              "        text-align: right;\n",
              "    }\n",
              "</style>\n",
              "<table border=\"1\" class=\"dataframe\">\n",
              "  <thead>\n",
              "    <tr style=\"text-align: right;\">\n",
              "      <th></th>\n",
              "      <th>model</th>\n",
              "      <th>best_score</th>\n",
              "      <th>best_params</th>\n",
              "    </tr>\n",
              "  </thead>\n",
              "  <tbody>\n",
              "    <tr>\n",
              "      <th>0</th>\n",
              "      <td>linear_regression</td>\n",
              "      <td>0.557625</td>\n",
              "      <td>{u'normalize': False}</td>\n",
              "    </tr>\n",
              "    <tr>\n",
              "      <th>1</th>\n",
              "      <td>decision_tree</td>\n",
              "      <td>0.267050</td>\n",
              "      <td>{u'splitter': u'best', u'criterion': u'friedma...</td>\n",
              "    </tr>\n",
              "    <tr>\n",
              "      <th>2</th>\n",
              "      <td>lasso</td>\n",
              "      <td>0.007045</td>\n",
              "      <td>{u'alpha': 1, u'selection': u'random'}</td>\n",
              "    </tr>\n",
              "  </tbody>\n",
              "</table>\n",
              "</div>"
            ],
            "text/plain": [
              "               model  best_score  \\\n",
              "0  linear_regression    0.557625   \n",
              "1      decision_tree    0.267050   \n",
              "2              lasso    0.007045   \n",
              "\n",
              "                                         best_params  \n",
              "0                              {u'normalize': False}  \n",
              "1  {u'splitter': u'best', u'criterion': u'friedma...  \n",
              "2             {u'alpha': 1, u'selection': u'random'}  "
            ]
          },
          "metadata": {
            "tags": []
          },
          "execution_count": 47
        }
      ]
    },
    {
      "cell_type": "markdown",
      "metadata": {
        "id": "7MCWRUNLvLwj"
      },
      "source": [
        "# Linear Regression is the best sofar   "
      ]
    },
    {
      "cell_type": "code",
      "metadata": {
        "id": "6eFyBMrjvLwk"
      },
      "source": [
        ""
      ],
      "execution_count": null,
      "outputs": []
    }
  ]
}